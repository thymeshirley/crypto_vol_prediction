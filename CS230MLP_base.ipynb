{
 "cells": [
  {
   "cell_type": "code",
   "execution_count": 1,
   "metadata": {
    "id": "YbTK03QaYzIn"
   },
   "outputs": [],
   "source": [
    "import pandas as pd\n",
    "from urllib.request import Request, urlopen\n",
    "from tensorflow.keras.models import Sequential\n",
    "from tensorflow.keras.layers import Activation, Dense, Dropout\n",
    "import matplotlib.pyplot as plt\n",
    "import numpy as np\n",
    "import time\n",
    "import sys\n",
    "import re\n",
    "import seaborn as sns\n",
    "import gc\n",
    "from sklearn.model_selection import train_test_split\n",
    "import seaborn as sns\n",
    "import matplotlib.pyplot as plt\n",
    "import math\n",
    "import tensorflow as tf\n",
    "pd.set_option('display.max_rows', None)"
   ]
  },
  {
   "cell_type": "code",
   "execution_count": 2,
   "metadata": {},
   "outputs": [
    {
     "name": "stdout",
     "output_type": "stream",
     "text": [
      "Num GPUs Available:  1\n"
     ]
    },
    {
     "name": "stderr",
     "output_type": "stream",
     "text": [
      "2022-11-13 16:11:38.912770: I tensorflow/stream_executor/cuda/cuda_gpu_executor.cc:936] successful NUMA node read from SysFS had negative value (-1), but there must be at least one NUMA node, so returning NUMA node zero\n",
      "2022-11-13 16:11:38.977652: I tensorflow/stream_executor/cuda/cuda_gpu_executor.cc:936] successful NUMA node read from SysFS had negative value (-1), but there must be at least one NUMA node, so returning NUMA node zero\n",
      "2022-11-13 16:11:38.977843: I tensorflow/stream_executor/cuda/cuda_gpu_executor.cc:936] successful NUMA node read from SysFS had negative value (-1), but there must be at least one NUMA node, so returning NUMA node zero\n"
     ]
    }
   ],
   "source": [
    "print(\"Num GPUs Available: \", len(tf.config.list_physical_devices('GPU')))"
   ]
  },
  {
   "cell_type": "code",
   "execution_count": 38,
   "metadata": {
    "colab": {
     "base_uri": "https://localhost:8080/"
    },
    "id": "jTQF6CZ4iQmj",
    "outputId": "c3b811a3-abb2-4214-e283-4f7984d384e7"
   },
   "outputs": [
    {
     "name": "stdout",
     "output_type": "stream",
     "text": [
      "Drive already mounted at /content/gdrive; to attempt to forcibly remount, call drive.mount(\"/content/gdrive\", force_remount=True).\n"
     ]
    }
   ],
   "source": [
    "from google.colab import drive \n",
    "drive.mount('/content/gdrive')"
   ]
  },
  {
   "cell_type": "code",
   "execution_count": 39,
   "metadata": {
    "colab": {
     "base_uri": "https://localhost:8080/",
     "height": 332
    },
    "id": "GdS3qnSgiRFS",
    "outputId": "8a24f2bd-52c7-4669-b66c-94550b7288aa"
   },
   "outputs": [
    {
     "data": {
      "text/html": [
       "\n",
       "  <div id=\"df-38b7cf3e-2aed-4c99-a845-6c013ad8d69f\">\n",
       "    <div class=\"colab-df-container\">\n",
       "      <div>\n",
       "<style scoped>\n",
       "    .dataframe tbody tr th:only-of-type {\n",
       "        vertical-align: middle;\n",
       "    }\n",
       "\n",
       "    .dataframe tbody tr th {\n",
       "        vertical-align: top;\n",
       "    }\n",
       "\n",
       "    .dataframe thead th {\n",
       "        text-align: right;\n",
       "    }\n",
       "</style>\n",
       "<table border=\"1\" class=\"dataframe\">\n",
       "  <thead>\n",
       "    <tr style=\"text-align: right;\">\n",
       "      <th></th>\n",
       "      <th>timestamp</th>\n",
       "      <th>volatility</th>\n",
       "    </tr>\n",
       "  </thead>\n",
       "  <tbody>\n",
       "    <tr>\n",
       "      <th>0</th>\n",
       "      <td>2020-05-26 21:00:00+00:00</td>\n",
       "      <td>0.0</td>\n",
       "    </tr>\n",
       "    <tr>\n",
       "      <th>1</th>\n",
       "      <td>2020-05-26 21:10:00+00:00</td>\n",
       "      <td>0.0</td>\n",
       "    </tr>\n",
       "    <tr>\n",
       "      <th>2</th>\n",
       "      <td>2020-05-26 21:20:00+00:00</td>\n",
       "      <td>0.0</td>\n",
       "    </tr>\n",
       "  </tbody>\n",
       "</table>\n",
       "</div>\n",
       "      <button class=\"colab-df-convert\" onclick=\"convertToInteractive('df-38b7cf3e-2aed-4c99-a845-6c013ad8d69f')\"\n",
       "              title=\"Convert this dataframe to an interactive table.\"\n",
       "              style=\"display:none;\">\n",
       "        \n",
       "  <svg xmlns=\"http://www.w3.org/2000/svg\" height=\"24px\"viewBox=\"0 0 24 24\"\n",
       "       width=\"24px\">\n",
       "    <path d=\"M0 0h24v24H0V0z\" fill=\"none\"/>\n",
       "    <path d=\"M18.56 5.44l.94 2.06.94-2.06 2.06-.94-2.06-.94-.94-2.06-.94 2.06-2.06.94zm-11 1L8.5 8.5l.94-2.06 2.06-.94-2.06-.94L8.5 2.5l-.94 2.06-2.06.94zm10 10l.94 2.06.94-2.06 2.06-.94-2.06-.94-.94-2.06-.94 2.06-2.06.94z\"/><path d=\"M17.41 7.96l-1.37-1.37c-.4-.4-.92-.59-1.43-.59-.52 0-1.04.2-1.43.59L10.3 9.45l-7.72 7.72c-.78.78-.78 2.05 0 2.83L4 21.41c.39.39.9.59 1.41.59.51 0 1.02-.2 1.41-.59l7.78-7.78 2.81-2.81c.8-.78.8-2.07 0-2.86zM5.41 20L4 18.59l7.72-7.72 1.47 1.35L5.41 20z\"/>\n",
       "  </svg>\n",
       "      </button>\n",
       "      \n",
       "  <style>\n",
       "    .colab-df-container {\n",
       "      display:flex;\n",
       "      flex-wrap:wrap;\n",
       "      gap: 12px;\n",
       "    }\n",
       "\n",
       "    .colab-df-convert {\n",
       "      background-color: #E8F0FE;\n",
       "      border: none;\n",
       "      border-radius: 50%;\n",
       "      cursor: pointer;\n",
       "      display: none;\n",
       "      fill: #1967D2;\n",
       "      height: 32px;\n",
       "      padding: 0 0 0 0;\n",
       "      width: 32px;\n",
       "    }\n",
       "\n",
       "    .colab-df-convert:hover {\n",
       "      background-color: #E2EBFA;\n",
       "      box-shadow: 0px 1px 2px rgba(60, 64, 67, 0.3), 0px 1px 3px 1px rgba(60, 64, 67, 0.15);\n",
       "      fill: #174EA6;\n",
       "    }\n",
       "\n",
       "    [theme=dark] .colab-df-convert {\n",
       "      background-color: #3B4455;\n",
       "      fill: #D2E3FC;\n",
       "    }\n",
       "\n",
       "    [theme=dark] .colab-df-convert:hover {\n",
       "      background-color: #434B5C;\n",
       "      box-shadow: 0px 1px 3px 1px rgba(0, 0, 0, 0.15);\n",
       "      filter: drop-shadow(0px 1px 2px rgba(0, 0, 0, 0.3));\n",
       "      fill: #FFFFFF;\n",
       "    }\n",
       "  </style>\n",
       "\n",
       "      <script>\n",
       "        const buttonEl =\n",
       "          document.querySelector('#df-38b7cf3e-2aed-4c99-a845-6c013ad8d69f button.colab-df-convert');\n",
       "        buttonEl.style.display =\n",
       "          google.colab.kernel.accessAllowed ? 'block' : 'none';\n",
       "\n",
       "        async function convertToInteractive(key) {\n",
       "          const element = document.querySelector('#df-38b7cf3e-2aed-4c99-a845-6c013ad8d69f');\n",
       "          const dataTable =\n",
       "            await google.colab.kernel.invokeFunction('convertToInteractive',\n",
       "                                                     [key], {});\n",
       "          if (!dataTable) return;\n",
       "\n",
       "          const docLinkHtml = 'Like what you see? Visit the ' +\n",
       "            '<a target=\"_blank\" href=https://colab.research.google.com/notebooks/data_table.ipynb>data table notebook</a>'\n",
       "            + ' to learn more about interactive tables.';\n",
       "          element.innerHTML = '';\n",
       "          dataTable['output_type'] = 'display_data';\n",
       "          await google.colab.output.renderOutput(dataTable, element);\n",
       "          const docLink = document.createElement('div');\n",
       "          docLink.innerHTML = docLinkHtml;\n",
       "          element.appendChild(docLink);\n",
       "        }\n",
       "      </script>\n",
       "    </div>\n",
       "  </div>\n",
       "  "
      ],
      "text/plain": [
       "                  timestamp  volatility\n",
       "0 2020-05-26 21:00:00+00:00         0.0\n",
       "1 2020-05-26 21:10:00+00:00         0.0\n",
       "2 2020-05-26 21:20:00+00:00         0.0"
      ]
     },
     "metadata": {},
     "output_type": "display_data"
    },
    {
     "data": {
      "text/html": [
       "\n",
       "  <div id=\"df-ced69a4b-cefb-4773-b4aa-f6d4f5050330\">\n",
       "    <div class=\"colab-df-container\">\n",
       "      <div>\n",
       "<style scoped>\n",
       "    .dataframe tbody tr th:only-of-type {\n",
       "        vertical-align: middle;\n",
       "    }\n",
       "\n",
       "    .dataframe tbody tr th {\n",
       "        vertical-align: top;\n",
       "    }\n",
       "\n",
       "    .dataframe thead th {\n",
       "        text-align: right;\n",
       "    }\n",
       "</style>\n",
       "<table border=\"1\" class=\"dataframe\">\n",
       "  <thead>\n",
       "    <tr style=\"text-align: right;\">\n",
       "      <th></th>\n",
       "      <th>timestamp</th>\n",
       "      <th>volatility</th>\n",
       "    </tr>\n",
       "  </thead>\n",
       "  <tbody>\n",
       "    <tr>\n",
       "      <th>127685</th>\n",
       "      <td>2022-10-30 13:50:00+00:00</td>\n",
       "      <td>0.007068</td>\n",
       "    </tr>\n",
       "    <tr>\n",
       "      <th>127686</th>\n",
       "      <td>2022-10-30 14:00:00+00:00</td>\n",
       "      <td>0.007478</td>\n",
       "    </tr>\n",
       "    <tr>\n",
       "      <th>127687</th>\n",
       "      <td>2022-10-30 14:10:00+00:00</td>\n",
       "      <td>0.006892</td>\n",
       "    </tr>\n",
       "    <tr>\n",
       "      <th>127688</th>\n",
       "      <td>2022-10-30 14:20:00+00:00</td>\n",
       "      <td>0.008923</td>\n",
       "    </tr>\n",
       "    <tr>\n",
       "      <th>127689</th>\n",
       "      <td>2022-10-30 14:30:00+00:00</td>\n",
       "      <td>0.006163</td>\n",
       "    </tr>\n",
       "  </tbody>\n",
       "</table>\n",
       "</div>\n",
       "      <button class=\"colab-df-convert\" onclick=\"convertToInteractive('df-ced69a4b-cefb-4773-b4aa-f6d4f5050330')\"\n",
       "              title=\"Convert this dataframe to an interactive table.\"\n",
       "              style=\"display:none;\">\n",
       "        \n",
       "  <svg xmlns=\"http://www.w3.org/2000/svg\" height=\"24px\"viewBox=\"0 0 24 24\"\n",
       "       width=\"24px\">\n",
       "    <path d=\"M0 0h24v24H0V0z\" fill=\"none\"/>\n",
       "    <path d=\"M18.56 5.44l.94 2.06.94-2.06 2.06-.94-2.06-.94-.94-2.06-.94 2.06-2.06.94zm-11 1L8.5 8.5l.94-2.06 2.06-.94-2.06-.94L8.5 2.5l-.94 2.06-2.06.94zm10 10l.94 2.06.94-2.06 2.06-.94-2.06-.94-.94-2.06-.94 2.06-2.06.94z\"/><path d=\"M17.41 7.96l-1.37-1.37c-.4-.4-.92-.59-1.43-.59-.52 0-1.04.2-1.43.59L10.3 9.45l-7.72 7.72c-.78.78-.78 2.05 0 2.83L4 21.41c.39.39.9.59 1.41.59.51 0 1.02-.2 1.41-.59l7.78-7.78 2.81-2.81c.8-.78.8-2.07 0-2.86zM5.41 20L4 18.59l7.72-7.72 1.47 1.35L5.41 20z\"/>\n",
       "  </svg>\n",
       "      </button>\n",
       "      \n",
       "  <style>\n",
       "    .colab-df-container {\n",
       "      display:flex;\n",
       "      flex-wrap:wrap;\n",
       "      gap: 12px;\n",
       "    }\n",
       "\n",
       "    .colab-df-convert {\n",
       "      background-color: #E8F0FE;\n",
       "      border: none;\n",
       "      border-radius: 50%;\n",
       "      cursor: pointer;\n",
       "      display: none;\n",
       "      fill: #1967D2;\n",
       "      height: 32px;\n",
       "      padding: 0 0 0 0;\n",
       "      width: 32px;\n",
       "    }\n",
       "\n",
       "    .colab-df-convert:hover {\n",
       "      background-color: #E2EBFA;\n",
       "      box-shadow: 0px 1px 2px rgba(60, 64, 67, 0.3), 0px 1px 3px 1px rgba(60, 64, 67, 0.15);\n",
       "      fill: #174EA6;\n",
       "    }\n",
       "\n",
       "    [theme=dark] .colab-df-convert {\n",
       "      background-color: #3B4455;\n",
       "      fill: #D2E3FC;\n",
       "    }\n",
       "\n",
       "    [theme=dark] .colab-df-convert:hover {\n",
       "      background-color: #434B5C;\n",
       "      box-shadow: 0px 1px 3px 1px rgba(0, 0, 0, 0.15);\n",
       "      filter: drop-shadow(0px 1px 2px rgba(0, 0, 0, 0.3));\n",
       "      fill: #FFFFFF;\n",
       "    }\n",
       "  </style>\n",
       "\n",
       "      <script>\n",
       "        const buttonEl =\n",
       "          document.querySelector('#df-ced69a4b-cefb-4773-b4aa-f6d4f5050330 button.colab-df-convert');\n",
       "        buttonEl.style.display =\n",
       "          google.colab.kernel.accessAllowed ? 'block' : 'none';\n",
       "\n",
       "        async function convertToInteractive(key) {\n",
       "          const element = document.querySelector('#df-ced69a4b-cefb-4773-b4aa-f6d4f5050330');\n",
       "          const dataTable =\n",
       "            await google.colab.kernel.invokeFunction('convertToInteractive',\n",
       "                                                     [key], {});\n",
       "          if (!dataTable) return;\n",
       "\n",
       "          const docLinkHtml = 'Like what you see? Visit the ' +\n",
       "            '<a target=\"_blank\" href=https://colab.research.google.com/notebooks/data_table.ipynb>data table notebook</a>'\n",
       "            + ' to learn more about interactive tables.';\n",
       "          element.innerHTML = '';\n",
       "          dataTable['output_type'] = 'display_data';\n",
       "          await google.colab.output.renderOutput(dataTable, element);\n",
       "          const docLink = document.createElement('div');\n",
       "          docLink.innerHTML = docLinkHtml;\n",
       "          element.appendChild(docLink);\n",
       "        }\n",
       "      </script>\n",
       "    </div>\n",
       "  </div>\n",
       "  "
      ],
      "text/plain": [
       "                       timestamp  volatility\n",
       "127685 2022-10-30 13:50:00+00:00    0.007068\n",
       "127686 2022-10-30 14:00:00+00:00    0.007478\n",
       "127687 2022-10-30 14:10:00+00:00    0.006892\n",
       "127688 2022-10-30 14:20:00+00:00    0.008923\n",
       "127689 2022-10-30 14:30:00+00:00    0.006163"
      ]
     },
     "execution_count": 39,
     "metadata": {},
     "output_type": "execute_result"
    }
   ],
   "source": [
    "df=pd.read_csv('gdrive/My Drive/vol_10mins_furtherpreprocess.csv').fillna(0)\n",
    "df['tx_timestamp'] = pd.to_datetime(df['tx_timestamp'],unit='ns')\n",
    "df = df.rename(columns = {\"tx_timestamp\":\"timestamp\",\"0\":\"volatility\"})\n",
    "display(df.head(3))\n",
    "df.tail()"
   ]
  },
  {
   "cell_type": "code",
   "execution_count": 40,
   "metadata": {
    "colab": {
     "base_uri": "https://localhost:8080/"
    },
    "id": "V-idzOTbiuc0",
    "outputId": "16270952-5a00-413c-dddc-fc7781728e63"
   },
   "outputs": [
    {
     "name": "stdout",
     "output_type": "stream",
     "text": [
      "<class 'pandas.core.frame.DataFrame'>\n",
      "RangeIndex: 127690 entries, 0 to 127689\n",
      "Data columns (total 2 columns):\n",
      " #   Column      Non-Null Count   Dtype              \n",
      "---  ------      --------------   -----              \n",
      " 0   timestamp   127690 non-null  datetime64[ns, UTC]\n",
      " 1   volatility  127690 non-null  float64            \n",
      "dtypes: datetime64[ns, UTC](1), float64(1)\n",
      "memory usage: 1.9 MB\n"
     ]
    }
   ],
   "source": [
    "df.info()"
   ]
  },
  {
   "cell_type": "code",
   "execution_count": null,
   "metadata": {
    "colab": {
     "base_uri": "https://localhost:8080/",
     "height": 283
    },
    "id": "In1ByKUuY7H-",
    "outputId": "0310bded-a999-406c-ab07-1e87ec382530"
   },
   "outputs": [
    {
     "data": {
      "text/plain": [
       "[<matplotlib.lines.Line2D at 0x7f6e8f190fd0>]"
      ]
     },
     "execution_count": 9,
     "metadata": {},
     "output_type": "execute_result"
    },
    {
     "data": {
      "image/png": "[encoded data removed]",
      "text/plain": [
       "<Figure size 432x288 with 1 Axes>"
      ]
     },
     "metadata": {},
     "output_type": "display_data"
    }
   ],
   "source": [
    "plt.plot(df['timestamp'],df['volatility'])"
   ]
  },
  {
   "cell_type": "code",
   "execution_count": null,
   "metadata": {
    "colab": {
     "base_uri": "https://localhost:8080/"
    },
    "id": "A1jxeNkoY8tE",
    "outputId": "03bd8cc6-7a5d-4396-cc3d-0aec21d1fec2"
   },
   "outputs": [
    {
     "data": {
      "text/plain": [
       "(127690, 2)"
      ]
     },
     "execution_count": 10,
     "metadata": {},
     "output_type": "execute_result"
    }
   ],
   "source": [
    "df.shape"
   ]
  },
  {
   "cell_type": "markdown",
   "metadata": {
    "id": "BGXpzql71A-O"
   },
   "source": [
    "### MLP"
   ]
  },
  {
   "cell_type": "code",
   "execution_count": 41,
   "metadata": {
    "id": "WMq_8Ml11A-a"
   },
   "outputs": [],
   "source": [
    "train_start = '2020-05-26'\n",
    "train_end = '2022-07-31'\n",
    "dev_start = '2022-08-01'\n",
    "dev_end = '2022-09-30'\n",
    "test_start = '2022-10-01'\n",
    "test_end = '2022-10-31'"
   ]
  },
  {
   "cell_type": "code",
   "execution_count": 64,
   "metadata": {
    "colab": {
     "base_uri": "https://localhost:8080/"
    },
    "id": "oXVN4lTy1A-a",
    "outputId": "9d55b30f-cb01-41d9-a70f-df0139356458"
   },
   "outputs": [
    {
     "data": {
      "text/plain": [
       "((114499, 1), (8641, 1), (4264, 1))"
      ]
     },
     "execution_count": 64,
     "metadata": {},
     "output_type": "execute_result"
    }
   ],
   "source": [
    "train_dates = df[((df['timestamp'] >= train_start) & (df['timestamp'] <= train_end))]['volatility'].values.reshape((-1,1))\n",
    "dev_dates = df[((df['timestamp'] >= dev_start) & (df['timestamp'] <= dev_end))]['volatility'].values.reshape((-1,1))\n",
    "test_dates = df[((df['timestamp'] >= test_start) & (df['timestamp'] <= test_end))]['volatility'].values.reshape((-1,1))\n",
    "train_dates.shape, dev_dates.shape, test_dates.shape"
   ]
  },
  {
   "cell_type": "code",
   "execution_count": 82,
   "metadata": {
    "colab": {
     "base_uri": "https://localhost:8080/"
    },
    "id": "z8f8seCG1A-a",
    "outputId": "52e28678-96a8-45f9-e778-6fe1dcfa05ea"
   },
   "outputs": [
    {
     "name": "stdout",
     "output_type": "stream",
     "text": [
      "Epoch 1/50\n",
      "3516/3516 [==============================] - 21s 6ms/step - loss: 27988.4473\n",
      "Epoch 2/50\n",
      "3516/3516 [==============================] - 18s 5ms/step - loss: 12400.3750\n",
      "Epoch 3/50\n",
      "3516/3516 [==============================] - 22s 6ms/step - loss: 12666.0693\n",
      "Epoch 4/50\n",
      "3516/3516 [==============================] - 19s 5ms/step - loss: 12490.8838\n",
      "Epoch 5/50\n",
      "3516/3516 [==============================] - 19s 5ms/step - loss: 12076.5674\n",
      "Epoch 6/50\n",
      "3516/3516 [==============================] - 19s 5ms/step - loss: 12535.7568\n",
      "Epoch 7/50\n",
      "3516/3516 [==============================] - 17s 5ms/step - loss: 11722.0762\n",
      "Epoch 8/50\n",
      "3516/3516 [==============================] - 17s 5ms/step - loss: 13383.4600\n",
      "Epoch 9/50\n",
      "3516/3516 [==============================] - 18s 5ms/step - loss: 13320.6709\n",
      "Epoch 10/50\n",
      "3516/3516 [==============================] - 17s 5ms/step - loss: 10035.7041\n",
      "Epoch 11/50\n",
      "3516/3516 [==============================] - 18s 5ms/step - loss: 11900.1387\n",
      "Epoch 12/50\n",
      "3516/3516 [==============================] - 16s 5ms/step - loss: 12732.8447\n",
      "Epoch 13/50\n",
      "3516/3516 [==============================] - 16s 5ms/step - loss: 12407.8691\n",
      "Epoch 14/50\n",
      "3516/3516 [==============================] - 18s 5ms/step - loss: 10789.1299\n",
      "Epoch 15/50\n",
      "3516/3516 [==============================] - 17s 5ms/step - loss: 10890.5947\n",
      "Epoch 16/50\n",
      "3516/3516 [==============================] - 16s 5ms/step - loss: 11498.9023\n",
      "Epoch 17/50\n",
      "3516/3516 [==============================] - 18s 5ms/step - loss: 11576.7432\n",
      "Epoch 18/50\n",
      "3516/3516 [==============================] - 16s 5ms/step - loss: 11521.1660\n",
      "Epoch 19/50\n",
      "3516/3516 [==============================] - 18s 5ms/step - loss: 12768.7031\n",
      "Epoch 20/50\n",
      "3516/3516 [==============================] - 17s 5ms/step - loss: 11716.7842\n",
      "Epoch 21/50\n",
      "3516/3516 [==============================] - 17s 5ms/step - loss: 12742.0215\n",
      "Epoch 22/50\n",
      "3516/3516 [==============================] - 18s 5ms/step - loss: 11247.3447\n",
      "Epoch 23/50\n",
      "3516/3516 [==============================] - 17s 5ms/step - loss: 11591.7969\n",
      "Epoch 24/50\n",
      "3516/3516 [==============================] - 17s 5ms/step - loss: 11650.5293\n",
      "Epoch 25/50\n",
      "3516/3516 [==============================] - 19s 5ms/step - loss: 12909.3252\n",
      "Epoch 26/50\n",
      "3516/3516 [==============================] - 16s 5ms/step - loss: 12997.5479\n",
      "Epoch 27/50\n",
      "3516/3516 [==============================] - 18s 5ms/step - loss: 13096.0557\n",
      "Epoch 28/50\n",
      "3516/3516 [==============================] - 17s 5ms/step - loss: 13280.6855\n",
      "Epoch 29/50\n",
      "3516/3516 [==============================] - 16s 5ms/step - loss: 11682.1533\n",
      "Epoch 30/50\n",
      "3516/3516 [==============================] - 18s 5ms/step - loss: 13065.3711\n",
      "Epoch 31/50\n",
      "3516/3516 [==============================] - 16s 5ms/step - loss: 11950.0273\n",
      "Epoch 32/50\n",
      "3516/3516 [==============================] - 16s 5ms/step - loss: 12368.5654\n",
      "Epoch 33/50\n",
      "3516/3516 [==============================] - 18s 5ms/step - loss: 12583.2432\n",
      "Epoch 34/50\n",
      "3516/3516 [==============================] - 17s 5ms/step - loss: 12153.7480\n",
      "Epoch 35/50\n",
      "3516/3516 [==============================] - 20s 6ms/step - loss: 11972.8926\n",
      "Epoch 36/50\n",
      "3516/3516 [==============================] - 17s 5ms/step - loss: 11586.8320\n",
      "Epoch 37/50\n",
      "3516/3516 [==============================] - 18s 5ms/step - loss: 13186.8672\n",
      "Epoch 38/50\n",
      "3516/3516 [==============================] - 19s 5ms/step - loss: 11776.0322\n",
      "Epoch 39/50\n",
      "3516/3516 [==============================] - 17s 5ms/step - loss: 11794.6172\n",
      "Epoch 40/50\n",
      "3516/3516 [==============================] - 19s 5ms/step - loss: 13748.2500\n",
      "Epoch 41/50\n",
      "3516/3516 [==============================] - 18s 5ms/step - loss: 12747.6709\n",
      "Epoch 42/50\n",
      "3516/3516 [==============================] - 19s 5ms/step - loss: 12444.1006\n",
      "Epoch 43/50\n",
      "3516/3516 [==============================] - 19s 5ms/step - loss: 11890.1514\n",
      "Epoch 44/50\n",
      "3516/3516 [==============================] - 18s 5ms/step - loss: 11956.2246\n",
      "Epoch 45/50\n",
      "3516/3516 [==============================] - 19s 5ms/step - loss: 13019.7422\n",
      "Epoch 46/50\n",
      "3516/3516 [==============================] - 17s 5ms/step - loss: 12410.3096\n",
      "Epoch 47/50\n",
      "3516/3516 [==============================] - 17s 5ms/step - loss: 13226.5801\n",
      "Epoch 48/50\n",
      "3516/3516 [==============================] - 19s 6ms/step - loss: 10600.8008\n",
      "Epoch 49/50\n",
      "3516/3516 [==============================] - 17s 5ms/step - loss: 13710.5781\n",
      "Epoch 50/50\n",
      "3516/3516 [==============================] - 19s 5ms/step - loss: 12815.7158\n"
     ]
    }
   ],
   "source": [
    "# univariate mlp example\n",
    "from numpy import array\n",
    "from keras.models import Sequential\n",
    "from keras.layers import Dense\n",
    " \n",
    "# split a univariate sequence into samples\n",
    "def split_sequence(sequence, n_steps):\n",
    "\tX, y = list(), list()\n",
    "\tfor i in range(len(sequence)):\n",
    "\t\t# find the end of this pattern\n",
    "\t\tend_ix = i + n_steps\n",
    "\t\t# check if we are beyond the sequence\n",
    "\t\tif end_ix > len(sequence)-1:\n",
    "\t\t\tbreak\n",
    "\t\t# gather input and output parts of the pattern\n",
    "\t\tseq_x, seq_y = sequence[i:end_ix], sequence[end_ix]\n",
    "\t\tX.append(seq_x)\n",
    "\t\ty.append(seq_y)\n",
    "\treturn array(X), array(y)\n",
    " \n",
    "# define input sequence\n",
    "raw_seq = train_dates\n",
    "# choose a number of time steps\n",
    "days_look_back = 14\n",
    "n_steps = 24*6*days_look_back\n",
    "# split into samples\n",
    "X, y = split_sequence(raw_seq, n_steps)\n",
    "\n",
    "# define model\n",
    "model = Sequential()\n",
    "model.add(Dense(128, activation='relu', input_dim=n_steps))\n",
    "model.add(Dense(64, activation='relu'))\n",
    "model.add(Dense(1))\n",
    "model.compile(optimizer='adam', loss=tf.keras.losses.MeanAbsolutePercentageError())\n",
    "\n",
    "# fit model\n",
    "num_epochs = 50\n",
    "history = model.fit(X, y, epochs=num_epochs)"
   ]
  },
  {
   "cell_type": "code",
   "execution_count": 83,
   "metadata": {
    "colab": {
     "base_uri": "https://localhost:8080/"
    },
    "id": "JVcGM-PrQMZc",
    "outputId": "1a77c147-a40a-4f3b-dd1d-95276c6197ee"
   },
   "outputs": [
    {
     "name": "stdout",
     "output_type": "stream",
     "text": [
      "Model: \"sequential_12\"\n",
      "_________________________________________________________________\n",
      " Layer (type)                Output Shape              Param #   \n",
      "=================================================================\n",
      " dense_20 (Dense)            (None, 128)               258176    \n",
      "                                                                 \n",
      " dense_21 (Dense)            (None, 64)                8256      \n",
      "                                                                 \n",
      " dense_22 (Dense)            (None, 1)                 65        \n",
      "                                                                 \n",
      "=================================================================\n",
      "Total params: 266,497\n",
      "Trainable params: 266,497\n",
      "Non-trainable params: 0\n",
      "_________________________________________________________________\n"
     ]
    }
   ],
   "source": [
    "model.summary()"
   ]
  },
  {
   "cell_type": "code",
   "execution_count": 84,
   "metadata": {
    "id": "QUor7h0USFOd"
   },
   "outputs": [],
   "source": [
    "model_save_name = 'MLP128_64_baseline_ep50_back14'\n",
    "model.save('/content/gdrive/My Drive/CS230proj/model_{}.h5'.format(model_save_name))"
   ]
  },
  {
   "cell_type": "code",
   "execution_count": 72,
   "metadata": {
    "id": "7M7lUXUgSv-u"
   },
   "outputs": [],
   "source": [
    "#import tensorflow as tf\n",
    "#from tensorflow import keras\n",
    "#new_model = tf.keras.models.load_model('/content/gdrive/My Drive/CS230proj/model_{}.h5'.format(model_save_name))\n",
    "\n",
    "# Check its architecture\n",
    "#new_model.summary()"
   ]
  },
  {
   "cell_type": "code",
   "execution_count": 85,
   "metadata": {
    "colab": {
     "base_uri": "https://localhost:8080/"
    },
    "id": "Kz27S8sd1A-a",
    "outputId": "d13f5328-260c-443a-de11-3c871cadbe7c"
   },
   "outputs": [
    {
     "name": "stdout",
     "output_type": "stream",
     "text": [
      "208/208 [==============================] - 1s 3ms/step\n",
      "3516/3516 [==============================] - 30s 9ms/step\n",
      "(6625, 1) (112483, 1)\n"
     ]
    }
   ],
   "source": [
    "# demonstrate prediction\n",
    "X_dev, y_dev = split_sequence(dev_dates, n_steps)\n",
    "X_dev = X_dev.reshape((X_dev.shape[0], n_steps))\n",
    "y_dev_pred = model.predict(X_dev)\n",
    "y_train_pred = model.predict(X.reshape((X.shape[0], n_steps)))\n",
    "print(y_dev_pred.shape, y_train_pred.shape)"
   ]
  },
  {
   "cell_type": "code",
   "execution_count": 86,
   "metadata": {
    "colab": {
     "base_uri": "https://localhost:8080/"
    },
    "id": "4oEbq0yEQMe0",
    "outputId": "7d92cc39-93cf-4267-d715-1a93b7c43c87"
   },
   "outputs": [
    {
     "data": {
      "text/plain": [
       "204.80800554337532"
      ]
     },
     "execution_count": 86,
     "metadata": {},
     "output_type": "execute_result"
    }
   ],
   "source": [
    "from sklearn.metrics import mean_absolute_percentage_error\n",
    "mean_absolute_percentage_error(y_dev_pred, dev_dates[24*6*days_look_back:])"
   ]
  },
  {
   "cell_type": "code",
   "execution_count": 87,
   "metadata": {
    "colab": {
     "base_uri": "https://localhost:8080/"
    },
    "id": "Zz6M65SaTYb_",
    "outputId": "170cffb1-455a-4d4d-ee70-0a96f7960a89"
   },
   "outputs": [
    {
     "data": {
      "text/plain": [
       "244.8658270834014"
      ]
     },
     "execution_count": 87,
     "metadata": {},
     "output_type": "execute_result"
    }
   ],
   "source": [
    "mean_absolute_percentage_error(y_train_pred, train_dates[24*6*days_look_back:])"
   ]
  }
 ],
 "metadata": {
  "colab": {
   "collapsed_sections": [],
   "provenance": []
  },
  "kernelspec": {
   "display_name": "Python 3 (ipykernel)",
   "language": "python",
   "name": "python3"
  },
  "language_info": {
   "codemirror_mode": {
    "name": "ipython",
    "version": 3
   },
   "file_extension": ".py",
   "mimetype": "text/x-python",
   "name": "python",
   "nbconvert_exporter": "python",
   "pygments_lexer": "ipython3",
   "version": "3.8.13"
  }
 },
 "nbformat": 4,
 "nbformat_minor": 4
}
