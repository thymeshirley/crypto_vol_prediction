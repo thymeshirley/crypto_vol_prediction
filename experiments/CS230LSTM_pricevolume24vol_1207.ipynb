{
  "cells": [
    {
      "cell_type": "code",
      "execution_count": null,
      "metadata": {
        "id": "YbTK03QaYzIn"
      },
      "outputs": [],
      "source": [
        "import pandas as pd\n",
        "from urllib.request import Request, urlopen\n",
        "from tensorflow.keras.models import Sequential\n",
        "from tensorflow.keras.layers import Activation, Dense, Dropout\n",
        "from sklearn.preprocessing import MinMaxScaler\n",
        "import matplotlib.pyplot as plt\n",
        "import numpy as np\n",
        "import time\n",
        "import sys\n",
        "import re\n",
        "import seaborn as sns\n",
        "import gc\n",
        "from sklearn.model_selection import train_test_split\n",
        "import seaborn as sns\n",
        "import matplotlib.pyplot as plt\n",
        "import math\n",
        "import tensorflow as tf\n",
        "pd.set_option('display.max_rows', None)"
      ]
    },
    {
      "cell_type": "code",
      "source": [
        "from google.colab import drive \n",
        "drive.mount('/content/gdrive/')"
      ],
      "metadata": {
        "colab": {
          "base_uri": "https://localhost:8080/"
        },
        "id": "EvShqpDTBP8Z",
        "outputId": "e0b3796b-581c-4384-cc6f-720ed5802bba"
      },
      "execution_count": null,
      "outputs": [
        {
          "output_type": "stream",
          "name": "stdout",
          "text": [
            "Mounted at /content/gdrive/\n"
          ]
        }
      ]
    },
    {
      "cell_type": "code",
      "execution_count": null,
      "metadata": {
        "colab": {
          "base_uri": "https://localhost:8080/",
          "height": 143
        },
        "id": "GdS3qnSgiRFS",
        "outputId": "2ce54fd2-774e-432f-fec1-d695485b1f0b"
      },
      "outputs": [
        {
          "output_type": "display_data",
          "data": {
            "text/plain": [
              "   Unnamed: 0                 timestamp       first        last   mean  \\\n",
              "0           0 2020-05-26 21:00:00+00:00  201.177211  201.177211  201.0   \n",
              "1           1 2020-05-26 21:10:00+00:00         NaN         NaN    NaN   \n",
              "2           2 2020-05-26 21:20:00+00:00         NaN         NaN    NaN   \n",
              "\n",
              "   vol_of_vol         max         min  ret  24rolling_vol  \n",
              "0         NaN  201.177211  201.177211  0.0            NaN  \n",
              "1         NaN         NaN         NaN  NaN            NaN  \n",
              "2         NaN         NaN         NaN  NaN            NaN  "
            ],
            "text/html": [
              "\n",
              "  <div id=\"df-66680c93-21aa-4d06-9fd6-0c859736290e\">\n",
              "    <div class=\"colab-df-container\">\n",
              "      <div>\n",
              "<style scoped>\n",
              "    .dataframe tbody tr th:only-of-type {\n",
              "        vertical-align: middle;\n",
              "    }\n",
              "\n",
              "    .dataframe tbody tr th {\n",
              "        vertical-align: top;\n",
              "    }\n",
              "\n",
              "    .dataframe thead th {\n",
              "        text-align: right;\n",
              "    }\n",
              "</style>\n",
              "<table border=\"1\" class=\"dataframe\">\n",
              "  <thead>\n",
              "    <tr style=\"text-align: right;\">\n",
              "      <th></th>\n",
              "      <th>Unnamed: 0</th>\n",
              "      <th>timestamp</th>\n",
              "      <th>first</th>\n",
              "      <th>last</th>\n",
              "      <th>mean</th>\n",
              "      <th>vol_of_vol</th>\n",
              "      <th>max</th>\n",
              "      <th>min</th>\n",
              "      <th>ret</th>\n",
              "      <th>24rolling_vol</th>\n",
              "    </tr>\n",
              "  </thead>\n",
              "  <tbody>\n",
              "    <tr>\n",
              "      <th>0</th>\n",
              "      <td>0</td>\n",
              "      <td>2020-05-26 21:00:00+00:00</td>\n",
              "      <td>201.177211</td>\n",
              "      <td>201.177211</td>\n",
              "      <td>201.0</td>\n",
              "      <td>NaN</td>\n",
              "      <td>201.177211</td>\n",
              "      <td>201.177211</td>\n",
              "      <td>0.0</td>\n",
              "      <td>NaN</td>\n",
              "    </tr>\n",
              "    <tr>\n",
              "      <th>1</th>\n",
              "      <td>1</td>\n",
              "      <td>2020-05-26 21:10:00+00:00</td>\n",
              "      <td>NaN</td>\n",
              "      <td>NaN</td>\n",
              "      <td>NaN</td>\n",
              "      <td>NaN</td>\n",
              "      <td>NaN</td>\n",
              "      <td>NaN</td>\n",
              "      <td>NaN</td>\n",
              "      <td>NaN</td>\n",
              "    </tr>\n",
              "    <tr>\n",
              "      <th>2</th>\n",
              "      <td>2</td>\n",
              "      <td>2020-05-26 21:20:00+00:00</td>\n",
              "      <td>NaN</td>\n",
              "      <td>NaN</td>\n",
              "      <td>NaN</td>\n",
              "      <td>NaN</td>\n",
              "      <td>NaN</td>\n",
              "      <td>NaN</td>\n",
              "      <td>NaN</td>\n",
              "      <td>NaN</td>\n",
              "    </tr>\n",
              "  </tbody>\n",
              "</table>\n",
              "</div>\n",
              "      <button class=\"colab-df-convert\" onclick=\"convertToInteractive('df-66680c93-21aa-4d06-9fd6-0c859736290e')\"\n",
              "              title=\"Convert this dataframe to an interactive table.\"\n",
              "              style=\"display:none;\">\n",
              "        \n",
              "  <svg xmlns=\"http://www.w3.org/2000/svg\" height=\"24px\"viewBox=\"0 0 24 24\"\n",
              "       width=\"24px\">\n",
              "    <path d=\"M0 0h24v24H0V0z\" fill=\"none\"/>\n",
              "    <path d=\"M18.56 5.44l.94 2.06.94-2.06 2.06-.94-2.06-.94-.94-2.06-.94 2.06-2.06.94zm-11 1L8.5 8.5l.94-2.06 2.06-.94-2.06-.94L8.5 2.5l-.94 2.06-2.06.94zm10 10l.94 2.06.94-2.06 2.06-.94-2.06-.94-.94-2.06-.94 2.06-2.06.94z\"/><path d=\"M17.41 7.96l-1.37-1.37c-.4-.4-.92-.59-1.43-.59-.52 0-1.04.2-1.43.59L10.3 9.45l-7.72 7.72c-.78.78-.78 2.05 0 2.83L4 21.41c.39.39.9.59 1.41.59.51 0 1.02-.2 1.41-.59l7.78-7.78 2.81-2.81c.8-.78.8-2.07 0-2.86zM5.41 20L4 18.59l7.72-7.72 1.47 1.35L5.41 20z\"/>\n",
              "  </svg>\n",
              "      </button>\n",
              "      \n",
              "  <style>\n",
              "    .colab-df-container {\n",
              "      display:flex;\n",
              "      flex-wrap:wrap;\n",
              "      gap: 12px;\n",
              "    }\n",
              "\n",
              "    .colab-df-convert {\n",
              "      background-color: #E8F0FE;\n",
              "      border: none;\n",
              "      border-radius: 50%;\n",
              "      cursor: pointer;\n",
              "      display: none;\n",
              "      fill: #1967D2;\n",
              "      height: 32px;\n",
              "      padding: 0 0 0 0;\n",
              "      width: 32px;\n",
              "    }\n",
              "\n",
              "    .colab-df-convert:hover {\n",
              "      background-color: #E2EBFA;\n",
              "      box-shadow: 0px 1px 2px rgba(60, 64, 67, 0.3), 0px 1px 3px 1px rgba(60, 64, 67, 0.15);\n",
              "      fill: #174EA6;\n",
              "    }\n",
              "\n",
              "    [theme=dark] .colab-df-convert {\n",
              "      background-color: #3B4455;\n",
              "      fill: #D2E3FC;\n",
              "    }\n",
              "\n",
              "    [theme=dark] .colab-df-convert:hover {\n",
              "      background-color: #434B5C;\n",
              "      box-shadow: 0px 1px 3px 1px rgba(0, 0, 0, 0.15);\n",
              "      filter: drop-shadow(0px 1px 2px rgba(0, 0, 0, 0.3));\n",
              "      fill: #FFFFFF;\n",
              "    }\n",
              "  </style>\n",
              "\n",
              "      <script>\n",
              "        const buttonEl =\n",
              "          document.querySelector('#df-66680c93-21aa-4d06-9fd6-0c859736290e button.colab-df-convert');\n",
              "        buttonEl.style.display =\n",
              "          google.colab.kernel.accessAllowed ? 'block' : 'none';\n",
              "\n",
              "        async function convertToInteractive(key) {\n",
              "          const element = document.querySelector('#df-66680c93-21aa-4d06-9fd6-0c859736290e');\n",
              "          const dataTable =\n",
              "            await google.colab.kernel.invokeFunction('convertToInteractive',\n",
              "                                                     [key], {});\n",
              "          if (!dataTable) return;\n",
              "\n",
              "          const docLinkHtml = 'Like what you see? Visit the ' +\n",
              "            '<a target=\"_blank\" href=https://colab.research.google.com/notebooks/data_table.ipynb>data table notebook</a>'\n",
              "            + ' to learn more about interactive tables.';\n",
              "          element.innerHTML = '';\n",
              "          dataTable['output_type'] = 'display_data';\n",
              "          await google.colab.output.renderOutput(dataTable, element);\n",
              "          const docLink = document.createElement('div');\n",
              "          docLink.innerHTML = docLinkHtml;\n",
              "          element.appendChild(docLink);\n",
              "        }\n",
              "      </script>\n",
              "    </div>\n",
              "  </div>\n",
              "  "
            ]
          },
          "metadata": {}
        }
      ],
      "source": [
        "df=pd.read_csv('gdrive/My Drive/Colab Notebooks/price_df_10mins_furtherpreprocess_24hvol.csv')\n",
        "df['tx_timestamp'] = pd.to_datetime(df['tx_timestamp'],unit='ns')\n",
        "df = df.rename(columns = {\"tx_timestamp\":\"timestamp\",\"0\":\"volatility\"})\n",
        "display(df.head(3))\n",
        "df.tail()\n",
        "df = df.set_index('timestamp')\n",
        "vol_df =df['24rolling_vol']*np.sqrt(365)"
      ]
    },
    {
      "cell_type": "code",
      "execution_count": null,
      "metadata": {
        "colab": {
          "base_uri": "https://localhost:8080/",
          "height": 143
        },
        "id": "mPlZx81hBG01",
        "outputId": "5f2f0e13-b85c-42ac-e95f-aa3451cbd3ed"
      },
      "outputs": [
        {
          "output_type": "display_data",
          "data": {
            "text/plain": [
              "                  timestamp  Amount1_volume      Amount0_volume\n",
              "0 2020-05-26 21:00:00+00:00        21113818  104951340774642123\n",
              "1 2020-05-26 21:10:00+00:00               0                   0\n",
              "2 2020-05-26 21:20:00+00:00               0                   0"
            ],
            "text/html": [
              "\n",
              "  <div id=\"df-f4c5dde5-e41e-4fc5-9470-43685ecebfaa\">\n",
              "    <div class=\"colab-df-container\">\n",
              "      <div>\n",
              "<style scoped>\n",
              "    .dataframe tbody tr th:only-of-type {\n",
              "        vertical-align: middle;\n",
              "    }\n",
              "\n",
              "    .dataframe tbody tr th {\n",
              "        vertical-align: top;\n",
              "    }\n",
              "\n",
              "    .dataframe thead th {\n",
              "        text-align: right;\n",
              "    }\n",
              "</style>\n",
              "<table border=\"1\" class=\"dataframe\">\n",
              "  <thead>\n",
              "    <tr style=\"text-align: right;\">\n",
              "      <th></th>\n",
              "      <th>timestamp</th>\n",
              "      <th>Amount1_volume</th>\n",
              "      <th>Amount0_volume</th>\n",
              "    </tr>\n",
              "  </thead>\n",
              "  <tbody>\n",
              "    <tr>\n",
              "      <th>0</th>\n",
              "      <td>2020-05-26 21:00:00+00:00</td>\n",
              "      <td>21113818</td>\n",
              "      <td>104951340774642123</td>\n",
              "    </tr>\n",
              "    <tr>\n",
              "      <th>1</th>\n",
              "      <td>2020-05-26 21:10:00+00:00</td>\n",
              "      <td>0</td>\n",
              "      <td>0</td>\n",
              "    </tr>\n",
              "    <tr>\n",
              "      <th>2</th>\n",
              "      <td>2020-05-26 21:20:00+00:00</td>\n",
              "      <td>0</td>\n",
              "      <td>0</td>\n",
              "    </tr>\n",
              "  </tbody>\n",
              "</table>\n",
              "</div>\n",
              "      <button class=\"colab-df-convert\" onclick=\"convertToInteractive('df-f4c5dde5-e41e-4fc5-9470-43685ecebfaa')\"\n",
              "              title=\"Convert this dataframe to an interactive table.\"\n",
              "              style=\"display:none;\">\n",
              "        \n",
              "  <svg xmlns=\"http://www.w3.org/2000/svg\" height=\"24px\"viewBox=\"0 0 24 24\"\n",
              "       width=\"24px\">\n",
              "    <path d=\"M0 0h24v24H0V0z\" fill=\"none\"/>\n",
              "    <path d=\"M18.56 5.44l.94 2.06.94-2.06 2.06-.94-2.06-.94-.94-2.06-.94 2.06-2.06.94zm-11 1L8.5 8.5l.94-2.06 2.06-.94-2.06-.94L8.5 2.5l-.94 2.06-2.06.94zm10 10l.94 2.06.94-2.06 2.06-.94-2.06-.94-.94-2.06-.94 2.06-2.06.94z\"/><path d=\"M17.41 7.96l-1.37-1.37c-.4-.4-.92-.59-1.43-.59-.52 0-1.04.2-1.43.59L10.3 9.45l-7.72 7.72c-.78.78-.78 2.05 0 2.83L4 21.41c.39.39.9.59 1.41.59.51 0 1.02-.2 1.41-.59l7.78-7.78 2.81-2.81c.8-.78.8-2.07 0-2.86zM5.41 20L4 18.59l7.72-7.72 1.47 1.35L5.41 20z\"/>\n",
              "  </svg>\n",
              "      </button>\n",
              "      \n",
              "  <style>\n",
              "    .colab-df-container {\n",
              "      display:flex;\n",
              "      flex-wrap:wrap;\n",
              "      gap: 12px;\n",
              "    }\n",
              "\n",
              "    .colab-df-convert {\n",
              "      background-color: #E8F0FE;\n",
              "      border: none;\n",
              "      border-radius: 50%;\n",
              "      cursor: pointer;\n",
              "      display: none;\n",
              "      fill: #1967D2;\n",
              "      height: 32px;\n",
              "      padding: 0 0 0 0;\n",
              "      width: 32px;\n",
              "    }\n",
              "\n",
              "    .colab-df-convert:hover {\n",
              "      background-color: #E2EBFA;\n",
              "      box-shadow: 0px 1px 2px rgba(60, 64, 67, 0.3), 0px 1px 3px 1px rgba(60, 64, 67, 0.15);\n",
              "      fill: #174EA6;\n",
              "    }\n",
              "\n",
              "    [theme=dark] .colab-df-convert {\n",
              "      background-color: #3B4455;\n",
              "      fill: #D2E3FC;\n",
              "    }\n",
              "\n",
              "    [theme=dark] .colab-df-convert:hover {\n",
              "      background-color: #434B5C;\n",
              "      box-shadow: 0px 1px 3px 1px rgba(0, 0, 0, 0.15);\n",
              "      filter: drop-shadow(0px 1px 2px rgba(0, 0, 0, 0.3));\n",
              "      fill: #FFFFFF;\n",
              "    }\n",
              "  </style>\n",
              "\n",
              "      <script>\n",
              "        const buttonEl =\n",
              "          document.querySelector('#df-f4c5dde5-e41e-4fc5-9470-43685ecebfaa button.colab-df-convert');\n",
              "        buttonEl.style.display =\n",
              "          google.colab.kernel.accessAllowed ? 'block' : 'none';\n",
              "\n",
              "        async function convertToInteractive(key) {\n",
              "          const element = document.querySelector('#df-f4c5dde5-e41e-4fc5-9470-43685ecebfaa');\n",
              "          const dataTable =\n",
              "            await google.colab.kernel.invokeFunction('convertToInteractive',\n",
              "                                                     [key], {});\n",
              "          if (!dataTable) return;\n",
              "\n",
              "          const docLinkHtml = 'Like what you see? Visit the ' +\n",
              "            '<a target=\"_blank\" href=https://colab.research.google.com/notebooks/data_table.ipynb>data table notebook</a>'\n",
              "            + ' to learn more about interactive tables.';\n",
              "          element.innerHTML = '';\n",
              "          dataTable['output_type'] = 'display_data';\n",
              "          await google.colab.output.renderOutput(dataTable, element);\n",
              "          const docLink = document.createElement('div');\n",
              "          docLink.innerHTML = docLinkHtml;\n",
              "          element.appendChild(docLink);\n",
              "        }\n",
              "      </script>\n",
              "    </div>\n",
              "  </div>\n",
              "  "
            ]
          },
          "metadata": {}
        }
      ],
      "source": [
        "volume_df = pd.read_csv('gdrive/My Drive/volume.csv')\n",
        "volume_df['tx_timestamp'] = pd.to_datetime(volume_df['tx_timestamp'],unit='ns')\n",
        "volume_df = volume_df.rename(columns = {\"tx_timestamp\":\"timestamp\",\"0\":\"volatility\"})\n",
        "display(volume_df.head(3))\n",
        "volume_df.tail()\n",
        "volume_df = volume_df.set_index('timestamp')"
      ]
    },
    {
      "cell_type": "code",
      "execution_count": null,
      "metadata": {
        "colab": {
          "base_uri": "https://localhost:8080/",
          "height": 308
        },
        "id": "U1C4mIgwMjqb",
        "outputId": "19ddd163-1a0e-4b85-f89e-d96923557cce"
      },
      "outputs": [
        {
          "output_type": "execute_result",
          "data": {
            "text/plain": [
              "<matplotlib.axes._subplots.AxesSubplot at 0x7f1e89a18730>"
            ]
          },
          "metadata": {},
          "execution_count": 42
        },
        {
          "output_type": "display_data",
          "data": {
            "text/plain": [
              "<Figure size 432x288 with 1 Axes>"
            ],
            "image/png": "[encoded data removed]"
          },
          "metadata": {
            "needs_background": "light"
          }
        }
      ],
      "source": [
        "vol_df.plot()"
      ]
    },
    {
      "cell_type": "code",
      "execution_count": null,
      "metadata": {
        "colab": {
          "base_uri": "https://localhost:8080/"
        },
        "id": "XXhmXqpPZxlD",
        "outputId": "e7acc5fb-4d30-411d-876a-87a0accf6551"
      },
      "outputs": [
        {
          "output_type": "execute_result",
          "data": {
            "text/plain": [
              "0.07145312882840953"
            ]
          },
          "metadata": {},
          "execution_count": 43
        }
      ],
      "source": [
        "vol_df.min()"
      ]
    },
    {
      "cell_type": "code",
      "execution_count": null,
      "metadata": {
        "id": "5UjUKSKnBG03"
      },
      "outputs": [],
      "source": [
        "vol_df = vol_df.fillna(method= 'ffill')"
      ]
    },
    {
      "cell_type": "code",
      "execution_count": null,
      "metadata": {
        "colab": {
          "base_uri": "https://localhost:8080/"
        },
        "id": "Fcab14-kZ0Ta",
        "outputId": "fffbd3f6-874d-4689-afa0-9559f31a3ea9"
      },
      "outputs": [
        {
          "output_type": "execute_result",
          "data": {
            "text/plain": [
              "0.4018414022471649"
            ]
          },
          "metadata": {},
          "execution_count": 45
        }
      ],
      "source": [
        "vol_df.max()"
      ]
    },
    {
      "cell_type": "code",
      "execution_count": null,
      "metadata": {
        "id": "CjZrR-QYM4sf"
      },
      "outputs": [],
      "source": [
        "df_price = df.iloc[:,1:-2]\n",
        "df_price = df_price.drop(columns = 'vol_of_vol')"
      ]
    },
    {
      "cell_type": "code",
      "execution_count": null,
      "metadata": {
        "colab": {
          "base_uri": "https://localhost:8080/",
          "height": 238
        },
        "id": "PE_U_syPNDPo",
        "outputId": "83e96631-508e-4b73-c9d3-d3d9dd4f5c5c"
      },
      "outputs": [
        {
          "output_type": "execute_result",
          "data": {
            "text/plain": [
              "                                first        last   mean         max  \\\n",
              "timestamp                                                              \n",
              "2020-05-26 21:00:00+00:00  201.177211  201.177211  201.0  201.177211   \n",
              "2020-05-26 21:10:00+00:00         NaN         NaN    NaN         NaN   \n",
              "2020-05-26 21:20:00+00:00         NaN         NaN    NaN         NaN   \n",
              "2020-05-26 21:30:00+00:00         NaN         NaN    NaN         NaN   \n",
              "2020-05-26 21:40:00+00:00         NaN         NaN    NaN         NaN   \n",
              "\n",
              "                                  min  \n",
              "timestamp                              \n",
              "2020-05-26 21:00:00+00:00  201.177211  \n",
              "2020-05-26 21:10:00+00:00         NaN  \n",
              "2020-05-26 21:20:00+00:00         NaN  \n",
              "2020-05-26 21:30:00+00:00         NaN  \n",
              "2020-05-26 21:40:00+00:00         NaN  "
            ],
            "text/html": [
              "\n",
              "  <div id=\"df-04d2013a-333c-4e98-bcca-22fd9b9fb5bb\">\n",
              "    <div class=\"colab-df-container\">\n",
              "      <div>\n",
              "<style scoped>\n",
              "    .dataframe tbody tr th:only-of-type {\n",
              "        vertical-align: middle;\n",
              "    }\n",
              "\n",
              "    .dataframe tbody tr th {\n",
              "        vertical-align: top;\n",
              "    }\n",
              "\n",
              "    .dataframe thead th {\n",
              "        text-align: right;\n",
              "    }\n",
              "</style>\n",
              "<table border=\"1\" class=\"dataframe\">\n",
              "  <thead>\n",
              "    <tr style=\"text-align: right;\">\n",
              "      <th></th>\n",
              "      <th>first</th>\n",
              "      <th>last</th>\n",
              "      <th>mean</th>\n",
              "      <th>max</th>\n",
              "      <th>min</th>\n",
              "    </tr>\n",
              "    <tr>\n",
              "      <th>timestamp</th>\n",
              "      <th></th>\n",
              "      <th></th>\n",
              "      <th></th>\n",
              "      <th></th>\n",
              "      <th></th>\n",
              "    </tr>\n",
              "  </thead>\n",
              "  <tbody>\n",
              "    <tr>\n",
              "      <th>2020-05-26 21:00:00+00:00</th>\n",
              "      <td>201.177211</td>\n",
              "      <td>201.177211</td>\n",
              "      <td>201.0</td>\n",
              "      <td>201.177211</td>\n",
              "      <td>201.177211</td>\n",
              "    </tr>\n",
              "    <tr>\n",
              "      <th>2020-05-26 21:10:00+00:00</th>\n",
              "      <td>NaN</td>\n",
              "      <td>NaN</td>\n",
              "      <td>NaN</td>\n",
              "      <td>NaN</td>\n",
              "      <td>NaN</td>\n",
              "    </tr>\n",
              "    <tr>\n",
              "      <th>2020-05-26 21:20:00+00:00</th>\n",
              "      <td>NaN</td>\n",
              "      <td>NaN</td>\n",
              "      <td>NaN</td>\n",
              "      <td>NaN</td>\n",
              "      <td>NaN</td>\n",
              "    </tr>\n",
              "    <tr>\n",
              "      <th>2020-05-26 21:30:00+00:00</th>\n",
              "      <td>NaN</td>\n",
              "      <td>NaN</td>\n",
              "      <td>NaN</td>\n",
              "      <td>NaN</td>\n",
              "      <td>NaN</td>\n",
              "    </tr>\n",
              "    <tr>\n",
              "      <th>2020-05-26 21:40:00+00:00</th>\n",
              "      <td>NaN</td>\n",
              "      <td>NaN</td>\n",
              "      <td>NaN</td>\n",
              "      <td>NaN</td>\n",
              "      <td>NaN</td>\n",
              "    </tr>\n",
              "  </tbody>\n",
              "</table>\n",
              "</div>\n",
              "      <button class=\"colab-df-convert\" onclick=\"convertToInteractive('df-04d2013a-333c-4e98-bcca-22fd9b9fb5bb')\"\n",
              "              title=\"Convert this dataframe to an interactive table.\"\n",
              "              style=\"display:none;\">\n",
              "        \n",
              "  <svg xmlns=\"http://www.w3.org/2000/svg\" height=\"24px\"viewBox=\"0 0 24 24\"\n",
              "       width=\"24px\">\n",
              "    <path d=\"M0 0h24v24H0V0z\" fill=\"none\"/>\n",
              "    <path d=\"M18.56 5.44l.94 2.06.94-2.06 2.06-.94-2.06-.94-.94-2.06-.94 2.06-2.06.94zm-11 1L8.5 8.5l.94-2.06 2.06-.94-2.06-.94L8.5 2.5l-.94 2.06-2.06.94zm10 10l.94 2.06.94-2.06 2.06-.94-2.06-.94-.94-2.06-.94 2.06-2.06.94z\"/><path d=\"M17.41 7.96l-1.37-1.37c-.4-.4-.92-.59-1.43-.59-.52 0-1.04.2-1.43.59L10.3 9.45l-7.72 7.72c-.78.78-.78 2.05 0 2.83L4 21.41c.39.39.9.59 1.41.59.51 0 1.02-.2 1.41-.59l7.78-7.78 2.81-2.81c.8-.78.8-2.07 0-2.86zM5.41 20L4 18.59l7.72-7.72 1.47 1.35L5.41 20z\"/>\n",
              "  </svg>\n",
              "      </button>\n",
              "      \n",
              "  <style>\n",
              "    .colab-df-container {\n",
              "      display:flex;\n",
              "      flex-wrap:wrap;\n",
              "      gap: 12px;\n",
              "    }\n",
              "\n",
              "    .colab-df-convert {\n",
              "      background-color: #E8F0FE;\n",
              "      border: none;\n",
              "      border-radius: 50%;\n",
              "      cursor: pointer;\n",
              "      display: none;\n",
              "      fill: #1967D2;\n",
              "      height: 32px;\n",
              "      padding: 0 0 0 0;\n",
              "      width: 32px;\n",
              "    }\n",
              "\n",
              "    .colab-df-convert:hover {\n",
              "      background-color: #E2EBFA;\n",
              "      box-shadow: 0px 1px 2px rgba(60, 64, 67, 0.3), 0px 1px 3px 1px rgba(60, 64, 67, 0.15);\n",
              "      fill: #174EA6;\n",
              "    }\n",
              "\n",
              "    [theme=dark] .colab-df-convert {\n",
              "      background-color: #3B4455;\n",
              "      fill: #D2E3FC;\n",
              "    }\n",
              "\n",
              "    [theme=dark] .colab-df-convert:hover {\n",
              "      background-color: #434B5C;\n",
              "      box-shadow: 0px 1px 3px 1px rgba(0, 0, 0, 0.15);\n",
              "      filter: drop-shadow(0px 1px 2px rgba(0, 0, 0, 0.3));\n",
              "      fill: #FFFFFF;\n",
              "    }\n",
              "  </style>\n",
              "\n",
              "      <script>\n",
              "        const buttonEl =\n",
              "          document.querySelector('#df-04d2013a-333c-4e98-bcca-22fd9b9fb5bb button.colab-df-convert');\n",
              "        buttonEl.style.display =\n",
              "          google.colab.kernel.accessAllowed ? 'block' : 'none';\n",
              "\n",
              "        async function convertToInteractive(key) {\n",
              "          const element = document.querySelector('#df-04d2013a-333c-4e98-bcca-22fd9b9fb5bb');\n",
              "          const dataTable =\n",
              "            await google.colab.kernel.invokeFunction('convertToInteractive',\n",
              "                                                     [key], {});\n",
              "          if (!dataTable) return;\n",
              "\n",
              "          const docLinkHtml = 'Like what you see? Visit the ' +\n",
              "            '<a target=\"_blank\" href=https://colab.research.google.com/notebooks/data_table.ipynb>data table notebook</a>'\n",
              "            + ' to learn more about interactive tables.';\n",
              "          element.innerHTML = '';\n",
              "          dataTable['output_type'] = 'display_data';\n",
              "          await google.colab.output.renderOutput(dataTable, element);\n",
              "          const docLink = document.createElement('div');\n",
              "          docLink.innerHTML = docLinkHtml;\n",
              "          element.appendChild(docLink);\n",
              "        }\n",
              "      </script>\n",
              "    </div>\n",
              "  </div>\n",
              "  "
            ]
          },
          "metadata": {},
          "execution_count": 31
        }
      ],
      "source": [
        "df_price.head()"
      ]
    },
    {
      "cell_type": "code",
      "execution_count": null,
      "metadata": {
        "id": "V-idzOTbiuc0"
      },
      "outputs": [],
      "source": [
        "df_final  = pd.concat([df_price,volume_df,vol_df],axis =1)\n"
      ]
    },
    {
      "cell_type": "code",
      "execution_count": null,
      "metadata": {
        "colab": {
          "base_uri": "https://localhost:8080/",
          "height": 238
        },
        "id": "wyXFqDNrNaTt",
        "outputId": "793aadec-5599-45e0-a66f-111c6215970a"
      },
      "outputs": [
        {
          "output_type": "execute_result",
          "data": {
            "text/plain": [
              "                                first        last   mean         max  \\\n",
              "timestamp                                                              \n",
              "2020-05-26 21:00:00+00:00  201.177211  201.177211  201.0  201.177211   \n",
              "2020-05-26 21:10:00+00:00         NaN         NaN    NaN         NaN   \n",
              "2020-05-26 21:20:00+00:00         NaN         NaN    NaN         NaN   \n",
              "2020-05-26 21:30:00+00:00         NaN         NaN    NaN         NaN   \n",
              "2020-05-26 21:40:00+00:00         NaN         NaN    NaN         NaN   \n",
              "\n",
              "                                  min  Amount1_volume      Amount0_volume  \\\n",
              "timestamp                                                                   \n",
              "2020-05-26 21:00:00+00:00  201.177211        21113818  104951340774642123   \n",
              "2020-05-26 21:10:00+00:00         NaN               0                   0   \n",
              "2020-05-26 21:20:00+00:00         NaN               0                   0   \n",
              "2020-05-26 21:30:00+00:00         NaN               0                   0   \n",
              "2020-05-26 21:40:00+00:00         NaN               0                   0   \n",
              "\n",
              "                           24rolling_vol  \n",
              "timestamp                                 \n",
              "2020-05-26 21:00:00+00:00            NaN  \n",
              "2020-05-26 21:10:00+00:00            NaN  \n",
              "2020-05-26 21:20:00+00:00            NaN  \n",
              "2020-05-26 21:30:00+00:00            NaN  \n",
              "2020-05-26 21:40:00+00:00            NaN  "
            ],
            "text/html": [
              "\n",
              "  <div id=\"df-b736c15e-d559-4d4d-ac91-022a0eafe635\">\n",
              "    <div class=\"colab-df-container\">\n",
              "      <div>\n",
              "<style scoped>\n",
              "    .dataframe tbody tr th:only-of-type {\n",
              "        vertical-align: middle;\n",
              "    }\n",
              "\n",
              "    .dataframe tbody tr th {\n",
              "        vertical-align: top;\n",
              "    }\n",
              "\n",
              "    .dataframe thead th {\n",
              "        text-align: right;\n",
              "    }\n",
              "</style>\n",
              "<table border=\"1\" class=\"dataframe\">\n",
              "  <thead>\n",
              "    <tr style=\"text-align: right;\">\n",
              "      <th></th>\n",
              "      <th>first</th>\n",
              "      <th>last</th>\n",
              "      <th>mean</th>\n",
              "      <th>max</th>\n",
              "      <th>min</th>\n",
              "      <th>Amount1_volume</th>\n",
              "      <th>Amount0_volume</th>\n",
              "      <th>24rolling_vol</th>\n",
              "    </tr>\n",
              "    <tr>\n",
              "      <th>timestamp</th>\n",
              "      <th></th>\n",
              "      <th></th>\n",
              "      <th></th>\n",
              "      <th></th>\n",
              "      <th></th>\n",
              "      <th></th>\n",
              "      <th></th>\n",
              "      <th></th>\n",
              "    </tr>\n",
              "  </thead>\n",
              "  <tbody>\n",
              "    <tr>\n",
              "      <th>2020-05-26 21:00:00+00:00</th>\n",
              "      <td>201.177211</td>\n",
              "      <td>201.177211</td>\n",
              "      <td>201.0</td>\n",
              "      <td>201.177211</td>\n",
              "      <td>201.177211</td>\n",
              "      <td>21113818</td>\n",
              "      <td>104951340774642123</td>\n",
              "      <td>NaN</td>\n",
              "    </tr>\n",
              "    <tr>\n",
              "      <th>2020-05-26 21:10:00+00:00</th>\n",
              "      <td>NaN</td>\n",
              "      <td>NaN</td>\n",
              "      <td>NaN</td>\n",
              "      <td>NaN</td>\n",
              "      <td>NaN</td>\n",
              "      <td>0</td>\n",
              "      <td>0</td>\n",
              "      <td>NaN</td>\n",
              "    </tr>\n",
              "    <tr>\n",
              "      <th>2020-05-26 21:20:00+00:00</th>\n",
              "      <td>NaN</td>\n",
              "      <td>NaN</td>\n",
              "      <td>NaN</td>\n",
              "      <td>NaN</td>\n",
              "      <td>NaN</td>\n",
              "      <td>0</td>\n",
              "      <td>0</td>\n",
              "      <td>NaN</td>\n",
              "    </tr>\n",
              "    <tr>\n",
              "      <th>2020-05-26 21:30:00+00:00</th>\n",
              "      <td>NaN</td>\n",
              "      <td>NaN</td>\n",
              "      <td>NaN</td>\n",
              "      <td>NaN</td>\n",
              "      <td>NaN</td>\n",
              "      <td>0</td>\n",
              "      <td>0</td>\n",
              "      <td>NaN</td>\n",
              "    </tr>\n",
              "    <tr>\n",
              "      <th>2020-05-26 21:40:00+00:00</th>\n",
              "      <td>NaN</td>\n",
              "      <td>NaN</td>\n",
              "      <td>NaN</td>\n",
              "      <td>NaN</td>\n",
              "      <td>NaN</td>\n",
              "      <td>0</td>\n",
              "      <td>0</td>\n",
              "      <td>NaN</td>\n",
              "    </tr>\n",
              "  </tbody>\n",
              "</table>\n",
              "</div>\n",
              "      <button class=\"colab-df-convert\" onclick=\"convertToInteractive('df-b736c15e-d559-4d4d-ac91-022a0eafe635')\"\n",
              "              title=\"Convert this dataframe to an interactive table.\"\n",
              "              style=\"display:none;\">\n",
              "        \n",
              "  <svg xmlns=\"http://www.w3.org/2000/svg\" height=\"24px\"viewBox=\"0 0 24 24\"\n",
              "       width=\"24px\">\n",
              "    <path d=\"M0 0h24v24H0V0z\" fill=\"none\"/>\n",
              "    <path d=\"M18.56 5.44l.94 2.06.94-2.06 2.06-.94-2.06-.94-.94-2.06-.94 2.06-2.06.94zm-11 1L8.5 8.5l.94-2.06 2.06-.94-2.06-.94L8.5 2.5l-.94 2.06-2.06.94zm10 10l.94 2.06.94-2.06 2.06-.94-2.06-.94-.94-2.06-.94 2.06-2.06.94z\"/><path d=\"M17.41 7.96l-1.37-1.37c-.4-.4-.92-.59-1.43-.59-.52 0-1.04.2-1.43.59L10.3 9.45l-7.72 7.72c-.78.78-.78 2.05 0 2.83L4 21.41c.39.39.9.59 1.41.59.51 0 1.02-.2 1.41-.59l7.78-7.78 2.81-2.81c.8-.78.8-2.07 0-2.86zM5.41 20L4 18.59l7.72-7.72 1.47 1.35L5.41 20z\"/>\n",
              "  </svg>\n",
              "      </button>\n",
              "      \n",
              "  <style>\n",
              "    .colab-df-container {\n",
              "      display:flex;\n",
              "      flex-wrap:wrap;\n",
              "      gap: 12px;\n",
              "    }\n",
              "\n",
              "    .colab-df-convert {\n",
              "      background-color: #E8F0FE;\n",
              "      border: none;\n",
              "      border-radius: 50%;\n",
              "      cursor: pointer;\n",
              "      display: none;\n",
              "      fill: #1967D2;\n",
              "      height: 32px;\n",
              "      padding: 0 0 0 0;\n",
              "      width: 32px;\n",
              "    }\n",
              "\n",
              "    .colab-df-convert:hover {\n",
              "      background-color: #E2EBFA;\n",
              "      box-shadow: 0px 1px 2px rgba(60, 64, 67, 0.3), 0px 1px 3px 1px rgba(60, 64, 67, 0.15);\n",
              "      fill: #174EA6;\n",
              "    }\n",
              "\n",
              "    [theme=dark] .colab-df-convert {\n",
              "      background-color: #3B4455;\n",
              "      fill: #D2E3FC;\n",
              "    }\n",
              "\n",
              "    [theme=dark] .colab-df-convert:hover {\n",
              "      background-color: #434B5C;\n",
              "      box-shadow: 0px 1px 3px 1px rgba(0, 0, 0, 0.15);\n",
              "      filter: drop-shadow(0px 1px 2px rgba(0, 0, 0, 0.3));\n",
              "      fill: #FFFFFF;\n",
              "    }\n",
              "  </style>\n",
              "\n",
              "      <script>\n",
              "        const buttonEl =\n",
              "          document.querySelector('#df-b736c15e-d559-4d4d-ac91-022a0eafe635 button.colab-df-convert');\n",
              "        buttonEl.style.display =\n",
              "          google.colab.kernel.accessAllowed ? 'block' : 'none';\n",
              "\n",
              "        async function convertToInteractive(key) {\n",
              "          const element = document.querySelector('#df-b736c15e-d559-4d4d-ac91-022a0eafe635');\n",
              "          const dataTable =\n",
              "            await google.colab.kernel.invokeFunction('convertToInteractive',\n",
              "                                                     [key], {});\n",
              "          if (!dataTable) return;\n",
              "\n",
              "          const docLinkHtml = 'Like what you see? Visit the ' +\n",
              "            '<a target=\"_blank\" href=https://colab.research.google.com/notebooks/data_table.ipynb>data table notebook</a>'\n",
              "            + ' to learn more about interactive tables.';\n",
              "          element.innerHTML = '';\n",
              "          dataTable['output_type'] = 'display_data';\n",
              "          await google.colab.output.renderOutput(dataTable, element);\n",
              "          const docLink = document.createElement('div');\n",
              "          docLink.innerHTML = docLinkHtml;\n",
              "          element.appendChild(docLink);\n",
              "        }\n",
              "      </script>\n",
              "    </div>\n",
              "  </div>\n",
              "  "
            ]
          },
          "metadata": {},
          "execution_count": 18
        }
      ],
      "source": [
        "df_final.head()"
      ]
    },
    {
      "cell_type": "code",
      "execution_count": null,
      "metadata": {
        "id": "_FbJJM_GOYgP"
      },
      "outputs": [],
      "source": [
        "df = df_final\n",
        "df = df.fillna(method = 'ffill')\n",
        "df = df.fillna(0)"
      ]
    },
    {
      "cell_type": "code",
      "execution_count": null,
      "metadata": {
        "colab": {
          "base_uri": "https://localhost:8080/",
          "height": 238
        },
        "id": "YvMWRLNWv8QV",
        "outputId": "a2c99828-280e-4358-b90e-2cf89da25ce8"
      },
      "outputs": [
        {
          "output_type": "execute_result",
          "data": {
            "text/plain": [
              "                                first        last   mean         max  \\\n",
              "timestamp                                                              \n",
              "2020-05-26 21:00:00+00:00  201.177211  201.177211  201.0  201.177211   \n",
              "2020-05-26 21:10:00+00:00  201.177211  201.177211  201.0  201.177211   \n",
              "2020-05-26 21:20:00+00:00  201.177211  201.177211  201.0  201.177211   \n",
              "2020-05-26 21:30:00+00:00  201.177211  201.177211  201.0  201.177211   \n",
              "2020-05-26 21:40:00+00:00  201.177211  201.177211  201.0  201.177211   \n",
              "\n",
              "                                  min  Amount1_volume      Amount0_volume  \\\n",
              "timestamp                                                                   \n",
              "2020-05-26 21:00:00+00:00  201.177211        21113818  104951340774642123   \n",
              "2020-05-26 21:10:00+00:00  201.177211               0                   0   \n",
              "2020-05-26 21:20:00+00:00  201.177211               0                   0   \n",
              "2020-05-26 21:30:00+00:00  201.177211               0                   0   \n",
              "2020-05-26 21:40:00+00:00  201.177211               0                   0   \n",
              "\n",
              "                           24rolling_vol  \n",
              "timestamp                                 \n",
              "2020-05-26 21:00:00+00:00            0.0  \n",
              "2020-05-26 21:10:00+00:00            0.0  \n",
              "2020-05-26 21:20:00+00:00            0.0  \n",
              "2020-05-26 21:30:00+00:00            0.0  \n",
              "2020-05-26 21:40:00+00:00            0.0  "
            ],
            "text/html": [
              "\n",
              "  <div id=\"df-15cde17e-55a9-45a4-97a6-d1a1dad7b0cd\">\n",
              "    <div class=\"colab-df-container\">\n",
              "      <div>\n",
              "<style scoped>\n",
              "    .dataframe tbody tr th:only-of-type {\n",
              "        vertical-align: middle;\n",
              "    }\n",
              "\n",
              "    .dataframe tbody tr th {\n",
              "        vertical-align: top;\n",
              "    }\n",
              "\n",
              "    .dataframe thead th {\n",
              "        text-align: right;\n",
              "    }\n",
              "</style>\n",
              "<table border=\"1\" class=\"dataframe\">\n",
              "  <thead>\n",
              "    <tr style=\"text-align: right;\">\n",
              "      <th></th>\n",
              "      <th>first</th>\n",
              "      <th>last</th>\n",
              "      <th>mean</th>\n",
              "      <th>max</th>\n",
              "      <th>min</th>\n",
              "      <th>Amount1_volume</th>\n",
              "      <th>Amount0_volume</th>\n",
              "      <th>24rolling_vol</th>\n",
              "    </tr>\n",
              "    <tr>\n",
              "      <th>timestamp</th>\n",
              "      <th></th>\n",
              "      <th></th>\n",
              "      <th></th>\n",
              "      <th></th>\n",
              "      <th></th>\n",
              "      <th></th>\n",
              "      <th></th>\n",
              "      <th></th>\n",
              "    </tr>\n",
              "  </thead>\n",
              "  <tbody>\n",
              "    <tr>\n",
              "      <th>2020-05-26 21:00:00+00:00</th>\n",
              "      <td>201.177211</td>\n",
              "      <td>201.177211</td>\n",
              "      <td>201.0</td>\n",
              "      <td>201.177211</td>\n",
              "      <td>201.177211</td>\n",
              "      <td>21113818</td>\n",
              "      <td>104951340774642123</td>\n",
              "      <td>0.0</td>\n",
              "    </tr>\n",
              "    <tr>\n",
              "      <th>2020-05-26 21:10:00+00:00</th>\n",
              "      <td>201.177211</td>\n",
              "      <td>201.177211</td>\n",
              "      <td>201.0</td>\n",
              "      <td>201.177211</td>\n",
              "      <td>201.177211</td>\n",
              "      <td>0</td>\n",
              "      <td>0</td>\n",
              "      <td>0.0</td>\n",
              "    </tr>\n",
              "    <tr>\n",
              "      <th>2020-05-26 21:20:00+00:00</th>\n",
              "      <td>201.177211</td>\n",
              "      <td>201.177211</td>\n",
              "      <td>201.0</td>\n",
              "      <td>201.177211</td>\n",
              "      <td>201.177211</td>\n",
              "      <td>0</td>\n",
              "      <td>0</td>\n",
              "      <td>0.0</td>\n",
              "    </tr>\n",
              "    <tr>\n",
              "      <th>2020-05-26 21:30:00+00:00</th>\n",
              "      <td>201.177211</td>\n",
              "      <td>201.177211</td>\n",
              "      <td>201.0</td>\n",
              "      <td>201.177211</td>\n",
              "      <td>201.177211</td>\n",
              "      <td>0</td>\n",
              "      <td>0</td>\n",
              "      <td>0.0</td>\n",
              "    </tr>\n",
              "    <tr>\n",
              "      <th>2020-05-26 21:40:00+00:00</th>\n",
              "      <td>201.177211</td>\n",
              "      <td>201.177211</td>\n",
              "      <td>201.0</td>\n",
              "      <td>201.177211</td>\n",
              "      <td>201.177211</td>\n",
              "      <td>0</td>\n",
              "      <td>0</td>\n",
              "      <td>0.0</td>\n",
              "    </tr>\n",
              "  </tbody>\n",
              "</table>\n",
              "</div>\n",
              "      <button class=\"colab-df-convert\" onclick=\"convertToInteractive('df-15cde17e-55a9-45a4-97a6-d1a1dad7b0cd')\"\n",
              "              title=\"Convert this dataframe to an interactive table.\"\n",
              "              style=\"display:none;\">\n",
              "        \n",
              "  <svg xmlns=\"http://www.w3.org/2000/svg\" height=\"24px\"viewBox=\"0 0 24 24\"\n",
              "       width=\"24px\">\n",
              "    <path d=\"M0 0h24v24H0V0z\" fill=\"none\"/>\n",
              "    <path d=\"M18.56 5.44l.94 2.06.94-2.06 2.06-.94-2.06-.94-.94-2.06-.94 2.06-2.06.94zm-11 1L8.5 8.5l.94-2.06 2.06-.94-2.06-.94L8.5 2.5l-.94 2.06-2.06.94zm10 10l.94 2.06.94-2.06 2.06-.94-2.06-.94-.94-2.06-.94 2.06-2.06.94z\"/><path d=\"M17.41 7.96l-1.37-1.37c-.4-.4-.92-.59-1.43-.59-.52 0-1.04.2-1.43.59L10.3 9.45l-7.72 7.72c-.78.78-.78 2.05 0 2.83L4 21.41c.39.39.9.59 1.41.59.51 0 1.02-.2 1.41-.59l7.78-7.78 2.81-2.81c.8-.78.8-2.07 0-2.86zM5.41 20L4 18.59l7.72-7.72 1.47 1.35L5.41 20z\"/>\n",
              "  </svg>\n",
              "      </button>\n",
              "      \n",
              "  <style>\n",
              "    .colab-df-container {\n",
              "      display:flex;\n",
              "      flex-wrap:wrap;\n",
              "      gap: 12px;\n",
              "    }\n",
              "\n",
              "    .colab-df-convert {\n",
              "      background-color: #E8F0FE;\n",
              "      border: none;\n",
              "      border-radius: 50%;\n",
              "      cursor: pointer;\n",
              "      display: none;\n",
              "      fill: #1967D2;\n",
              "      height: 32px;\n",
              "      padding: 0 0 0 0;\n",
              "      width: 32px;\n",
              "    }\n",
              "\n",
              "    .colab-df-convert:hover {\n",
              "      background-color: #E2EBFA;\n",
              "      box-shadow: 0px 1px 2px rgba(60, 64, 67, 0.3), 0px 1px 3px 1px rgba(60, 64, 67, 0.15);\n",
              "      fill: #174EA6;\n",
              "    }\n",
              "\n",
              "    [theme=dark] .colab-df-convert {\n",
              "      background-color: #3B4455;\n",
              "      fill: #D2E3FC;\n",
              "    }\n",
              "\n",
              "    [theme=dark] .colab-df-convert:hover {\n",
              "      background-color: #434B5C;\n",
              "      box-shadow: 0px 1px 3px 1px rgba(0, 0, 0, 0.15);\n",
              "      filter: drop-shadow(0px 1px 2px rgba(0, 0, 0, 0.3));\n",
              "      fill: #FFFFFF;\n",
              "    }\n",
              "  </style>\n",
              "\n",
              "      <script>\n",
              "        const buttonEl =\n",
              "          document.querySelector('#df-15cde17e-55a9-45a4-97a6-d1a1dad7b0cd button.colab-df-convert');\n",
              "        buttonEl.style.display =\n",
              "          google.colab.kernel.accessAllowed ? 'block' : 'none';\n",
              "\n",
              "        async function convertToInteractive(key) {\n",
              "          const element = document.querySelector('#df-15cde17e-55a9-45a4-97a6-d1a1dad7b0cd');\n",
              "          const dataTable =\n",
              "            await google.colab.kernel.invokeFunction('convertToInteractive',\n",
              "                                                     [key], {});\n",
              "          if (!dataTable) return;\n",
              "\n",
              "          const docLinkHtml = 'Like what you see? Visit the ' +\n",
              "            '<a target=\"_blank\" href=https://colab.research.google.com/notebooks/data_table.ipynb>data table notebook</a>'\n",
              "            + ' to learn more about interactive tables.';\n",
              "          element.innerHTML = '';\n",
              "          dataTable['output_type'] = 'display_data';\n",
              "          await google.colab.output.renderOutput(dataTable, element);\n",
              "          const docLink = document.createElement('div');\n",
              "          docLink.innerHTML = docLinkHtml;\n",
              "          element.appendChild(docLink);\n",
              "        }\n",
              "      </script>\n",
              "    </div>\n",
              "  </div>\n",
              "  "
            ]
          },
          "metadata": {},
          "execution_count": 20
        }
      ],
      "source": [
        "df.head()"
      ]
    },
    {
      "cell_type": "code",
      "execution_count": null,
      "metadata": {
        "colab": {
          "base_uri": "https://localhost:8080/",
          "height": 238
        },
        "id": "5R7l0vt6OggL",
        "outputId": "709a4973-4630-4f44-f5e2-80bc931b5466"
      },
      "outputs": [
        {
          "output_type": "execute_result",
          "data": {
            "text/plain": [
              "                                 first         last         mean          max  \\\n",
              "timestamp                                                                       \n",
              "2022-10-30 13:50:00+00:00  1593.069968  1591.725668  1590.000000  1593.592900   \n",
              "2022-10-30 14:00:00+00:00  1591.752575  1579.893707  1585.600000  1591.752575   \n",
              "2022-10-30 14:10:00+00:00  1579.795094  1581.087842  1586.562500  1590.615992   \n",
              "2022-10-30 14:20:00+00:00  1581.079224  1595.250643  1590.357143  1595.250643   \n",
              "2022-10-30 14:30:00+00:00  1585.692455  1595.494499  1591.666667  1595.494499   \n",
              "\n",
              "                                   min  Amount1_volume        Amount0_volume  \\\n",
              "timestamp                                                                      \n",
              "2022-10-30 13:50:00+00:00  1582.369607     26570925743  16749903401271139188   \n",
              "2022-10-30 14:00:00+00:00  1579.893707     19714464654  12457058786247886703   \n",
              "2022-10-30 14:10:00+00:00  1579.691428     12234304700   7705900002160563944   \n",
              "2022-10-30 14:20:00+00:00  1581.079224     27665291683  17370766982791840106   \n",
              "2022-10-30 14:30:00+00:00  1585.692455      6170372677   3875614759307931858   \n",
              "\n",
              "                           24rolling_vol  \n",
              "timestamp                                 \n",
              "2022-10-30 13:50:00+00:00       0.091792  \n",
              "2022-10-30 14:00:00+00:00       0.091673  \n",
              "2022-10-30 14:10:00+00:00       0.091597  \n",
              "2022-10-30 14:20:00+00:00       0.092790  \n",
              "2022-10-30 14:30:00+00:00       0.092494  "
            ],
            "text/html": [
              "\n",
              "  <div id=\"df-f222cc86-10db-43d1-97c7-0d88dbb4dcf1\">\n",
              "    <div class=\"colab-df-container\">\n",
              "      <div>\n",
              "<style scoped>\n",
              "    .dataframe tbody tr th:only-of-type {\n",
              "        vertical-align: middle;\n",
              "    }\n",
              "\n",
              "    .dataframe tbody tr th {\n",
              "        vertical-align: top;\n",
              "    }\n",
              "\n",
              "    .dataframe thead th {\n",
              "        text-align: right;\n",
              "    }\n",
              "</style>\n",
              "<table border=\"1\" class=\"dataframe\">\n",
              "  <thead>\n",
              "    <tr style=\"text-align: right;\">\n",
              "      <th></th>\n",
              "      <th>first</th>\n",
              "      <th>last</th>\n",
              "      <th>mean</th>\n",
              "      <th>max</th>\n",
              "      <th>min</th>\n",
              "      <th>Amount1_volume</th>\n",
              "      <th>Amount0_volume</th>\n",
              "      <th>24rolling_vol</th>\n",
              "    </tr>\n",
              "    <tr>\n",
              "      <th>timestamp</th>\n",
              "      <th></th>\n",
              "      <th></th>\n",
              "      <th></th>\n",
              "      <th></th>\n",
              "      <th></th>\n",
              "      <th></th>\n",
              "      <th></th>\n",
              "      <th></th>\n",
              "    </tr>\n",
              "  </thead>\n",
              "  <tbody>\n",
              "    <tr>\n",
              "      <th>2022-10-30 13:50:00+00:00</th>\n",
              "      <td>1593.069968</td>\n",
              "      <td>1591.725668</td>\n",
              "      <td>1590.000000</td>\n",
              "      <td>1593.592900</td>\n",
              "      <td>1582.369607</td>\n",
              "      <td>26570925743</td>\n",
              "      <td>16749903401271139188</td>\n",
              "      <td>0.091792</td>\n",
              "    </tr>\n",
              "    <tr>\n",
              "      <th>2022-10-30 14:00:00+00:00</th>\n",
              "      <td>1591.752575</td>\n",
              "      <td>1579.893707</td>\n",
              "      <td>1585.600000</td>\n",
              "      <td>1591.752575</td>\n",
              "      <td>1579.893707</td>\n",
              "      <td>19714464654</td>\n",
              "      <td>12457058786247886703</td>\n",
              "      <td>0.091673</td>\n",
              "    </tr>\n",
              "    <tr>\n",
              "      <th>2022-10-30 14:10:00+00:00</th>\n",
              "      <td>1579.795094</td>\n",
              "      <td>1581.087842</td>\n",
              "      <td>1586.562500</td>\n",
              "      <td>1590.615992</td>\n",
              "      <td>1579.691428</td>\n",
              "      <td>12234304700</td>\n",
              "      <td>7705900002160563944</td>\n",
              "      <td>0.091597</td>\n",
              "    </tr>\n",
              "    <tr>\n",
              "      <th>2022-10-30 14:20:00+00:00</th>\n",
              "      <td>1581.079224</td>\n",
              "      <td>1595.250643</td>\n",
              "      <td>1590.357143</td>\n",
              "      <td>1595.250643</td>\n",
              "      <td>1581.079224</td>\n",
              "      <td>27665291683</td>\n",
              "      <td>17370766982791840106</td>\n",
              "      <td>0.092790</td>\n",
              "    </tr>\n",
              "    <tr>\n",
              "      <th>2022-10-30 14:30:00+00:00</th>\n",
              "      <td>1585.692455</td>\n",
              "      <td>1595.494499</td>\n",
              "      <td>1591.666667</td>\n",
              "      <td>1595.494499</td>\n",
              "      <td>1585.692455</td>\n",
              "      <td>6170372677</td>\n",
              "      <td>3875614759307931858</td>\n",
              "      <td>0.092494</td>\n",
              "    </tr>\n",
              "  </tbody>\n",
              "</table>\n",
              "</div>\n",
              "      <button class=\"colab-df-convert\" onclick=\"convertToInteractive('df-f222cc86-10db-43d1-97c7-0d88dbb4dcf1')\"\n",
              "              title=\"Convert this dataframe to an interactive table.\"\n",
              "              style=\"display:none;\">\n",
              "        \n",
              "  <svg xmlns=\"http://www.w3.org/2000/svg\" height=\"24px\"viewBox=\"0 0 24 24\"\n",
              "       width=\"24px\">\n",
              "    <path d=\"M0 0h24v24H0V0z\" fill=\"none\"/>\n",
              "    <path d=\"M18.56 5.44l.94 2.06.94-2.06 2.06-.94-2.06-.94-.94-2.06-.94 2.06-2.06.94zm-11 1L8.5 8.5l.94-2.06 2.06-.94-2.06-.94L8.5 2.5l-.94 2.06-2.06.94zm10 10l.94 2.06.94-2.06 2.06-.94-2.06-.94-.94-2.06-.94 2.06-2.06.94z\"/><path d=\"M17.41 7.96l-1.37-1.37c-.4-.4-.92-.59-1.43-.59-.52 0-1.04.2-1.43.59L10.3 9.45l-7.72 7.72c-.78.78-.78 2.05 0 2.83L4 21.41c.39.39.9.59 1.41.59.51 0 1.02-.2 1.41-.59l7.78-7.78 2.81-2.81c.8-.78.8-2.07 0-2.86zM5.41 20L4 18.59l7.72-7.72 1.47 1.35L5.41 20z\"/>\n",
              "  </svg>\n",
              "      </button>\n",
              "      \n",
              "  <style>\n",
              "    .colab-df-container {\n",
              "      display:flex;\n",
              "      flex-wrap:wrap;\n",
              "      gap: 12px;\n",
              "    }\n",
              "\n",
              "    .colab-df-convert {\n",
              "      background-color: #E8F0FE;\n",
              "      border: none;\n",
              "      border-radius: 50%;\n",
              "      cursor: pointer;\n",
              "      display: none;\n",
              "      fill: #1967D2;\n",
              "      height: 32px;\n",
              "      padding: 0 0 0 0;\n",
              "      width: 32px;\n",
              "    }\n",
              "\n",
              "    .colab-df-convert:hover {\n",
              "      background-color: #E2EBFA;\n",
              "      box-shadow: 0px 1px 2px rgba(60, 64, 67, 0.3), 0px 1px 3px 1px rgba(60, 64, 67, 0.15);\n",
              "      fill: #174EA6;\n",
              "    }\n",
              "\n",
              "    [theme=dark] .colab-df-convert {\n",
              "      background-color: #3B4455;\n",
              "      fill: #D2E3FC;\n",
              "    }\n",
              "\n",
              "    [theme=dark] .colab-df-convert:hover {\n",
              "      background-color: #434B5C;\n",
              "      box-shadow: 0px 1px 3px 1px rgba(0, 0, 0, 0.15);\n",
              "      filter: drop-shadow(0px 1px 2px rgba(0, 0, 0, 0.3));\n",
              "      fill: #FFFFFF;\n",
              "    }\n",
              "  </style>\n",
              "\n",
              "      <script>\n",
              "        const buttonEl =\n",
              "          document.querySelector('#df-f222cc86-10db-43d1-97c7-0d88dbb4dcf1 button.colab-df-convert');\n",
              "        buttonEl.style.display =\n",
              "          google.colab.kernel.accessAllowed ? 'block' : 'none';\n",
              "\n",
              "        async function convertToInteractive(key) {\n",
              "          const element = document.querySelector('#df-f222cc86-10db-43d1-97c7-0d88dbb4dcf1');\n",
              "          const dataTable =\n",
              "            await google.colab.kernel.invokeFunction('convertToInteractive',\n",
              "                                                     [key], {});\n",
              "          if (!dataTable) return;\n",
              "\n",
              "          const docLinkHtml = 'Like what you see? Visit the ' +\n",
              "            '<a target=\"_blank\" href=https://colab.research.google.com/notebooks/data_table.ipynb>data table notebook</a>'\n",
              "            + ' to learn more about interactive tables.';\n",
              "          element.innerHTML = '';\n",
              "          dataTable['output_type'] = 'display_data';\n",
              "          await google.colab.output.renderOutput(dataTable, element);\n",
              "          const docLink = document.createElement('div');\n",
              "          docLink.innerHTML = docLinkHtml;\n",
              "          element.appendChild(docLink);\n",
              "        }\n",
              "      </script>\n",
              "    </div>\n",
              "  </div>\n",
              "  "
            ]
          },
          "metadata": {},
          "execution_count": 21
        }
      ],
      "source": [
        "df.tail()\n"
      ]
    },
    {
      "cell_type": "code",
      "execution_count": null,
      "metadata": {
        "id": "sMA-jclwbJf7"
      },
      "outputs": [],
      "source": [
        "df['Amount1_volume'] = np.log(df['Amount1_volume'])\n",
        "df['Amount1_volume'] = np.nan_to_num(np.log(df['Amount1_volume']), neginf=0)\n"
      ]
    },
    {
      "cell_type": "code",
      "source": [
        "df = df.fillna(0)"
      ],
      "metadata": {
        "id": "m8Db0o7EDSzH"
      },
      "execution_count": null,
      "outputs": []
    },
    {
      "cell_type": "code",
      "source": [
        "df[['Amount0_volume']].tail()"
      ],
      "metadata": {
        "colab": {
          "base_uri": "https://localhost:8080/",
          "height": 238
        },
        "id": "jzrWBkgbDsfS",
        "outputId": "6d25b0a3-b1ce-43a3-f188-cd28a89f6dd0"
      },
      "execution_count": null,
      "outputs": [
        {
          "output_type": "execute_result",
          "data": {
            "text/plain": [
              "                                 Amount0_volume\n",
              "timestamp                                      \n",
              "2022-10-30 13:50:00+00:00  16749903401271139188\n",
              "2022-10-30 14:00:00+00:00  12457058786247886703\n",
              "2022-10-30 14:10:00+00:00   7705900002160563944\n",
              "2022-10-30 14:20:00+00:00  17370766982791840106\n",
              "2022-10-30 14:30:00+00:00   3875614759307931858"
            ],
            "text/html": [
              "\n",
              "  <div id=\"df-ed6fe442-a8ac-4787-9aaf-c6cb6d7f4729\">\n",
              "    <div class=\"colab-df-container\">\n",
              "      <div>\n",
              "<style scoped>\n",
              "    .dataframe tbody tr th:only-of-type {\n",
              "        vertical-align: middle;\n",
              "    }\n",
              "\n",
              "    .dataframe tbody tr th {\n",
              "        vertical-align: top;\n",
              "    }\n",
              "\n",
              "    .dataframe thead th {\n",
              "        text-align: right;\n",
              "    }\n",
              "</style>\n",
              "<table border=\"1\" class=\"dataframe\">\n",
              "  <thead>\n",
              "    <tr style=\"text-align: right;\">\n",
              "      <th></th>\n",
              "      <th>Amount0_volume</th>\n",
              "    </tr>\n",
              "    <tr>\n",
              "      <th>timestamp</th>\n",
              "      <th></th>\n",
              "    </tr>\n",
              "  </thead>\n",
              "  <tbody>\n",
              "    <tr>\n",
              "      <th>2022-10-30 13:50:00+00:00</th>\n",
              "      <td>16749903401271139188</td>\n",
              "    </tr>\n",
              "    <tr>\n",
              "      <th>2022-10-30 14:00:00+00:00</th>\n",
              "      <td>12457058786247886703</td>\n",
              "    </tr>\n",
              "    <tr>\n",
              "      <th>2022-10-30 14:10:00+00:00</th>\n",
              "      <td>7705900002160563944</td>\n",
              "    </tr>\n",
              "    <tr>\n",
              "      <th>2022-10-30 14:20:00+00:00</th>\n",
              "      <td>17370766982791840106</td>\n",
              "    </tr>\n",
              "    <tr>\n",
              "      <th>2022-10-30 14:30:00+00:00</th>\n",
              "      <td>3875614759307931858</td>\n",
              "    </tr>\n",
              "  </tbody>\n",
              "</table>\n",
              "</div>\n",
              "      <button class=\"colab-df-convert\" onclick=\"convertToInteractive('df-ed6fe442-a8ac-4787-9aaf-c6cb6d7f4729')\"\n",
              "              title=\"Convert this dataframe to an interactive table.\"\n",
              "              style=\"display:none;\">\n",
              "        \n",
              "  <svg xmlns=\"http://www.w3.org/2000/svg\" height=\"24px\"viewBox=\"0 0 24 24\"\n",
              "       width=\"24px\">\n",
              "    <path d=\"M0 0h24v24H0V0z\" fill=\"none\"/>\n",
              "    <path d=\"M18.56 5.44l.94 2.06.94-2.06 2.06-.94-2.06-.94-.94-2.06-.94 2.06-2.06.94zm-11 1L8.5 8.5l.94-2.06 2.06-.94-2.06-.94L8.5 2.5l-.94 2.06-2.06.94zm10 10l.94 2.06.94-2.06 2.06-.94-2.06-.94-.94-2.06-.94 2.06-2.06.94z\"/><path d=\"M17.41 7.96l-1.37-1.37c-.4-.4-.92-.59-1.43-.59-.52 0-1.04.2-1.43.59L10.3 9.45l-7.72 7.72c-.78.78-.78 2.05 0 2.83L4 21.41c.39.39.9.59 1.41.59.51 0 1.02-.2 1.41-.59l7.78-7.78 2.81-2.81c.8-.78.8-2.07 0-2.86zM5.41 20L4 18.59l7.72-7.72 1.47 1.35L5.41 20z\"/>\n",
              "  </svg>\n",
              "      </button>\n",
              "      \n",
              "  <style>\n",
              "    .colab-df-container {\n",
              "      display:flex;\n",
              "      flex-wrap:wrap;\n",
              "      gap: 12px;\n",
              "    }\n",
              "\n",
              "    .colab-df-convert {\n",
              "      background-color: #E8F0FE;\n",
              "      border: none;\n",
              "      border-radius: 50%;\n",
              "      cursor: pointer;\n",
              "      display: none;\n",
              "      fill: #1967D2;\n",
              "      height: 32px;\n",
              "      padding: 0 0 0 0;\n",
              "      width: 32px;\n",
              "    }\n",
              "\n",
              "    .colab-df-convert:hover {\n",
              "      background-color: #E2EBFA;\n",
              "      box-shadow: 0px 1px 2px rgba(60, 64, 67, 0.3), 0px 1px 3px 1px rgba(60, 64, 67, 0.15);\n",
              "      fill: #174EA6;\n",
              "    }\n",
              "\n",
              "    [theme=dark] .colab-df-convert {\n",
              "      background-color: #3B4455;\n",
              "      fill: #D2E3FC;\n",
              "    }\n",
              "\n",
              "    [theme=dark] .colab-df-convert:hover {\n",
              "      background-color: #434B5C;\n",
              "      box-shadow: 0px 1px 3px 1px rgba(0, 0, 0, 0.15);\n",
              "      filter: drop-shadow(0px 1px 2px rgba(0, 0, 0, 0.3));\n",
              "      fill: #FFFFFF;\n",
              "    }\n",
              "  </style>\n",
              "\n",
              "      <script>\n",
              "        const buttonEl =\n",
              "          document.querySelector('#df-ed6fe442-a8ac-4787-9aaf-c6cb6d7f4729 button.colab-df-convert');\n",
              "        buttonEl.style.display =\n",
              "          google.colab.kernel.accessAllowed ? 'block' : 'none';\n",
              "\n",
              "        async function convertToInteractive(key) {\n",
              "          const element = document.querySelector('#df-ed6fe442-a8ac-4787-9aaf-c6cb6d7f4729');\n",
              "          const dataTable =\n",
              "            await google.colab.kernel.invokeFunction('convertToInteractive',\n",
              "                                                     [key], {});\n",
              "          if (!dataTable) return;\n",
              "\n",
              "          const docLinkHtml = 'Like what you see? Visit the ' +\n",
              "            '<a target=\"_blank\" href=https://colab.research.google.com/notebooks/data_table.ipynb>data table notebook</a>'\n",
              "            + ' to learn more about interactive tables.';\n",
              "          element.innerHTML = '';\n",
              "          dataTable['output_type'] = 'display_data';\n",
              "          await google.colab.output.renderOutput(dataTable, element);\n",
              "          const docLink = document.createElement('div');\n",
              "          docLink.innerHTML = docLinkHtml;\n",
              "          element.appendChild(docLink);\n",
              "        }\n",
              "      </script>\n",
              "    </div>\n",
              "  </div>\n",
              "  "
            ]
          },
          "metadata": {},
          "execution_count": 61
        }
      ]
    },
    {
      "cell_type": "code",
      "source": [
        "df['Amount0_volume'] = np.log(df['Amount0_volume'].astype(float))\n",
        "df['Amount0_volume'] = np.nan_to_num(np.log(df['Amount0_volume']), neginf=0)"
      ],
      "metadata": {
        "colab": {
          "base_uri": "https://localhost:8080/"
        },
        "id": "R84xHBN1CSAJ",
        "outputId": "a871c563-b53b-4e6a-d66f-341b23e9723b"
      },
      "execution_count": null,
      "outputs": [
        {
          "output_type": "stream",
          "name": "stderr",
          "text": [
            "/usr/local/lib/python3.8/dist-packages/pandas/core/arraylike.py:364: RuntimeWarning: divide by zero encountered in log\n",
            "  result = getattr(ufunc, method)(*inputs, **kwargs)\n",
            "/usr/local/lib/python3.8/dist-packages/pandas/core/arraylike.py:364: RuntimeWarning: invalid value encountered in log\n",
            "  result = getattr(ufunc, method)(*inputs, **kwargs)\n"
          ]
        }
      ]
    },
    {
      "cell_type": "code",
      "source": [
        "df.head()"
      ],
      "metadata": {
        "colab": {
          "base_uri": "https://localhost:8080/",
          "height": 238
        },
        "id": "Z8GYmS1OEbSH",
        "outputId": "8c9e0f95-3881-4e0a-eb07-d634e24eb605"
      },
      "execution_count": null,
      "outputs": [
        {
          "output_type": "execute_result",
          "data": {
            "text/plain": [
              "                                first        last   mean         max  \\\n",
              "timestamp                                                              \n",
              "2020-05-26 21:00:00+00:00  201.177211  201.177211  201.0  201.177211   \n",
              "2020-05-26 21:10:00+00:00  201.177211  201.177211  201.0  201.177211   \n",
              "2020-05-26 21:20:00+00:00  201.177211  201.177211  201.0  201.177211   \n",
              "2020-05-26 21:30:00+00:00  201.177211  201.177211  201.0  201.177211   \n",
              "2020-05-26 21:40:00+00:00  201.177211  201.177211  201.0  201.177211   \n",
              "\n",
              "                                  min  Amount1_volume  Amount0_volume  \\\n",
              "timestamp                                                               \n",
              "2020-05-26 21:00:00+00:00  201.177211        0.037876         3.66848   \n",
              "2020-05-26 21:10:00+00:00  201.177211        0.000000         0.00000   \n",
              "2020-05-26 21:20:00+00:00  201.177211        0.000000         0.00000   \n",
              "2020-05-26 21:30:00+00:00  201.177211        0.000000         0.00000   \n",
              "2020-05-26 21:40:00+00:00  201.177211        0.000000         0.00000   \n",
              "\n",
              "                           24rolling_vol  \n",
              "timestamp                                 \n",
              "2020-05-26 21:00:00+00:00            0.0  \n",
              "2020-05-26 21:10:00+00:00            0.0  \n",
              "2020-05-26 21:20:00+00:00            0.0  \n",
              "2020-05-26 21:30:00+00:00            0.0  \n",
              "2020-05-26 21:40:00+00:00            0.0  "
            ],
            "text/html": [
              "\n",
              "  <div id=\"df-929f2042-e9ef-4c19-85e7-e140e128d17b\">\n",
              "    <div class=\"colab-df-container\">\n",
              "      <div>\n",
              "<style scoped>\n",
              "    .dataframe tbody tr th:only-of-type {\n",
              "        vertical-align: middle;\n",
              "    }\n",
              "\n",
              "    .dataframe tbody tr th {\n",
              "        vertical-align: top;\n",
              "    }\n",
              "\n",
              "    .dataframe thead th {\n",
              "        text-align: right;\n",
              "    }\n",
              "</style>\n",
              "<table border=\"1\" class=\"dataframe\">\n",
              "  <thead>\n",
              "    <tr style=\"text-align: right;\">\n",
              "      <th></th>\n",
              "      <th>first</th>\n",
              "      <th>last</th>\n",
              "      <th>mean</th>\n",
              "      <th>max</th>\n",
              "      <th>min</th>\n",
              "      <th>Amount1_volume</th>\n",
              "      <th>Amount0_volume</th>\n",
              "      <th>24rolling_vol</th>\n",
              "    </tr>\n",
              "    <tr>\n",
              "      <th>timestamp</th>\n",
              "      <th></th>\n",
              "      <th></th>\n",
              "      <th></th>\n",
              "      <th></th>\n",
              "      <th></th>\n",
              "      <th></th>\n",
              "      <th></th>\n",
              "      <th></th>\n",
              "    </tr>\n",
              "  </thead>\n",
              "  <tbody>\n",
              "    <tr>\n",
              "      <th>2020-05-26 21:00:00+00:00</th>\n",
              "      <td>201.177211</td>\n",
              "      <td>201.177211</td>\n",
              "      <td>201.0</td>\n",
              "      <td>201.177211</td>\n",
              "      <td>201.177211</td>\n",
              "      <td>0.037876</td>\n",
              "      <td>3.66848</td>\n",
              "      <td>0.0</td>\n",
              "    </tr>\n",
              "    <tr>\n",
              "      <th>2020-05-26 21:10:00+00:00</th>\n",
              "      <td>201.177211</td>\n",
              "      <td>201.177211</td>\n",
              "      <td>201.0</td>\n",
              "      <td>201.177211</td>\n",
              "      <td>201.177211</td>\n",
              "      <td>0.000000</td>\n",
              "      <td>0.00000</td>\n",
              "      <td>0.0</td>\n",
              "    </tr>\n",
              "    <tr>\n",
              "      <th>2020-05-26 21:20:00+00:00</th>\n",
              "      <td>201.177211</td>\n",
              "      <td>201.177211</td>\n",
              "      <td>201.0</td>\n",
              "      <td>201.177211</td>\n",
              "      <td>201.177211</td>\n",
              "      <td>0.000000</td>\n",
              "      <td>0.00000</td>\n",
              "      <td>0.0</td>\n",
              "    </tr>\n",
              "    <tr>\n",
              "      <th>2020-05-26 21:30:00+00:00</th>\n",
              "      <td>201.177211</td>\n",
              "      <td>201.177211</td>\n",
              "      <td>201.0</td>\n",
              "      <td>201.177211</td>\n",
              "      <td>201.177211</td>\n",
              "      <td>0.000000</td>\n",
              "      <td>0.00000</td>\n",
              "      <td>0.0</td>\n",
              "    </tr>\n",
              "    <tr>\n",
              "      <th>2020-05-26 21:40:00+00:00</th>\n",
              "      <td>201.177211</td>\n",
              "      <td>201.177211</td>\n",
              "      <td>201.0</td>\n",
              "      <td>201.177211</td>\n",
              "      <td>201.177211</td>\n",
              "      <td>0.000000</td>\n",
              "      <td>0.00000</td>\n",
              "      <td>0.0</td>\n",
              "    </tr>\n",
              "  </tbody>\n",
              "</table>\n",
              "</div>\n",
              "      <button class=\"colab-df-convert\" onclick=\"convertToInteractive('df-929f2042-e9ef-4c19-85e7-e140e128d17b')\"\n",
              "              title=\"Convert this dataframe to an interactive table.\"\n",
              "              style=\"display:none;\">\n",
              "        \n",
              "  <svg xmlns=\"http://www.w3.org/2000/svg\" height=\"24px\"viewBox=\"0 0 24 24\"\n",
              "       width=\"24px\">\n",
              "    <path d=\"M0 0h24v24H0V0z\" fill=\"none\"/>\n",
              "    <path d=\"M18.56 5.44l.94 2.06.94-2.06 2.06-.94-2.06-.94-.94-2.06-.94 2.06-2.06.94zm-11 1L8.5 8.5l.94-2.06 2.06-.94-2.06-.94L8.5 2.5l-.94 2.06-2.06.94zm10 10l.94 2.06.94-2.06 2.06-.94-2.06-.94-.94-2.06-.94 2.06-2.06.94z\"/><path d=\"M17.41 7.96l-1.37-1.37c-.4-.4-.92-.59-1.43-.59-.52 0-1.04.2-1.43.59L10.3 9.45l-7.72 7.72c-.78.78-.78 2.05 0 2.83L4 21.41c.39.39.9.59 1.41.59.51 0 1.02-.2 1.41-.59l7.78-7.78 2.81-2.81c.8-.78.8-2.07 0-2.86zM5.41 20L4 18.59l7.72-7.72 1.47 1.35L5.41 20z\"/>\n",
              "  </svg>\n",
              "      </button>\n",
              "      \n",
              "  <style>\n",
              "    .colab-df-container {\n",
              "      display:flex;\n",
              "      flex-wrap:wrap;\n",
              "      gap: 12px;\n",
              "    }\n",
              "\n",
              "    .colab-df-convert {\n",
              "      background-color: #E8F0FE;\n",
              "      border: none;\n",
              "      border-radius: 50%;\n",
              "      cursor: pointer;\n",
              "      display: none;\n",
              "      fill: #1967D2;\n",
              "      height: 32px;\n",
              "      padding: 0 0 0 0;\n",
              "      width: 32px;\n",
              "    }\n",
              "\n",
              "    .colab-df-convert:hover {\n",
              "      background-color: #E2EBFA;\n",
              "      box-shadow: 0px 1px 2px rgba(60, 64, 67, 0.3), 0px 1px 3px 1px rgba(60, 64, 67, 0.15);\n",
              "      fill: #174EA6;\n",
              "    }\n",
              "\n",
              "    [theme=dark] .colab-df-convert {\n",
              "      background-color: #3B4455;\n",
              "      fill: #D2E3FC;\n",
              "    }\n",
              "\n",
              "    [theme=dark] .colab-df-convert:hover {\n",
              "      background-color: #434B5C;\n",
              "      box-shadow: 0px 1px 3px 1px rgba(0, 0, 0, 0.15);\n",
              "      filter: drop-shadow(0px 1px 2px rgba(0, 0, 0, 0.3));\n",
              "      fill: #FFFFFF;\n",
              "    }\n",
              "  </style>\n",
              "\n",
              "      <script>\n",
              "        const buttonEl =\n",
              "          document.querySelector('#df-929f2042-e9ef-4c19-85e7-e140e128d17b button.colab-df-convert');\n",
              "        buttonEl.style.display =\n",
              "          google.colab.kernel.accessAllowed ? 'block' : 'none';\n",
              "\n",
              "        async function convertToInteractive(key) {\n",
              "          const element = document.querySelector('#df-929f2042-e9ef-4c19-85e7-e140e128d17b');\n",
              "          const dataTable =\n",
              "            await google.colab.kernel.invokeFunction('convertToInteractive',\n",
              "                                                     [key], {});\n",
              "          if (!dataTable) return;\n",
              "\n",
              "          const docLinkHtml = 'Like what you see? Visit the ' +\n",
              "            '<a target=\"_blank\" href=https://colab.research.google.com/notebooks/data_table.ipynb>data table notebook</a>'\n",
              "            + ' to learn more about interactive tables.';\n",
              "          element.innerHTML = '';\n",
              "          dataTable['output_type'] = 'display_data';\n",
              "          await google.colab.output.renderOutput(dataTable, element);\n",
              "          const docLink = document.createElement('div');\n",
              "          docLink.innerHTML = docLinkHtml;\n",
              "          element.appendChild(docLink);\n",
              "        }\n",
              "      </script>\n",
              "    </div>\n",
              "  </div>\n",
              "  "
            ]
          },
          "metadata": {},
          "execution_count": 66
        }
      ]
    },
    {
      "cell_type": "code",
      "execution_count": null,
      "metadata": {
        "colab": {
          "base_uri": "https://localhost:8080/",
          "height": 282
        },
        "id": "In1ByKUuY7H-",
        "outputId": "f545e744-7a93-498a-dd24-5f80aba8e583"
      },
      "outputs": [
        {
          "output_type": "execute_result",
          "data": {
            "text/plain": [
              "[<matplotlib.lines.Line2D at 0x7f1e87d947f0>]"
            ]
          },
          "metadata": {},
          "execution_count": 67
        },
        {
          "output_type": "display_data",
          "data": {
            "text/plain": [
              "<Figure size 432x288 with 1 Axes>"
            ],
            "image/png": "[encoded data removed]"
          },
          "metadata": {
            "needs_background": "light"
          }
        }
      ],
      "source": [
        "plt.plot(df.index,df['24rolling_vol'])"
      ]
    },
    {
      "cell_type": "code",
      "execution_count": null,
      "metadata": {
        "colab": {
          "base_uri": "https://localhost:8080/"
        },
        "id": "A1jxeNkoY8tE",
        "outputId": "382bbef8-27dd-4f2f-8094-d4fd52b04da2"
      },
      "outputs": [
        {
          "output_type": "execute_result",
          "data": {
            "text/plain": [
              "(127690, 8)"
            ]
          },
          "metadata": {},
          "execution_count": 68
        }
      ],
      "source": [
        "df.shape"
      ]
    },
    {
      "cell_type": "code",
      "execution_count": null,
      "metadata": {
        "id": "xrX2LeJiZKg_"
      },
      "outputs": [],
      "source": [
        "train_start = '2020-05-26'\n",
        "train_end = '2022-07-31'\n",
        "dev_start = '2022-08-01'\n",
        "dev_end = '2022-09-30'\n",
        "test_start = '2022-10-01'\n",
        "test_end = '2022-10-31'"
      ]
    },
    {
      "cell_type": "code",
      "execution_count": null,
      "metadata": {
        "colab": {
          "base_uri": "https://localhost:8080/",
          "height": 238
        },
        "id": "EmnZc5x3BG0_",
        "outputId": "2db6b616-ce1b-4697-d871-d7e6af4fa4b5"
      },
      "outputs": [
        {
          "output_type": "execute_result",
          "data": {
            "text/plain": [
              "                                first        last   mean         max  \\\n",
              "timestamp                                                              \n",
              "2020-05-26 21:00:00+00:00  201.177211  201.177211  201.0  201.177211   \n",
              "2020-05-26 21:10:00+00:00  201.177211  201.177211  201.0  201.177211   \n",
              "2020-05-26 21:20:00+00:00  201.177211  201.177211  201.0  201.177211   \n",
              "2020-05-26 21:30:00+00:00  201.177211  201.177211  201.0  201.177211   \n",
              "2020-05-26 21:40:00+00:00  201.177211  201.177211  201.0  201.177211   \n",
              "\n",
              "                                  min  Amount1_volume  Amount0_volume  \\\n",
              "timestamp                                                               \n",
              "2020-05-26 21:00:00+00:00  201.177211        0.037876         3.66848   \n",
              "2020-05-26 21:10:00+00:00  201.177211        0.000000         0.00000   \n",
              "2020-05-26 21:20:00+00:00  201.177211        0.000000         0.00000   \n",
              "2020-05-26 21:30:00+00:00  201.177211        0.000000         0.00000   \n",
              "2020-05-26 21:40:00+00:00  201.177211        0.000000         0.00000   \n",
              "\n",
              "                           24rolling_vol  \n",
              "timestamp                                 \n",
              "2020-05-26 21:00:00+00:00            0.0  \n",
              "2020-05-26 21:10:00+00:00            0.0  \n",
              "2020-05-26 21:20:00+00:00            0.0  \n",
              "2020-05-26 21:30:00+00:00            0.0  \n",
              "2020-05-26 21:40:00+00:00            0.0  "
            ],
            "text/html": [
              "\n",
              "  <div id=\"df-ea3f6651-629b-4070-b300-ad573d64ddd7\">\n",
              "    <div class=\"colab-df-container\">\n",
              "      <div>\n",
              "<style scoped>\n",
              "    .dataframe tbody tr th:only-of-type {\n",
              "        vertical-align: middle;\n",
              "    }\n",
              "\n",
              "    .dataframe tbody tr th {\n",
              "        vertical-align: top;\n",
              "    }\n",
              "\n",
              "    .dataframe thead th {\n",
              "        text-align: right;\n",
              "    }\n",
              "</style>\n",
              "<table border=\"1\" class=\"dataframe\">\n",
              "  <thead>\n",
              "    <tr style=\"text-align: right;\">\n",
              "      <th></th>\n",
              "      <th>first</th>\n",
              "      <th>last</th>\n",
              "      <th>mean</th>\n",
              "      <th>max</th>\n",
              "      <th>min</th>\n",
              "      <th>Amount1_volume</th>\n",
              "      <th>Amount0_volume</th>\n",
              "      <th>24rolling_vol</th>\n",
              "    </tr>\n",
              "    <tr>\n",
              "      <th>timestamp</th>\n",
              "      <th></th>\n",
              "      <th></th>\n",
              "      <th></th>\n",
              "      <th></th>\n",
              "      <th></th>\n",
              "      <th></th>\n",
              "      <th></th>\n",
              "      <th></th>\n",
              "    </tr>\n",
              "  </thead>\n",
              "  <tbody>\n",
              "    <tr>\n",
              "      <th>2020-05-26 21:00:00+00:00</th>\n",
              "      <td>201.177211</td>\n",
              "      <td>201.177211</td>\n",
              "      <td>201.0</td>\n",
              "      <td>201.177211</td>\n",
              "      <td>201.177211</td>\n",
              "      <td>0.037876</td>\n",
              "      <td>3.66848</td>\n",
              "      <td>0.0</td>\n",
              "    </tr>\n",
              "    <tr>\n",
              "      <th>2020-05-26 21:10:00+00:00</th>\n",
              "      <td>201.177211</td>\n",
              "      <td>201.177211</td>\n",
              "      <td>201.0</td>\n",
              "      <td>201.177211</td>\n",
              "      <td>201.177211</td>\n",
              "      <td>0.000000</td>\n",
              "      <td>0.00000</td>\n",
              "      <td>0.0</td>\n",
              "    </tr>\n",
              "    <tr>\n",
              "      <th>2020-05-26 21:20:00+00:00</th>\n",
              "      <td>201.177211</td>\n",
              "      <td>201.177211</td>\n",
              "      <td>201.0</td>\n",
              "      <td>201.177211</td>\n",
              "      <td>201.177211</td>\n",
              "      <td>0.000000</td>\n",
              "      <td>0.00000</td>\n",
              "      <td>0.0</td>\n",
              "    </tr>\n",
              "    <tr>\n",
              "      <th>2020-05-26 21:30:00+00:00</th>\n",
              "      <td>201.177211</td>\n",
              "      <td>201.177211</td>\n",
              "      <td>201.0</td>\n",
              "      <td>201.177211</td>\n",
              "      <td>201.177211</td>\n",
              "      <td>0.000000</td>\n",
              "      <td>0.00000</td>\n",
              "      <td>0.0</td>\n",
              "    </tr>\n",
              "    <tr>\n",
              "      <th>2020-05-26 21:40:00+00:00</th>\n",
              "      <td>201.177211</td>\n",
              "      <td>201.177211</td>\n",
              "      <td>201.0</td>\n",
              "      <td>201.177211</td>\n",
              "      <td>201.177211</td>\n",
              "      <td>0.000000</td>\n",
              "      <td>0.00000</td>\n",
              "      <td>0.0</td>\n",
              "    </tr>\n",
              "  </tbody>\n",
              "</table>\n",
              "</div>\n",
              "      <button class=\"colab-df-convert\" onclick=\"convertToInteractive('df-ea3f6651-629b-4070-b300-ad573d64ddd7')\"\n",
              "              title=\"Convert this dataframe to an interactive table.\"\n",
              "              style=\"display:none;\">\n",
              "        \n",
              "  <svg xmlns=\"http://www.w3.org/2000/svg\" height=\"24px\"viewBox=\"0 0 24 24\"\n",
              "       width=\"24px\">\n",
              "    <path d=\"M0 0h24v24H0V0z\" fill=\"none\"/>\n",
              "    <path d=\"M18.56 5.44l.94 2.06.94-2.06 2.06-.94-2.06-.94-.94-2.06-.94 2.06-2.06.94zm-11 1L8.5 8.5l.94-2.06 2.06-.94-2.06-.94L8.5 2.5l-.94 2.06-2.06.94zm10 10l.94 2.06.94-2.06 2.06-.94-2.06-.94-.94-2.06-.94 2.06-2.06.94z\"/><path d=\"M17.41 7.96l-1.37-1.37c-.4-.4-.92-.59-1.43-.59-.52 0-1.04.2-1.43.59L10.3 9.45l-7.72 7.72c-.78.78-.78 2.05 0 2.83L4 21.41c.39.39.9.59 1.41.59.51 0 1.02-.2 1.41-.59l7.78-7.78 2.81-2.81c.8-.78.8-2.07 0-2.86zM5.41 20L4 18.59l7.72-7.72 1.47 1.35L5.41 20z\"/>\n",
              "  </svg>\n",
              "      </button>\n",
              "      \n",
              "  <style>\n",
              "    .colab-df-container {\n",
              "      display:flex;\n",
              "      flex-wrap:wrap;\n",
              "      gap: 12px;\n",
              "    }\n",
              "\n",
              "    .colab-df-convert {\n",
              "      background-color: #E8F0FE;\n",
              "      border: none;\n",
              "      border-radius: 50%;\n",
              "      cursor: pointer;\n",
              "      display: none;\n",
              "      fill: #1967D2;\n",
              "      height: 32px;\n",
              "      padding: 0 0 0 0;\n",
              "      width: 32px;\n",
              "    }\n",
              "\n",
              "    .colab-df-convert:hover {\n",
              "      background-color: #E2EBFA;\n",
              "      box-shadow: 0px 1px 2px rgba(60, 64, 67, 0.3), 0px 1px 3px 1px rgba(60, 64, 67, 0.15);\n",
              "      fill: #174EA6;\n",
              "    }\n",
              "\n",
              "    [theme=dark] .colab-df-convert {\n",
              "      background-color: #3B4455;\n",
              "      fill: #D2E3FC;\n",
              "    }\n",
              "\n",
              "    [theme=dark] .colab-df-convert:hover {\n",
              "      background-color: #434B5C;\n",
              "      box-shadow: 0px 1px 3px 1px rgba(0, 0, 0, 0.15);\n",
              "      filter: drop-shadow(0px 1px 2px rgba(0, 0, 0, 0.3));\n",
              "      fill: #FFFFFF;\n",
              "    }\n",
              "  </style>\n",
              "\n",
              "      <script>\n",
              "        const buttonEl =\n",
              "          document.querySelector('#df-ea3f6651-629b-4070-b300-ad573d64ddd7 button.colab-df-convert');\n",
              "        buttonEl.style.display =\n",
              "          google.colab.kernel.accessAllowed ? 'block' : 'none';\n",
              "\n",
              "        async function convertToInteractive(key) {\n",
              "          const element = document.querySelector('#df-ea3f6651-629b-4070-b300-ad573d64ddd7');\n",
              "          const dataTable =\n",
              "            await google.colab.kernel.invokeFunction('convertToInteractive',\n",
              "                                                     [key], {});\n",
              "          if (!dataTable) return;\n",
              "\n",
              "          const docLinkHtml = 'Like what you see? Visit the ' +\n",
              "            '<a target=\"_blank\" href=https://colab.research.google.com/notebooks/data_table.ipynb>data table notebook</a>'\n",
              "            + ' to learn more about interactive tables.';\n",
              "          element.innerHTML = '';\n",
              "          dataTable['output_type'] = 'display_data';\n",
              "          await google.colab.output.renderOutput(dataTable, element);\n",
              "          const docLink = document.createElement('div');\n",
              "          docLink.innerHTML = docLinkHtml;\n",
              "          element.appendChild(docLink);\n",
              "        }\n",
              "      </script>\n",
              "    </div>\n",
              "  </div>\n",
              "  "
            ]
          },
          "metadata": {},
          "execution_count": 70
        }
      ],
      "source": [
        "df.head()"
      ]
    },
    {
      "cell_type": "code",
      "execution_count": null,
      "metadata": {
        "colab": {
          "base_uri": "https://localhost:8080/"
        },
        "id": "uXmV4EZSPAyt",
        "outputId": "0793c5ba-51c8-4abe-dc14-89d7c62c1879"
      },
      "outputs": [
        {
          "output_type": "execute_result",
          "data": {
            "text/plain": [
              "((114499, 8), (8641, 8), (4264, 8))"
            ]
          },
          "metadata": {},
          "execution_count": 71
        }
      ],
      "source": [
        "train_dates = df[((df.index >= train_start) & (df.index <= train_end))].values\n",
        "dev_dates = df[((df.index >= dev_start) & (df.index <= dev_end))].values\n",
        "test_dates = df[((df.index >= test_start) & (df.index <= test_end))].values\n",
        "train_dates.shape, dev_dates.shape, test_dates.shape"
      ]
    },
    {
      "cell_type": "code",
      "execution_count": null,
      "metadata": {
        "id": "W5dj9bCzjCII"
      },
      "outputs": [],
      "source": [
        "train_y =  vol_df.fillna(method = 'ffill').fillna(0)[((vol_df.index >= train_start) & (vol_df.index <= train_end))].values\n",
        "dev_y =  vol_df.fillna(method='ffill').fillna(0)[((vol_df.index >= dev_start) & (vol_df.index <= dev_end))].values\n",
        "test_y =  vol_df.fillna(method='ffill').fillna(0)[((vol_df.index >= test_start) & (vol_df.index <= test_end))].values"
      ]
    },
    {
      "cell_type": "code",
      "execution_count": null,
      "metadata": {
        "id": "jJrSLiT0L9O-"
      },
      "outputs": [],
      "source": [
        "#https://www.section.io/engineering-education/univariate-time-series-using-recurrent-neural-networks/\n",
        "#from sklearn.preprocessing import MinMaxScaler\n",
        "# since it's the price we will scale it\n",
        "scaler = MinMaxScaler()\n",
        "scaler.fit(train_dates)\n",
        "scaler.fit(dev_dates)\n",
        "scaler.fit(test_dates)\n",
        "\n",
        "scaled_train_dates = scaler.transform(train_dates)\n",
        "scaled_dev_dates = scaler.transform(dev_dates)\n",
        "scaled_test_dates = scaler.transform(test_dates)"
      ]
    },
    {
      "cell_type": "code",
      "execution_count": null,
      "metadata": {
        "colab": {
          "base_uri": "https://localhost:8080/"
        },
        "id": "aVS_5sj8D17f",
        "outputId": "e3fee0e7-1b55-4c84-cc90-2a79f6c86839"
      },
      "outputs": [
        {
          "output_type": "execute_result",
          "data": {
            "text/plain": [
              "array([[-2.30469663, -2.28314282, -2.32049242, ...,  0.1987043 ,\n",
              "         0.94226777, -1.43387023],\n",
              "       [-2.30469663, -2.28314282, -2.32049242, ...,  0.        ,\n",
              "         0.        , -1.43387023],\n",
              "       [-2.30469663, -2.28314282, -2.32049242, ...,  0.        ,\n",
              "         0.        , -1.43387023],\n",
              "       ...,\n",
              "       [ 1.12028032,  1.10873232,  1.11368395, ...,  0.62163208,\n",
              "         0.96013187,  0.40323473],\n",
              "       [ 1.0968996 ,  1.11142645,  1.10620272, ...,  0.77318853,\n",
              "         0.97426308,  0.36391575],\n",
              "       [ 1.09991385,  1.10735899,  1.11715152, ...,  0.80609276,\n",
              "         0.97752057,  0.37027985]])"
            ]
          },
          "metadata": {},
          "execution_count": 79
        }
      ],
      "source": [
        "scaled_train_dates"
      ]
    },
    {
      "cell_type": "code",
      "execution_count": null,
      "metadata": {
        "colab": {
          "base_uri": "https://localhost:8080/"
        },
        "id": "VkzJh8xNDvkB",
        "outputId": "3b5797a7-de36-4796-d485-0c9a89e20a30"
      },
      "outputs": [
        {
          "output_type": "execute_result",
          "data": {
            "text/plain": [
              "array([0.        , 0.        , 0.        , ..., 0.09569899, 0.09365078,\n",
              "       0.0939823 ])"
            ]
          },
          "metadata": {},
          "execution_count": 80
        }
      ],
      "source": [
        "train_y"
      ]
    },
    {
      "cell_type": "code",
      "execution_count": null,
      "metadata": {
        "id": "eJKqQ49HQMTl"
      },
      "outputs": [],
      "source": [
        "from keras.preprocessing.sequence import TimeseriesGenerator\n",
        "days_look_back = 2\n",
        "n_input = 24*6*days_look_back\n",
        "n_features = 8\n",
        "train_data_gen = TimeseriesGenerator(scaled_train_dates  , train_y  ,length=n_input, batch_size=64)\n",
        "dev_data_gen = TimeseriesGenerator(scaled_dev_dates, dev_y,length=n_input, batch_size=64)"
      ]
    },
    {
      "cell_type": "code",
      "execution_count": null,
      "metadata": {
        "colab": {
          "base_uri": "https://localhost:8080/"
        },
        "id": "swtDbTgoQMWk",
        "outputId": "bb0e3cfb-f639-4def-fc27-191a8b03bb1a"
      },
      "outputs": [
        {
          "metadata": {
            "tags": null
          },
          "name": "stderr",
          "output_type": "stream",
          "text": [
            "/usr/local/lib/python3.8/dist-packages/keras/optimizers/optimizer_v2/adam.py:110: UserWarning: The `lr` argument is deprecated, use `learning_rate` instead.\n",
            "  super(Adam, self).__init__(name, **kwargs)\n"
          ]
        },
        {
          "output_type": "stream",
          "name": "stdout",
          "text": [
            "Epoch 1/100\n",
            "1785/1785 [==============================] - 226s 126ms/step - loss: 6.7799\n",
            "Epoch 2/100\n",
            "1785/1785 [==============================] - 222s 124ms/step - loss: 0.1240\n",
            "Epoch 3/100\n",
            "1785/1785 [==============================] - 221s 124ms/step - loss: 0.0035\n",
            "Epoch 4/100\n",
            "1785/1785 [==============================] - 221s 124ms/step - loss: 0.0011\n",
            "Epoch 5/100\n",
            "1785/1785 [==============================] - 221s 124ms/step - loss: 3.2092e-04\n",
            "Epoch 6/100\n",
            "1785/1785 [==============================] - 220s 123ms/step - loss: 1.0664e-04\n",
            "Epoch 7/100\n",
            "1785/1785 [==============================] - 222s 124ms/step - loss: 4.7805e-05\n",
            "Epoch 8/100\n",
            "1785/1785 [==============================] - 221s 124ms/step - loss: 3.2015e-05\n",
            "Epoch 9/100\n",
            "1785/1785 [==============================] - 221s 124ms/step - loss: 2.5720e-05\n",
            "Epoch 10/100\n",
            "1785/1785 [==============================] - 221s 124ms/step - loss: 2.3090e-05\n",
            "Epoch 11/100\n",
            "1785/1785 [==============================] - 221s 124ms/step - loss: 2.1146e-05\n",
            "Epoch 12/100\n",
            "1785/1785 [==============================] - 223s 125ms/step - loss: 2.0829e-05\n",
            "Epoch 13/100\n",
            "1785/1785 [==============================] - 227s 127ms/step - loss: 1.9128e-05\n",
            "Epoch 14/100\n",
            "1785/1785 [==============================] - 226s 127ms/step - loss: 1.8851e-05\n",
            "Epoch 15/100\n",
            "1785/1785 [==============================] - 224s 125ms/step - loss: 1.7614e-05\n",
            "Epoch 16/100\n",
            "1785/1785 [==============================] - 228s 128ms/step - loss: 1.7027e-05\n",
            "Epoch 17/100\n",
            "1785/1785 [==============================] - 226s 126ms/step - loss: 1.7124e-05\n",
            "Epoch 18/100\n",
            "1785/1785 [==============================] - 226s 127ms/step - loss: 1.6904e-05\n",
            "Epoch 19/100\n",
            "1785/1785 [==============================] - 227s 127ms/step - loss: 1.6686e-05\n",
            "Epoch 20/100\n",
            "1785/1785 [==============================] - 227s 127ms/step - loss: 1.5203e-05\n",
            "Epoch 21/100\n",
            "1785/1785 [==============================] - 227s 127ms/step - loss: 1.5010e-05\n",
            "Epoch 22/100\n",
            "1785/1785 [==============================] - 228s 128ms/step - loss: 1.4449e-05\n",
            "Epoch 23/100\n",
            "1785/1785 [==============================] - 230s 129ms/step - loss: 1.3847e-05\n",
            "Epoch 24/100\n",
            "1785/1785 [==============================] - 229s 128ms/step - loss: 1.4546e-05\n",
            "Epoch 25/100\n",
            "1785/1785 [==============================] - 228s 127ms/step - loss: 1.4068e-05\n",
            "Epoch 26/100\n",
            "1785/1785 [==============================] - 228s 128ms/step - loss: 1.3381e-05\n",
            "Epoch 27/100\n",
            "1785/1785 [==============================] - 230s 129ms/step - loss: 1.3638e-05\n",
            "Epoch 28/100\n",
            "1785/1785 [==============================] - 229s 128ms/step - loss: 1.3558e-05\n",
            "Epoch 29/100\n",
            "1785/1785 [==============================] - 229s 128ms/step - loss: 1.3451e-05\n",
            "Epoch 30/100\n",
            "1785/1785 [==============================] - 229s 128ms/step - loss: 1.2870e-05\n",
            "Epoch 31/100\n",
            "1785/1785 [==============================] - 231s 130ms/step - loss: 1.3220e-05\n",
            "Epoch 32/100\n",
            "1785/1785 [==============================] - 230s 129ms/step - loss: 1.2968e-05\n",
            "Epoch 33/100\n",
            "1785/1785 [==============================] - 229s 128ms/step - loss: 1.3545e-05\n",
            "Epoch 34/100\n",
            "1785/1785 [==============================] - 230s 129ms/step - loss: 1.3028e-05\n",
            "Epoch 35/100\n",
            "1785/1785 [==============================] - 231s 130ms/step - loss: 1.3000e-05\n",
            "Epoch 36/100\n",
            "1785/1785 [==============================] - 230s 129ms/step - loss: 1.2626e-05\n",
            "Epoch 37/100\n",
            "1785/1785 [==============================] - 232s 130ms/step - loss: 1.2488e-05\n",
            "Epoch 38/100\n",
            "1785/1785 [==============================] - 231s 129ms/step - loss: 1.2973e-05\n",
            "Epoch 39/100\n",
            "1785/1785 [==============================] - 231s 129ms/step - loss: 1.2273e-05\n",
            "Epoch 40/100\n",
            "1785/1785 [==============================] - 232s 130ms/step - loss: 1.2863e-05\n",
            "Epoch 41/100\n",
            "1785/1785 [==============================] - 233s 130ms/step - loss: 1.2185e-05\n",
            "Epoch 42/100\n",
            "1785/1785 [==============================] - 233s 130ms/step - loss: 1.2086e-05\n",
            "Epoch 43/100\n",
            "1785/1785 [==============================] - 232s 130ms/step - loss: 1.2192e-05\n",
            "Epoch 44/100\n",
            "1785/1785 [==============================] - 232s 130ms/step - loss: 1.1588e-05\n",
            "Epoch 45/100\n",
            "1785/1785 [==============================] - 233s 131ms/step - loss: 1.2251e-05\n",
            "Epoch 46/100\n",
            "1785/1785 [==============================] - 234s 131ms/step - loss: 1.2329e-05\n",
            "Epoch 47/100\n",
            "1785/1785 [==============================] - 232s 130ms/step - loss: 1.2357e-05\n",
            "Epoch 48/100\n",
            "1785/1785 [==============================] - 231s 130ms/step - loss: 1.2055e-05\n",
            "Epoch 49/100\n",
            "1785/1785 [==============================] - 232s 130ms/step - loss: 1.2004e-05\n",
            "Epoch 50/100\n",
            "1785/1785 [==============================] - 233s 131ms/step - loss: 1.2046e-05\n",
            "Epoch 51/100\n",
            "1785/1785 [==============================] - 233s 131ms/step - loss: 1.1793e-05\n",
            "Epoch 52/100\n",
            "1785/1785 [==============================] - 233s 131ms/step - loss: 1.1960e-05\n",
            "Epoch 53/100\n",
            "1785/1785 [==============================] - 236s 132ms/step - loss: 1.1664e-05\n",
            "Epoch 54/100\n",
            "1785/1785 [==============================] - 234s 131ms/step - loss: 1.1659e-05\n",
            "Epoch 55/100\n",
            "1785/1785 [==============================] - 234s 131ms/step - loss: 1.1907e-05\n",
            "Epoch 56/100\n",
            "1785/1785 [==============================] - 236s 132ms/step - loss: 1.1332e-05\n",
            "Epoch 57/100\n",
            "1785/1785 [==============================] - 236s 132ms/step - loss: 1.1186e-05\n",
            "Epoch 58/100\n",
            "1785/1785 [==============================] - 236s 132ms/step - loss: 1.1283e-05\n",
            "Epoch 59/100\n",
            "1785/1785 [==============================] - 233s 131ms/step - loss: 1.1206e-05\n",
            "Epoch 60/100\n",
            "1785/1785 [==============================] - 233s 131ms/step - loss: 1.1192e-05\n",
            "Epoch 61/100\n",
            "1785/1785 [==============================] - 234s 131ms/step - loss: 1.0932e-05\n",
            "Epoch 62/100\n",
            "1785/1785 [==============================] - 234s 131ms/step - loss: 1.1708e-05\n",
            "Epoch 63/100\n",
            "1785/1785 [==============================] - 234s 131ms/step - loss: 1.1123e-05\n",
            "Epoch 64/100\n",
            "1785/1785 [==============================] - 234s 131ms/step - loss: 1.1334e-05\n",
            "Epoch 65/100\n",
            "1785/1785 [==============================] - 234s 131ms/step - loss: 1.1328e-05\n",
            "Epoch 66/100\n",
            "1785/1785 [==============================] - 231s 129ms/step - loss: 1.1154e-05\n",
            "Epoch 67/100\n",
            "1785/1785 [==============================] - 230s 129ms/step - loss: 1.1546e-05\n",
            "Epoch 68/100\n",
            "1785/1785 [==============================] - 231s 129ms/step - loss: 1.0913e-05\n",
            "Epoch 69/100\n",
            "1785/1785 [==============================] - 231s 130ms/step - loss: 1.0843e-05\n",
            "Epoch 70/100\n",
            "1785/1785 [==============================] - 231s 129ms/step - loss: 1.1384e-05\n",
            "Epoch 71/100\n",
            "1785/1785 [==============================] - 231s 129ms/step - loss: 1.1384e-05\n",
            "Epoch 72/100\n",
            "1785/1785 [==============================] - 225s 126ms/step - loss: 1.1016e-05\n",
            "Epoch 73/100\n",
            "1785/1785 [==============================] - 226s 126ms/step - loss: 1.1049e-05\n",
            "Epoch 74/100\n",
            "1785/1785 [==============================] - 225s 126ms/step - loss: 1.1155e-05\n",
            "Epoch 75/100\n",
            "1785/1785 [==============================] - 228s 128ms/step - loss: 1.1141e-05\n",
            "Epoch 76/100\n",
            "1785/1785 [==============================] - 226s 126ms/step - loss: 1.1006e-05\n",
            "Epoch 77/100\n",
            "1785/1785 [==============================] - 226s 127ms/step - loss: 1.1451e-05\n",
            "Epoch 78/100\n",
            "1785/1785 [==============================] - 227s 127ms/step - loss: 1.0940e-05\n",
            "Epoch 79/100\n",
            "1785/1785 [==============================] - 232s 130ms/step - loss: 1.1170e-05\n",
            "Epoch 80/100\n",
            "1785/1785 [==============================] - 231s 129ms/step - loss: 1.0691e-05\n",
            "Epoch 81/100\n",
            "1785/1785 [==============================] - 232s 130ms/step - loss: 1.0998e-05\n",
            "Epoch 82/100\n",
            "1785/1785 [==============================] - 231s 129ms/step - loss: 1.0695e-05\n",
            "Epoch 83/100\n",
            "1785/1785 [==============================] - 231s 129ms/step - loss: 1.0666e-05\n",
            "Epoch 84/100\n",
            "1785/1785 [==============================] - 231s 129ms/step - loss: 1.0987e-05\n",
            "Epoch 85/100\n",
            "1785/1785 [==============================] - 231s 129ms/step - loss: 1.1058e-05\n",
            "Epoch 86/100\n",
            "1785/1785 [==============================] - 231s 129ms/step - loss: 1.0513e-05\n",
            "Epoch 87/100\n",
            "1785/1785 [==============================] - 232s 130ms/step - loss: 1.0995e-05\n",
            "Epoch 88/100\n",
            "1785/1785 [==============================] - 232s 130ms/step - loss: 1.0994e-05\n",
            "Epoch 89/100\n",
            "1785/1785 [==============================] - 232s 130ms/step - loss: 1.0634e-05\n",
            "Epoch 90/100\n",
            "1785/1785 [==============================] - 232s 130ms/step - loss: 1.0625e-05\n",
            "Epoch 91/100\n",
            "1785/1785 [==============================] - 233s 130ms/step - loss: 1.0559e-05\n",
            "Epoch 92/100\n",
            "1785/1785 [==============================] - 232s 130ms/step - loss: 1.0868e-05\n",
            "Epoch 93/100\n",
            "1785/1785 [==============================] - 233s 131ms/step - loss: 1.0713e-05\n",
            "Epoch 94/100\n",
            "1785/1785 [==============================] - 233s 131ms/step - loss: 1.0746e-05\n",
            "Epoch 95/100\n",
            "1785/1785 [==============================] - 233s 130ms/step - loss: 1.0358e-05\n",
            "Epoch 96/100\n",
            "1785/1785 [==============================] - 233s 131ms/step - loss: 1.0338e-05\n",
            "Epoch 97/100\n",
            " 648/1785 [=========>....................] - ETA: 2:28 - loss: 1.1750e-05"
          ]
        }
      ],
      "source": [
        "from keras.models import Sequential\n",
        "from keras.layers import LSTM, Dense\n",
        "from tensorflow.keras.callbacks import EarlyStopping\n",
        "from tensorflow.keras.optimizers import Adam\n",
        "early_stopping = EarlyStopping(monitor = 'loss', patience=2, min_delta=1e-4)\n",
        "adam = Adam(lr=0.0001, clipnorm=1.0, clipvalue=0.5)\n",
        "model = Sequential()\n",
        "model.add(LSTM(64,activation='relu',input_shape=(n_input,n_features)))\n",
        "model.add(Dropout(0.2))\n",
        "model.add(Dense(1))\n",
        "model.compile(optimizer=adam, loss=tf.keras.losses.MeanSquaredLogarithmicError())\n",
        "\n",
        "num_epochs = 100\n",
        "\n",
        "history = model.fit(train_data_gen, epochs=num_epochs, callback =[early_stopping ])"
      ]
    },
    {
      "cell_type": "code",
      "execution_count": 1,
      "metadata": {
        "colab": {
          "base_uri": "https://localhost:8080/",
          "height": 166
        },
        "id": "JVcGM-PrQMZc",
        "outputId": "d1bd49fd-1152-439c-f69f-03ae87d1e426"
      },
      "outputs": [
        {
          "output_type": "error",
          "ename": "NameError",
          "evalue": "ignored",
          "traceback": [
            "\u001b[0;31m---------------------------------------------------------------------------\u001b[0m",
            "\u001b[0;31mNameError\u001b[0m                                 Traceback (most recent call last)",
            "\u001b[0;32m<ipython-input-1-5f15418b3570>\u001b[0m in \u001b[0;36m<module>\u001b[0;34m\u001b[0m\n\u001b[0;32m----> 1\u001b[0;31m \u001b[0mmodel\u001b[0m\u001b[0;34m.\u001b[0m\u001b[0msummary\u001b[0m\u001b[0;34m(\u001b[0m\u001b[0;34m)\u001b[0m\u001b[0;34m\u001b[0m\u001b[0;34m\u001b[0m\u001b[0m\n\u001b[0m",
            "\u001b[0;31mNameError\u001b[0m: name 'model' is not defined"
          ]
        }
      ],
      "source": [
        "model.summary()"
      ]
    },
    {
      "cell_type": "code",
      "execution_count": null,
      "metadata": {
        "id": "QUor7h0USFOd"
      },
      "outputs": [],
      "source": [
        "model_save_name = 'lstm64_dense_pricevolvolume_24hvol_regularized data'\n",
        "model.save('model_{}.h5'.format(model_save_name))"
      ]
    },
    {
      "cell_type": "code",
      "execution_count": null,
      "metadata": {
        "colab": {
          "base_uri": "https://localhost:8080/"
        },
        "id": "7M7lUXUgSv-u",
        "outputId": "9228f4c3-08a9-4c41-ecbd-6b4e6186429c"
      },
      "outputs": [
        {
          "name": "stdout",
          "output_type": "stream",
          "text": [
            "Model: \"sequential\"\n",
            "_________________________________________________________________\n",
            " Layer (type)                Output Shape              Param #   \n",
            "=================================================================\n",
            " lstm (LSTM)                 (None, 64)                18176     \n",
            "                                                                 \n",
            " dropout (Dropout)           (None, 64)                0         \n",
            "                                                                 \n",
            " dense (Dense)               (None, 1)                 65        \n",
            "                                                                 \n",
            "=================================================================\n",
            "Total params: 18,241\n",
            "Trainable params: 18,241\n",
            "Non-trainable params: 0\n",
            "_________________________________________________________________\n"
          ]
        }
      ],
      "source": [
        "#import tensorflow as tf\n",
        "#from tensorflow import keras\n",
        "\n",
        "# Check its architecture\n",
        "model.summary()"
      ]
    },
    {
      "cell_type": "code",
      "execution_count": null,
      "metadata": {
        "colab": {
          "base_uri": "https://localhost:8080/"
        },
        "id": "nF1opXscQMcM",
        "outputId": "f5a552e9-1d47-467e-9fd1-380fb143eaf6"
      },
      "outputs": [
        {
          "name": "stderr",
          "output_type": "stream",
          "text": [
            "/tmp/ipykernel_8389/2859979669.py:1: UserWarning: `Model.evaluate_generator` is deprecated and will be removed in a future version. Please use `Model.evaluate`, which supports generators.\n",
            "  model.evaluate_generator(dev_data_gen)\n",
            "/tmp/ipykernel_8389/2859979669.py:2: UserWarning: `Model.predict_generator` is deprecated and will be removed in a future version. Please use `Model.predict`, which supports generators.\n",
            "  trainPredict = model.predict_generator(train_data_gen)\n",
            "/tmp/ipykernel_8389/2859979669.py:3: UserWarning: `Model.predict_generator` is deprecated and will be removed in a future version. Please use `Model.predict`, which supports generators.\n",
            "  devPredict = model.predict_generator(dev_data_gen)\n"
          ]
        }
      ],
      "source": [
        "model.evaluate_generator(dev_data_gen)\n",
        "trainPredict = model.predict_generator(train_data_gen)\n",
        "devPredict = model.predict_generator(dev_data_gen)\n",
        "testPredict = model.predict_generator(test_data_gen)"
      ]
    },
    {
      "cell_type": "code",
      "execution_count": null,
      "metadata": {
        "colab": {
          "base_uri": "https://localhost:8080/"
        },
        "id": "-CtdwXiAfe-r",
        "outputId": "d76849a5-4ae9-4f9a-e284-d74c692823a0"
      },
      "outputs": [
        {
          "data": {
            "text/plain": [
              "8353"
            ]
          },
          "execution_count": 91,
          "metadata": {},
          "output_type": "execute_result"
        }
      ],
      "source": [
        "len(devPredict)"
      ]
    },
    {
      "cell_type": "code",
      "execution_count": null,
      "metadata": {
        "colab": {
          "base_uri": "https://localhost:8080/"
        },
        "id": "4oEbq0yEQMe0",
        "outputId": "8c1ac95d-b6fc-47d7-8d17-20ae5d75c6af"
      },
      "outputs": [
        {
          "data": {
            "text/plain": [
              "0.2050520765548094"
            ]
          },
          "execution_count": 92,
          "metadata": {},
          "output_type": "execute_result"
        }
      ],
      "source": [
        "from sklearn.metrics import mean_absolute_percentage_error\n",
        "mean_absolute_percentage_error(devPredict, dev_y[24*6*days_look_back:])"
      ]
    },
    {
      "cell_type": "code",
      "execution_count": null,
      "metadata": {
        "colab": {
          "base_uri": "https://localhost:8080/",
          "height": 169
        },
        "id": "Zz6M65SaTYb_",
        "outputId": "c90a4a86-2e2c-4658-e528-7bcdbd822c9e"
      },
      "outputs": [
        {
          "data": {
            "text/plain": [
              "0.38990720335389545"
            ]
          },
          "execution_count": 93,
          "metadata": {},
          "output_type": "execute_result"
        }
      ],
      "source": [
        "mean_absolute_percentage_error(trainPredict, train_y[24*6*days_look_back:])"
      ]
    },
    {
      "cell_type": "code",
      "execution_count": null,
      "metadata": {
        "id": "thPHLMG8BG1E",
        "outputId": "c8a357ce-77a7-4372-ef62-59c767f9bcfe"
      },
      "outputs": [
        {
          "data": {
            "text/plain": [
              "[<matplotlib.lines.Line2D at 0x7f0320214d90>]"
            ]
          },
          "execution_count": 110,
          "metadata": {},
          "output_type": "execute_result"
        },
        {
          "data": {
            "image/png": "[encoded data removed]",
            "text/plain": [
              "<Figure size 640x480 with 1 Axes>"
            ]
          },
          "metadata": {},
          "output_type": "display_data"
        }
      ],
      "source": [
        "plt.plot(dev_y)"
      ]
    },
    {
      "cell_type": "code",
      "execution_count": null,
      "metadata": {
        "colab": {
          "base_uri": "https://localhost:8080/",
          "height": 169
        },
        "id": "J5Qd0irpND2Z",
        "outputId": "4ac32db3-7214-41c3-c70d-67814d5f309f"
      },
      "outputs": [
        {
          "data": {
            "text/plain": [
              "array([[-0.00549989],\n",
              "       [-0.00518103],\n",
              "       [-0.00486185],\n",
              "       ...,\n",
              "       [ 0.10958385],\n",
              "       [ 0.10944387],\n",
              "       [ 0.10963839]], dtype=float32)"
            ]
          },
          "execution_count": 94,
          "metadata": {},
          "output_type": "execute_result"
        }
      ],
      "source": [
        "trainPredict"
      ]
    },
    {
      "cell_type": "code",
      "execution_count": null,
      "metadata": {
        "id": "UfvQGh3iBG1F",
        "outputId": "af4f0711-2ae5-4534-a794-df6804901be2"
      },
      "outputs": [
        {
          "data": {
            "text/plain": [
              "[<matplotlib.lines.Line2D at 0x7f03cfc9f280>]"
            ]
          },
          "execution_count": 103,
          "metadata": {},
          "output_type": "execute_result"
        },
        {
          "data": {
            "image/png": "[encoded data removed]",
            "text/plain": [
              "<Figure size 640x480 with 1 Axes>"
            ]
          },
          "metadata": {},
          "output_type": "display_data"
        }
      ],
      "source": [
        "plt.plot(devPredict)"
      ]
    },
    {
      "cell_type": "code",
      "execution_count": null,
      "metadata": {
        "id": "0nT4LaEkNG4A",
        "outputId": "68b48253-d996-41e5-abe1-dd372394c82f"
      },
      "outputs": [
        {
          "data": {
            "text/plain": [
              "[<matplotlib.lines.Line2D at 0x7f03cfd1ceb0>]"
            ]
          },
          "execution_count": 102,
          "metadata": {},
          "output_type": "execute_result"
        },
        {
          "data": {
            "image/png": "[encoded data removed]",
            "text/plain": [
              "<Figure size 640x480 with 1 Axes>"
            ]
          },
          "metadata": {},
          "output_type": "display_data"
        }
      ],
      "source": [
        "plt.plot(devPredict)\n",
        "plt.plot(dev_y[24*6*days_look_back:])"
      ]
    },
    {
      "cell_type": "code",
      "execution_count": null,
      "metadata": {
        "id": "1rp741DLTYei",
        "outputId": "add6cf63-a6d2-41a7-dd4d-1d6aa3a4f9a3"
      },
      "outputs": [
        {
          "data": {
            "text/plain": [
              "[<matplotlib.lines.Line2D at 0x7f03cfea4c40>]"
            ]
          },
          "execution_count": 96,
          "metadata": {},
          "output_type": "execute_result"
        },
        {
          "data": {
            "image/png": "[encoded data removed]",
            "text/plain": [
              "<Figure size 640x480 with 1 Axes>"
            ]
          },
          "metadata": {},
          "output_type": "display_data"
        }
      ],
      "source": [
        "plt.figure()\n",
        "plt.plot(trainPredict)\n",
        "#plt.plot(train_y)"
      ]
    },
    {
      "cell_type": "code",
      "execution_count": null,
      "metadata": {
        "colab": {
          "base_uri": "https://localhost:8080/"
        },
        "id": "wnqIoy8feHjI",
        "outputId": "4cde4787-446e-418d-8a10-eb09dfe06f21"
      },
      "outputs": [
        {
          "data": {
            "text/plain": [
              "array([[0.        ],\n",
              "       [0.        ],\n",
              "       [0.        ],\n",
              "       ...,\n",
              "       [0.00608316],\n",
              "       [0.00765859],\n",
              "       [0.01053154]])"
            ]
          },
          "execution_count": 25,
          "metadata": {},
          "output_type": "execute_result"
        }
      ],
      "source": [
        "train_y[24*6*days_look_back:]"
      ]
    },
    {
      "cell_type": "code",
      "execution_count": null,
      "metadata": {
        "colab": {
          "base_uri": "https://localhost:8080/",
          "height": 283
        },
        "id": "9eMrU0NfwDeD",
        "outputId": "37c5fe1c-ca8f-4c9e-8081-7815e3d76ae4"
      },
      "outputs": [
        {
          "data": {
            "text/plain": [
              "[<matplotlib.lines.Line2D at 0x7fb2e62dc1d0>]"
            ]
          },
          "execution_count": 26,
          "metadata": {},
          "output_type": "execute_result"
        },
        {
          "data": {
            "image/png": "[encoded data removed]",
            "text/plain": [
              "<Figure size 432x288 with 1 Axes>"
            ]
          },
          "metadata": {
            "needs_background": "light"
          },
          "output_type": "display_data"
        }
      ],
      "source": [
        "plt.plot(train_y)"
      ]
    },
    {
      "cell_type": "code",
      "execution_count": null,
      "metadata": {
        "id": "sdtDWPtNwIgh"
      },
      "outputs": [],
      "source": [
        "tmp = vol_df\n",
        "tmp[tmp>0.1]=np.nan"
      ]
    },
    {
      "cell_type": "code",
      "execution_count": null,
      "metadata": {
        "colab": {
          "base_uri": "https://localhost:8080/",
          "height": 283
        },
        "id": "M63WCJq7wULv",
        "outputId": "ba468c18-dad1-4645-ecf9-25f34eca00b9"
      },
      "outputs": [
        {
          "data": {
            "text/plain": [
              "[<matplotlib.lines.Line2D at 0x7fb2e39fd0d0>]"
            ]
          },
          "execution_count": 32,
          "metadata": {},
          "output_type": "execute_result"
        },
        {
          "data": {
            "image/png": "[encoded data removed]",
            "text/plain": [
              "<Figure size 432x288 with 1 Axes>"
            ]
          },
          "metadata": {
            "needs_background": "light"
          },
          "output_type": "display_data"
        }
      ],
      "source": [
        "plt.plot(tmp.fillna(method='ffill'))"
      ]
    },
    {
      "cell_type": "code",
      "execution_count": null,
      "metadata": {
        "colab": {
          "base_uri": "https://localhost:8080/"
        },
        "id": "xvfGgsEEn2ui",
        "outputId": "e471e337-17f9-4233-bca6-6dc45abf7093"
      },
      "outputs": [
        {
          "name": "stderr",
          "output_type": "stream",
          "text": [
            "/usr/local/lib/python3.7/dist-packages/ipykernel_launcher.py:1: UserWarning: `Model.predict_generator` is deprecated and will be removed in a future version. Please use `Model.predict`, which supports generators.\n",
            "  \"\"\"Entry point for launching an IPython kernel.\n",
            "/usr/local/lib/python3.7/dist-packages/ipykernel_launcher.py:2: UserWarning: `Model.predict_generator` is deprecated and will be removed in a future version. Please use `Model.predict`, which supports generators.\n",
            "  \n"
          ]
        }
      ],
      "source": [
        "trainPredict_baseline = baseline_model.predict_generator(train_y.reshape(-1,1))\n",
        "devPredict_baseline  = baseline_model.predict_generator(dev_y.reshape(-1,1))"
      ]
    },
    {
      "cell_type": "code",
      "execution_count": null,
      "metadata": {
        "colab": {
          "base_uri": "https://localhost:8080/"
        },
        "id": "FBulIgZLvCU9",
        "outputId": "ac4c3769-6f14-423f-f684-fc52e256ede7"
      },
      "outputs": [
        {
          "data": {
            "text/plain": [
              "164.47949337333705"
            ]
          },
          "execution_count": 22,
          "metadata": {},
          "output_type": "execute_result"
        }
      ],
      "source": [
        "days_look_back = 2\n",
        "n_input = 24*6*days_look_back\n",
        "from sklearn.metrics import mean_absolute_percentage_error\n",
        "mean_absolute_percentage_error(trainPredict_baseline, train_y)"
      ]
    },
    {
      "cell_type": "code",
      "execution_count": null,
      "metadata": {
        "id": "6hIwxu0-v5ei"
      },
      "outputs": [],
      "source": [
        "tmp = trainPredict_baseline\n",
        "tmp"
      ]
    }
  ],
  "metadata": {
    "colab": {
      "provenance": []
    },
    "kernelspec": {
      "display_name": "Python 3 (ipykernel)",
      "language": "python",
      "name": "python3"
    },
    "language_info": {
      "codemirror_mode": {
        "name": "ipython",
        "version": 3
      },
      "file_extension": ".py",
      "mimetype": "text/x-python",
      "name": "python",
      "nbconvert_exporter": "python",
      "pygments_lexer": "ipython3",
      "version": "3.8.13"
    }
  },
  "nbformat": 4,
  "nbformat_minor": 0
}