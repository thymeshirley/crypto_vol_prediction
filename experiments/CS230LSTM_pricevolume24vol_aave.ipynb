{
 "cells": [
  {
   "cell_type": "code",
   "execution_count": 1,
   "metadata": {
    "id": "YbTK03QaYzIn"
   },
   "outputs": [],
   "source": [
    "import pandas as pd\n",
    "from urllib.request import Request, urlopen\n",
    "from tensorflow.keras.models import Sequential\n",
    "from tensorflow.keras.layers import Activation, Dense, Dropout\n",
    "from sklearn.preprocessing import MinMaxScaler\n",
    "import matplotlib.pyplot as plt\n",
    "import numpy as np\n",
    "import time\n",
    "import sys\n",
    "import re\n",
    "import seaborn as sns\n",
    "import gc\n",
    "from sklearn.model_selection import train_test_split\n",
    "import seaborn as sns\n",
    "import matplotlib.pyplot as plt\n",
    "import math\n",
    "import tensorflow as tf\n",
    "pd.set_option('display.max_rows', None)"
   ]
  },
  {
   "cell_type": "code",
   "execution_count": 2,
   "metadata": {
    "colab": {
     "base_uri": "https://localhost:8080/",
     "height": 143
    },
    "id": "GdS3qnSgiRFS",
    "outputId": "ff97905a-f25c-4c69-d60a-8f5ea5c64412"
   },
   "outputs": [
    {
     "data": {
      "text/html": [
       "<div>\n",
       "<style scoped>\n",
       "    .dataframe tbody tr th:only-of-type {\n",
       "        vertical-align: middle;\n",
       "    }\n",
       "\n",
       "    .dataframe tbody tr th {\n",
       "        vertical-align: top;\n",
       "    }\n",
       "\n",
       "    .dataframe thead th {\n",
       "        text-align: right;\n",
       "    }\n",
       "</style>\n",
       "<table border=\"1\" class=\"dataframe\">\n",
       "  <thead>\n",
       "    <tr style=\"text-align: right;\">\n",
       "      <th></th>\n",
       "      <th>Unnamed: 0</th>\n",
       "      <th>timestamp</th>\n",
       "      <th>first</th>\n",
       "      <th>last</th>\n",
       "      <th>mean</th>\n",
       "      <th>vol_of_vol</th>\n",
       "      <th>max</th>\n",
       "      <th>min</th>\n",
       "      <th>ret</th>\n",
       "      <th>24rolling_vol</th>\n",
       "    </tr>\n",
       "  </thead>\n",
       "  <tbody>\n",
       "    <tr>\n",
       "      <th>0</th>\n",
       "      <td>0</td>\n",
       "      <td>2020-05-26 21:00:00+00:00</td>\n",
       "      <td>201.177211</td>\n",
       "      <td>201.177211</td>\n",
       "      <td>201.0</td>\n",
       "      <td>NaN</td>\n",
       "      <td>201.177211</td>\n",
       "      <td>201.177211</td>\n",
       "      <td>0.0</td>\n",
       "      <td>NaN</td>\n",
       "    </tr>\n",
       "    <tr>\n",
       "      <th>1</th>\n",
       "      <td>1</td>\n",
       "      <td>2020-05-26 21:10:00+00:00</td>\n",
       "      <td>NaN</td>\n",
       "      <td>NaN</td>\n",
       "      <td>NaN</td>\n",
       "      <td>NaN</td>\n",
       "      <td>NaN</td>\n",
       "      <td>NaN</td>\n",
       "      <td>NaN</td>\n",
       "      <td>NaN</td>\n",
       "    </tr>\n",
       "    <tr>\n",
       "      <th>2</th>\n",
       "      <td>2</td>\n",
       "      <td>2020-05-26 21:20:00+00:00</td>\n",
       "      <td>NaN</td>\n",
       "      <td>NaN</td>\n",
       "      <td>NaN</td>\n",
       "      <td>NaN</td>\n",
       "      <td>NaN</td>\n",
       "      <td>NaN</td>\n",
       "      <td>NaN</td>\n",
       "      <td>NaN</td>\n",
       "    </tr>\n",
       "  </tbody>\n",
       "</table>\n",
       "</div>"
      ],
      "text/plain": [
       "   Unnamed: 0                 timestamp       first        last   mean  \\\n",
       "0           0 2020-05-26 21:00:00+00:00  201.177211  201.177211  201.0   \n",
       "1           1 2020-05-26 21:10:00+00:00         NaN         NaN    NaN   \n",
       "2           2 2020-05-26 21:20:00+00:00         NaN         NaN    NaN   \n",
       "\n",
       "   vol_of_vol         max         min  ret  24rolling_vol  \n",
       "0         NaN  201.177211  201.177211  0.0            NaN  \n",
       "1         NaN         NaN         NaN  NaN            NaN  \n",
       "2         NaN         NaN         NaN  NaN            NaN  "
      ]
     },
     "metadata": {},
     "output_type": "display_data"
    }
   ],
   "source": [
    "df=pd.read_csv('../processed_data/price_df_10mins_furtherpreprocess_24hvol.csv')\n",
    "df['tx_timestamp'] = pd.to_datetime(df['tx_timestamp'],unit='ns')\n",
    "df = df.rename(columns = {\"tx_timestamp\":\"timestamp\",\"0\":\"volatility\"})\n",
    "display(df.head(3))\n",
    "df.tail()\n",
    "df = df.set_index('timestamp')\n",
    "vol_df =df['24rolling_vol']*np.sqrt(365)"
   ]
  },
  {
   "cell_type": "code",
   "execution_count": 4,
   "metadata": {},
   "outputs": [],
   "source": [
    "aave_df=pd.read_csv('../processed_data/aave_10mins_activities.csv')\n",
    "aave_df=aave_df.rename(columns={\"tx_timestamp\":\"timestamp\"})\n",
    "aave_df=aave_df.set_index(\"timestamp\")\n",
    "aave_df.index = pd.to_datetime(aave_df.index)"
   ]
  },
  {
   "cell_type": "code",
   "execution_count": 5,
   "metadata": {},
   "outputs": [
    {
     "data": {
      "text/html": [
       "<div>\n",
       "<style scoped>\n",
       "    .dataframe tbody tr th:only-of-type {\n",
       "        vertical-align: middle;\n",
       "    }\n",
       "\n",
       "    .dataframe tbody tr th {\n",
       "        vertical-align: top;\n",
       "    }\n",
       "\n",
       "    .dataframe thead th {\n",
       "        text-align: right;\n",
       "    }\n",
       "</style>\n",
       "<table border=\"1\" class=\"dataframe\">\n",
       "  <thead>\n",
       "    <tr style=\"text-align: right;\">\n",
       "      <th></th>\n",
       "      <th>usdt_deposit</th>\n",
       "      <th>usdt_withdraw</th>\n",
       "      <th>usdt_borrow</th>\n",
       "      <th>usdt_repay</th>\n",
       "      <th>eth_deposit</th>\n",
       "      <th>eth_withdraw</th>\n",
       "      <th>eth_borrow</th>\n",
       "      <th>eth_repay</th>\n",
       "    </tr>\n",
       "    <tr>\n",
       "      <th>timestamp</th>\n",
       "      <th></th>\n",
       "      <th></th>\n",
       "      <th></th>\n",
       "      <th></th>\n",
       "      <th></th>\n",
       "      <th></th>\n",
       "      <th></th>\n",
       "      <th></th>\n",
       "    </tr>\n",
       "  </thead>\n",
       "  <tbody>\n",
       "    <tr>\n",
       "      <th>2020-12-01 15:30:00+00:00</th>\n",
       "      <td>0.0</td>\n",
       "      <td>0.0</td>\n",
       "      <td>0.0</td>\n",
       "      <td>0.0</td>\n",
       "      <td>34.538776</td>\n",
       "      <td>0.000000</td>\n",
       "      <td>0.0</td>\n",
       "      <td>0.0</td>\n",
       "    </tr>\n",
       "    <tr>\n",
       "      <th>2020-12-01 15:40:00+00:00</th>\n",
       "      <td>0.0</td>\n",
       "      <td>0.0</td>\n",
       "      <td>0.0</td>\n",
       "      <td>0.0</td>\n",
       "      <td>0.000000</td>\n",
       "      <td>34.538776</td>\n",
       "      <td>0.0</td>\n",
       "      <td>0.0</td>\n",
       "    </tr>\n",
       "    <tr>\n",
       "      <th>2020-12-01 15:50:00+00:00</th>\n",
       "      <td>0.0</td>\n",
       "      <td>0.0</td>\n",
       "      <td>0.0</td>\n",
       "      <td>0.0</td>\n",
       "      <td>0.000000</td>\n",
       "      <td>0.000000</td>\n",
       "      <td>0.0</td>\n",
       "      <td>0.0</td>\n",
       "    </tr>\n",
       "    <tr>\n",
       "      <th>2020-12-01 16:00:00+00:00</th>\n",
       "      <td>0.0</td>\n",
       "      <td>0.0</td>\n",
       "      <td>0.0</td>\n",
       "      <td>0.0</td>\n",
       "      <td>0.000000</td>\n",
       "      <td>0.000000</td>\n",
       "      <td>0.0</td>\n",
       "      <td>0.0</td>\n",
       "    </tr>\n",
       "    <tr>\n",
       "      <th>2020-12-01 16:10:00+00:00</th>\n",
       "      <td>0.0</td>\n",
       "      <td>0.0</td>\n",
       "      <td>0.0</td>\n",
       "      <td>0.0</td>\n",
       "      <td>0.000000</td>\n",
       "      <td>0.000000</td>\n",
       "      <td>0.0</td>\n",
       "      <td>0.0</td>\n",
       "    </tr>\n",
       "  </tbody>\n",
       "</table>\n",
       "</div>"
      ],
      "text/plain": [
       "                           usdt_deposit  usdt_withdraw  usdt_borrow  \\\n",
       "timestamp                                                             \n",
       "2020-12-01 15:30:00+00:00           0.0            0.0          0.0   \n",
       "2020-12-01 15:40:00+00:00           0.0            0.0          0.0   \n",
       "2020-12-01 15:50:00+00:00           0.0            0.0          0.0   \n",
       "2020-12-01 16:00:00+00:00           0.0            0.0          0.0   \n",
       "2020-12-01 16:10:00+00:00           0.0            0.0          0.0   \n",
       "\n",
       "                           usdt_repay  eth_deposit  eth_withdraw  eth_borrow  \\\n",
       "timestamp                                                                      \n",
       "2020-12-01 15:30:00+00:00         0.0    34.538776      0.000000         0.0   \n",
       "2020-12-01 15:40:00+00:00         0.0     0.000000     34.538776         0.0   \n",
       "2020-12-01 15:50:00+00:00         0.0     0.000000      0.000000         0.0   \n",
       "2020-12-01 16:00:00+00:00         0.0     0.000000      0.000000         0.0   \n",
       "2020-12-01 16:10:00+00:00         0.0     0.000000      0.000000         0.0   \n",
       "\n",
       "                           eth_repay  \n",
       "timestamp                             \n",
       "2020-12-01 15:30:00+00:00        0.0  \n",
       "2020-12-01 15:40:00+00:00        0.0  \n",
       "2020-12-01 15:50:00+00:00        0.0  \n",
       "2020-12-01 16:00:00+00:00        0.0  \n",
       "2020-12-01 16:10:00+00:00        0.0  "
      ]
     },
     "execution_count": 5,
     "metadata": {},
     "output_type": "execute_result"
    }
   ],
   "source": [
    "aave_df['usdt_deposit']=np.log(aave_df['usdt_deposit']+1)\n",
    "aave_df['usdt_withdraw']=np.log(aave_df['usdt_withdraw']+1)\n",
    "aave_df['usdt_borrow']=np.log(aave_df['usdt_borrow']+1)\n",
    "aave_df['usdt_repay']=np.log(aave_df['usdt_repay']+1)\n",
    "aave_df['eth_deposit']=np.log(aave_df['eth_deposit']+1)\n",
    "aave_df['eth_withdraw']=np.log(aave_df['eth_withdraw']+1)\n",
    "aave_df['eth_borrow']=np.log(aave_df['eth_borrow']+1)\n",
    "aave_df['eth_repay']=np.log(aave_df['eth_repay']+1)\n",
    "aave_df.head()"
   ]
  },
  {
   "cell_type": "code",
   "execution_count": 6,
   "metadata": {},
   "outputs": [
    {
     "data": {
      "text/html": [
       "<div>\n",
       "<style scoped>\n",
       "    .dataframe tbody tr th:only-of-type {\n",
       "        vertical-align: middle;\n",
       "    }\n",
       "\n",
       "    .dataframe tbody tr th {\n",
       "        vertical-align: top;\n",
       "    }\n",
       "\n",
       "    .dataframe thead th {\n",
       "        text-align: right;\n",
       "    }\n",
       "</style>\n",
       "<table border=\"1\" class=\"dataframe\">\n",
       "  <thead>\n",
       "    <tr style=\"text-align: right;\">\n",
       "      <th></th>\n",
       "      <th>Amount1_volume</th>\n",
       "      <th>Amount0_volume</th>\n",
       "    </tr>\n",
       "    <tr>\n",
       "      <th>timestamp</th>\n",
       "      <th></th>\n",
       "      <th></th>\n",
       "    </tr>\n",
       "  </thead>\n",
       "  <tbody>\n",
       "    <tr>\n",
       "      <th>2020-05-26 21:00:00+00:00</th>\n",
       "      <td>16.865438</td>\n",
       "      <td>39.192273</td>\n",
       "    </tr>\n",
       "    <tr>\n",
       "      <th>2020-05-26 21:10:00+00:00</th>\n",
       "      <td>0.000000</td>\n",
       "      <td>0.000000</td>\n",
       "    </tr>\n",
       "    <tr>\n",
       "      <th>2020-05-26 21:20:00+00:00</th>\n",
       "      <td>0.000000</td>\n",
       "      <td>0.000000</td>\n",
       "    </tr>\n",
       "    <tr>\n",
       "      <th>2020-05-26 21:30:00+00:00</th>\n",
       "      <td>0.000000</td>\n",
       "      <td>0.000000</td>\n",
       "    </tr>\n",
       "    <tr>\n",
       "      <th>2020-05-26 21:40:00+00:00</th>\n",
       "      <td>0.000000</td>\n",
       "      <td>0.000000</td>\n",
       "    </tr>\n",
       "  </tbody>\n",
       "</table>\n",
       "</div>"
      ],
      "text/plain": [
       "                           Amount1_volume  Amount0_volume\n",
       "timestamp                                                \n",
       "2020-05-26 21:00:00+00:00       16.865438       39.192273\n",
       "2020-05-26 21:10:00+00:00        0.000000        0.000000\n",
       "2020-05-26 21:20:00+00:00        0.000000        0.000000\n",
       "2020-05-26 21:30:00+00:00        0.000000        0.000000\n",
       "2020-05-26 21:40:00+00:00        0.000000        0.000000"
      ]
     },
     "execution_count": 6,
     "metadata": {},
     "output_type": "execute_result"
    }
   ],
   "source": [
    "volume_df = pd.read_csv('../processed_data/volume.csv')\n",
    "volume_df['tx_timestamp'] = pd.to_datetime(volume_df['tx_timestamp'],unit='ns')\n",
    "volume_df = volume_df.rename(columns = {\"tx_timestamp\":\"timestamp\",\"0\":\"volatility\"})\n",
    "volume_df = volume_df.set_index('timestamp')\n",
    "volume_df['Amount1_volume']=np.log(volume_df['Amount1_volume'].astype(float)+1)\n",
    "volume_df['Amount0_volume']=np.log(volume_df['Amount0_volume'].astype(float)+1)\n",
    "volume_df.head()"
   ]
  },
  {
   "cell_type": "code",
   "execution_count": 7,
   "metadata": {
    "colab": {
     "base_uri": "https://localhost:8080/",
     "height": 309
    },
    "id": "U1C4mIgwMjqb",
    "outputId": "d069a592-1085-489d-ed4d-0b6e11bd7f28"
   },
   "outputs": [
    {
     "data": {
      "text/plain": [
       "<AxesSubplot: xlabel='timestamp'>"
      ]
     },
     "execution_count": 7,
     "metadata": {},
     "output_type": "execute_result"
    },
    {
     "data": {
      "image/png": "[encoded data removed]",
      "text/plain": [
       "<Figure size 640x480 with 1 Axes>"
      ]
     },
     "metadata": {},
     "output_type": "display_data"
    }
   ],
   "source": [
    "vol_df.plot()"
   ]
  },
  {
   "cell_type": "code",
   "execution_count": 8,
   "metadata": {
    "colab": {
     "base_uri": "https://localhost:8080/"
    },
    "id": "XXhmXqpPZxlD",
    "outputId": "3704daa7-f383-4dcc-b2f4-ef69abb29f92"
   },
   "outputs": [
    {
     "data": {
      "text/plain": [
       "0.07145312882840953"
      ]
     },
     "execution_count": 8,
     "metadata": {},
     "output_type": "execute_result"
    }
   ],
   "source": [
    "vol_df.min()"
   ]
  },
  {
   "cell_type": "code",
   "execution_count": 9,
   "metadata": {},
   "outputs": [],
   "source": [
    "vol_df = vol_df.fillna(method= 'ffill')"
   ]
  },
  {
   "cell_type": "code",
   "execution_count": 10,
   "metadata": {
    "colab": {
     "base_uri": "https://localhost:8080/"
    },
    "id": "Fcab14-kZ0Ta",
    "outputId": "c9e83230-5f9a-4a2c-b270-658bc4669d12"
   },
   "outputs": [
    {
     "data": {
      "text/plain": [
       "0.4018414022471649"
      ]
     },
     "execution_count": 10,
     "metadata": {},
     "output_type": "execute_result"
    }
   ],
   "source": [
    "vol_df.max()"
   ]
  },
  {
   "cell_type": "code",
   "execution_count": 11,
   "metadata": {
    "id": "CjZrR-QYM4sf"
   },
   "outputs": [],
   "source": [
    "df_price = df.iloc[:,1:-2]\n",
    "df_price = df_price.drop(columns = 'vol_of_vol')"
   ]
  },
  {
   "cell_type": "code",
   "execution_count": 12,
   "metadata": {
    "colab": {
     "base_uri": "https://localhost:8080/",
     "height": 238
    },
    "id": "PE_U_syPNDPo",
    "outputId": "3703a0a6-a4af-428b-ca8c-2372120767dc"
   },
   "outputs": [
    {
     "data": {
      "text/html": [
       "<div>\n",
       "<style scoped>\n",
       "    .dataframe tbody tr th:only-of-type {\n",
       "        vertical-align: middle;\n",
       "    }\n",
       "\n",
       "    .dataframe tbody tr th {\n",
       "        vertical-align: top;\n",
       "    }\n",
       "\n",
       "    .dataframe thead th {\n",
       "        text-align: right;\n",
       "    }\n",
       "</style>\n",
       "<table border=\"1\" class=\"dataframe\">\n",
       "  <thead>\n",
       "    <tr style=\"text-align: right;\">\n",
       "      <th></th>\n",
       "      <th>first</th>\n",
       "      <th>last</th>\n",
       "      <th>mean</th>\n",
       "      <th>max</th>\n",
       "      <th>min</th>\n",
       "    </tr>\n",
       "    <tr>\n",
       "      <th>timestamp</th>\n",
       "      <th></th>\n",
       "      <th></th>\n",
       "      <th></th>\n",
       "      <th></th>\n",
       "      <th></th>\n",
       "    </tr>\n",
       "  </thead>\n",
       "  <tbody>\n",
       "    <tr>\n",
       "      <th>2020-05-26 21:00:00+00:00</th>\n",
       "      <td>201.177211</td>\n",
       "      <td>201.177211</td>\n",
       "      <td>201.0</td>\n",
       "      <td>201.177211</td>\n",
       "      <td>201.177211</td>\n",
       "    </tr>\n",
       "    <tr>\n",
       "      <th>2020-05-26 21:10:00+00:00</th>\n",
       "      <td>NaN</td>\n",
       "      <td>NaN</td>\n",
       "      <td>NaN</td>\n",
       "      <td>NaN</td>\n",
       "      <td>NaN</td>\n",
       "    </tr>\n",
       "    <tr>\n",
       "      <th>2020-05-26 21:20:00+00:00</th>\n",
       "      <td>NaN</td>\n",
       "      <td>NaN</td>\n",
       "      <td>NaN</td>\n",
       "      <td>NaN</td>\n",
       "      <td>NaN</td>\n",
       "    </tr>\n",
       "    <tr>\n",
       "      <th>2020-05-26 21:30:00+00:00</th>\n",
       "      <td>NaN</td>\n",
       "      <td>NaN</td>\n",
       "      <td>NaN</td>\n",
       "      <td>NaN</td>\n",
       "      <td>NaN</td>\n",
       "    </tr>\n",
       "    <tr>\n",
       "      <th>2020-05-26 21:40:00+00:00</th>\n",
       "      <td>NaN</td>\n",
       "      <td>NaN</td>\n",
       "      <td>NaN</td>\n",
       "      <td>NaN</td>\n",
       "      <td>NaN</td>\n",
       "    </tr>\n",
       "  </tbody>\n",
       "</table>\n",
       "</div>"
      ],
      "text/plain": [
       "                                first        last   mean         max  \\\n",
       "timestamp                                                              \n",
       "2020-05-26 21:00:00+00:00  201.177211  201.177211  201.0  201.177211   \n",
       "2020-05-26 21:10:00+00:00         NaN         NaN    NaN         NaN   \n",
       "2020-05-26 21:20:00+00:00         NaN         NaN    NaN         NaN   \n",
       "2020-05-26 21:30:00+00:00         NaN         NaN    NaN         NaN   \n",
       "2020-05-26 21:40:00+00:00         NaN         NaN    NaN         NaN   \n",
       "\n",
       "                                  min  \n",
       "timestamp                              \n",
       "2020-05-26 21:00:00+00:00  201.177211  \n",
       "2020-05-26 21:10:00+00:00         NaN  \n",
       "2020-05-26 21:20:00+00:00         NaN  \n",
       "2020-05-26 21:30:00+00:00         NaN  \n",
       "2020-05-26 21:40:00+00:00         NaN  "
      ]
     },
     "execution_count": 12,
     "metadata": {},
     "output_type": "execute_result"
    }
   ],
   "source": [
    "df_price.head()"
   ]
  },
  {
   "cell_type": "code",
   "execution_count": 13,
   "metadata": {
    "id": "V-idzOTbiuc0"
   },
   "outputs": [],
   "source": [
    "#df_final  = pd.concat([df_price,volume_df,vol_df,aave_df],axis =1)\n",
    "df_final  = pd.concat([vol_df,aave_df],axis =1)"
   ]
  },
  {
   "cell_type": "code",
   "execution_count": 14,
   "metadata": {
    "colab": {
     "base_uri": "https://localhost:8080/",
     "height": 238
    },
    "id": "wyXFqDNrNaTt",
    "outputId": "3e95fa2a-57ce-47d3-dc5b-bcc4c9d45a19"
   },
   "outputs": [
    {
     "data": {
      "text/html": [
       "<div>\n",
       "<style scoped>\n",
       "    .dataframe tbody tr th:only-of-type {\n",
       "        vertical-align: middle;\n",
       "    }\n",
       "\n",
       "    .dataframe tbody tr th {\n",
       "        vertical-align: top;\n",
       "    }\n",
       "\n",
       "    .dataframe thead th {\n",
       "        text-align: right;\n",
       "    }\n",
       "</style>\n",
       "<table border=\"1\" class=\"dataframe\">\n",
       "  <thead>\n",
       "    <tr style=\"text-align: right;\">\n",
       "      <th></th>\n",
       "      <th>24rolling_vol</th>\n",
       "      <th>usdt_deposit</th>\n",
       "      <th>usdt_withdraw</th>\n",
       "      <th>usdt_borrow</th>\n",
       "      <th>usdt_repay</th>\n",
       "      <th>eth_deposit</th>\n",
       "      <th>eth_withdraw</th>\n",
       "      <th>eth_borrow</th>\n",
       "      <th>eth_repay</th>\n",
       "    </tr>\n",
       "    <tr>\n",
       "      <th>timestamp</th>\n",
       "      <th></th>\n",
       "      <th></th>\n",
       "      <th></th>\n",
       "      <th></th>\n",
       "      <th></th>\n",
       "      <th></th>\n",
       "      <th></th>\n",
       "      <th></th>\n",
       "      <th></th>\n",
       "    </tr>\n",
       "  </thead>\n",
       "  <tbody>\n",
       "    <tr>\n",
       "      <th>2020-05-26 21:00:00+00:00</th>\n",
       "      <td>NaN</td>\n",
       "      <td>NaN</td>\n",
       "      <td>NaN</td>\n",
       "      <td>NaN</td>\n",
       "      <td>NaN</td>\n",
       "      <td>NaN</td>\n",
       "      <td>NaN</td>\n",
       "      <td>NaN</td>\n",
       "      <td>NaN</td>\n",
       "    </tr>\n",
       "    <tr>\n",
       "      <th>2020-05-26 21:10:00+00:00</th>\n",
       "      <td>NaN</td>\n",
       "      <td>NaN</td>\n",
       "      <td>NaN</td>\n",
       "      <td>NaN</td>\n",
       "      <td>NaN</td>\n",
       "      <td>NaN</td>\n",
       "      <td>NaN</td>\n",
       "      <td>NaN</td>\n",
       "      <td>NaN</td>\n",
       "    </tr>\n",
       "    <tr>\n",
       "      <th>2020-05-26 21:20:00+00:00</th>\n",
       "      <td>NaN</td>\n",
       "      <td>NaN</td>\n",
       "      <td>NaN</td>\n",
       "      <td>NaN</td>\n",
       "      <td>NaN</td>\n",
       "      <td>NaN</td>\n",
       "      <td>NaN</td>\n",
       "      <td>NaN</td>\n",
       "      <td>NaN</td>\n",
       "    </tr>\n",
       "    <tr>\n",
       "      <th>2020-05-26 21:30:00+00:00</th>\n",
       "      <td>NaN</td>\n",
       "      <td>NaN</td>\n",
       "      <td>NaN</td>\n",
       "      <td>NaN</td>\n",
       "      <td>NaN</td>\n",
       "      <td>NaN</td>\n",
       "      <td>NaN</td>\n",
       "      <td>NaN</td>\n",
       "      <td>NaN</td>\n",
       "    </tr>\n",
       "    <tr>\n",
       "      <th>2020-05-26 21:40:00+00:00</th>\n",
       "      <td>NaN</td>\n",
       "      <td>NaN</td>\n",
       "      <td>NaN</td>\n",
       "      <td>NaN</td>\n",
       "      <td>NaN</td>\n",
       "      <td>NaN</td>\n",
       "      <td>NaN</td>\n",
       "      <td>NaN</td>\n",
       "      <td>NaN</td>\n",
       "    </tr>\n",
       "  </tbody>\n",
       "</table>\n",
       "</div>"
      ],
      "text/plain": [
       "                           24rolling_vol  usdt_deposit  usdt_withdraw  \\\n",
       "timestamp                                                               \n",
       "2020-05-26 21:00:00+00:00            NaN           NaN            NaN   \n",
       "2020-05-26 21:10:00+00:00            NaN           NaN            NaN   \n",
       "2020-05-26 21:20:00+00:00            NaN           NaN            NaN   \n",
       "2020-05-26 21:30:00+00:00            NaN           NaN            NaN   \n",
       "2020-05-26 21:40:00+00:00            NaN           NaN            NaN   \n",
       "\n",
       "                           usdt_borrow  usdt_repay  eth_deposit  eth_withdraw  \\\n",
       "timestamp                                                                       \n",
       "2020-05-26 21:00:00+00:00          NaN         NaN          NaN           NaN   \n",
       "2020-05-26 21:10:00+00:00          NaN         NaN          NaN           NaN   \n",
       "2020-05-26 21:20:00+00:00          NaN         NaN          NaN           NaN   \n",
       "2020-05-26 21:30:00+00:00          NaN         NaN          NaN           NaN   \n",
       "2020-05-26 21:40:00+00:00          NaN         NaN          NaN           NaN   \n",
       "\n",
       "                           eth_borrow  eth_repay  \n",
       "timestamp                                         \n",
       "2020-05-26 21:00:00+00:00         NaN        NaN  \n",
       "2020-05-26 21:10:00+00:00         NaN        NaN  \n",
       "2020-05-26 21:20:00+00:00         NaN        NaN  \n",
       "2020-05-26 21:30:00+00:00         NaN        NaN  \n",
       "2020-05-26 21:40:00+00:00         NaN        NaN  "
      ]
     },
     "execution_count": 14,
     "metadata": {},
     "output_type": "execute_result"
    }
   ],
   "source": [
    "df_final.head()"
   ]
  },
  {
   "cell_type": "code",
   "execution_count": 15,
   "metadata": {
    "id": "_FbJJM_GOYgP"
   },
   "outputs": [],
   "source": [
    "df = df_final\n",
    "df = df.fillna(method = 'ffill')\n",
    "df = df.fillna(0)"
   ]
  },
  {
   "cell_type": "code",
   "execution_count": 16,
   "metadata": {
    "colab": {
     "base_uri": "https://localhost:8080/",
     "height": 238
    },
    "id": "YvMWRLNWv8QV",
    "outputId": "a707e896-3cef-4cd6-da7b-9fa10eb2135f"
   },
   "outputs": [
    {
     "data": {
      "text/html": [
       "<div>\n",
       "<style scoped>\n",
       "    .dataframe tbody tr th:only-of-type {\n",
       "        vertical-align: middle;\n",
       "    }\n",
       "\n",
       "    .dataframe tbody tr th {\n",
       "        vertical-align: top;\n",
       "    }\n",
       "\n",
       "    .dataframe thead th {\n",
       "        text-align: right;\n",
       "    }\n",
       "</style>\n",
       "<table border=\"1\" class=\"dataframe\">\n",
       "  <thead>\n",
       "    <tr style=\"text-align: right;\">\n",
       "      <th></th>\n",
       "      <th>24rolling_vol</th>\n",
       "      <th>usdt_deposit</th>\n",
       "      <th>usdt_withdraw</th>\n",
       "      <th>usdt_borrow</th>\n",
       "      <th>usdt_repay</th>\n",
       "      <th>eth_deposit</th>\n",
       "      <th>eth_withdraw</th>\n",
       "      <th>eth_borrow</th>\n",
       "      <th>eth_repay</th>\n",
       "    </tr>\n",
       "    <tr>\n",
       "      <th>timestamp</th>\n",
       "      <th></th>\n",
       "      <th></th>\n",
       "      <th></th>\n",
       "      <th></th>\n",
       "      <th></th>\n",
       "      <th></th>\n",
       "      <th></th>\n",
       "      <th></th>\n",
       "      <th></th>\n",
       "    </tr>\n",
       "  </thead>\n",
       "  <tbody>\n",
       "    <tr>\n",
       "      <th>2020-05-26 21:00:00+00:00</th>\n",
       "      <td>0.0</td>\n",
       "      <td>0.0</td>\n",
       "      <td>0.0</td>\n",
       "      <td>0.0</td>\n",
       "      <td>0.0</td>\n",
       "      <td>0.0</td>\n",
       "      <td>0.0</td>\n",
       "      <td>0.0</td>\n",
       "      <td>0.0</td>\n",
       "    </tr>\n",
       "    <tr>\n",
       "      <th>2020-05-26 21:10:00+00:00</th>\n",
       "      <td>0.0</td>\n",
       "      <td>0.0</td>\n",
       "      <td>0.0</td>\n",
       "      <td>0.0</td>\n",
       "      <td>0.0</td>\n",
       "      <td>0.0</td>\n",
       "      <td>0.0</td>\n",
       "      <td>0.0</td>\n",
       "      <td>0.0</td>\n",
       "    </tr>\n",
       "    <tr>\n",
       "      <th>2020-05-26 21:20:00+00:00</th>\n",
       "      <td>0.0</td>\n",
       "      <td>0.0</td>\n",
       "      <td>0.0</td>\n",
       "      <td>0.0</td>\n",
       "      <td>0.0</td>\n",
       "      <td>0.0</td>\n",
       "      <td>0.0</td>\n",
       "      <td>0.0</td>\n",
       "      <td>0.0</td>\n",
       "    </tr>\n",
       "    <tr>\n",
       "      <th>2020-05-26 21:30:00+00:00</th>\n",
       "      <td>0.0</td>\n",
       "      <td>0.0</td>\n",
       "      <td>0.0</td>\n",
       "      <td>0.0</td>\n",
       "      <td>0.0</td>\n",
       "      <td>0.0</td>\n",
       "      <td>0.0</td>\n",
       "      <td>0.0</td>\n",
       "      <td>0.0</td>\n",
       "    </tr>\n",
       "    <tr>\n",
       "      <th>2020-05-26 21:40:00+00:00</th>\n",
       "      <td>0.0</td>\n",
       "      <td>0.0</td>\n",
       "      <td>0.0</td>\n",
       "      <td>0.0</td>\n",
       "      <td>0.0</td>\n",
       "      <td>0.0</td>\n",
       "      <td>0.0</td>\n",
       "      <td>0.0</td>\n",
       "      <td>0.0</td>\n",
       "    </tr>\n",
       "  </tbody>\n",
       "</table>\n",
       "</div>"
      ],
      "text/plain": [
       "                           24rolling_vol  usdt_deposit  usdt_withdraw  \\\n",
       "timestamp                                                               \n",
       "2020-05-26 21:00:00+00:00            0.0           0.0            0.0   \n",
       "2020-05-26 21:10:00+00:00            0.0           0.0            0.0   \n",
       "2020-05-26 21:20:00+00:00            0.0           0.0            0.0   \n",
       "2020-05-26 21:30:00+00:00            0.0           0.0            0.0   \n",
       "2020-05-26 21:40:00+00:00            0.0           0.0            0.0   \n",
       "\n",
       "                           usdt_borrow  usdt_repay  eth_deposit  eth_withdraw  \\\n",
       "timestamp                                                                       \n",
       "2020-05-26 21:00:00+00:00          0.0         0.0          0.0           0.0   \n",
       "2020-05-26 21:10:00+00:00          0.0         0.0          0.0           0.0   \n",
       "2020-05-26 21:20:00+00:00          0.0         0.0          0.0           0.0   \n",
       "2020-05-26 21:30:00+00:00          0.0         0.0          0.0           0.0   \n",
       "2020-05-26 21:40:00+00:00          0.0         0.0          0.0           0.0   \n",
       "\n",
       "                           eth_borrow  eth_repay  \n",
       "timestamp                                         \n",
       "2020-05-26 21:00:00+00:00         0.0        0.0  \n",
       "2020-05-26 21:10:00+00:00         0.0        0.0  \n",
       "2020-05-26 21:20:00+00:00         0.0        0.0  \n",
       "2020-05-26 21:30:00+00:00         0.0        0.0  \n",
       "2020-05-26 21:40:00+00:00         0.0        0.0  "
      ]
     },
     "execution_count": 16,
     "metadata": {},
     "output_type": "execute_result"
    }
   ],
   "source": [
    "df.head()"
   ]
  },
  {
   "cell_type": "code",
   "execution_count": 17,
   "metadata": {
    "colab": {
     "base_uri": "https://localhost:8080/",
     "height": 238
    },
    "id": "5R7l0vt6OggL",
    "outputId": "c4fc89cc-668f-4808-8f58-b8be1f8acb5e"
   },
   "outputs": [
    {
     "data": {
      "text/html": [
       "<div>\n",
       "<style scoped>\n",
       "    .dataframe tbody tr th:only-of-type {\n",
       "        vertical-align: middle;\n",
       "    }\n",
       "\n",
       "    .dataframe tbody tr th {\n",
       "        vertical-align: top;\n",
       "    }\n",
       "\n",
       "    .dataframe thead th {\n",
       "        text-align: right;\n",
       "    }\n",
       "</style>\n",
       "<table border=\"1\" class=\"dataframe\">\n",
       "  <thead>\n",
       "    <tr style=\"text-align: right;\">\n",
       "      <th></th>\n",
       "      <th>24rolling_vol</th>\n",
       "      <th>usdt_deposit</th>\n",
       "      <th>usdt_withdraw</th>\n",
       "      <th>usdt_borrow</th>\n",
       "      <th>usdt_repay</th>\n",
       "      <th>eth_deposit</th>\n",
       "      <th>eth_withdraw</th>\n",
       "      <th>eth_borrow</th>\n",
       "      <th>eth_repay</th>\n",
       "    </tr>\n",
       "    <tr>\n",
       "      <th>timestamp</th>\n",
       "      <th></th>\n",
       "      <th></th>\n",
       "      <th></th>\n",
       "      <th></th>\n",
       "      <th></th>\n",
       "      <th></th>\n",
       "      <th></th>\n",
       "      <th></th>\n",
       "      <th></th>\n",
       "    </tr>\n",
       "  </thead>\n",
       "  <tbody>\n",
       "    <tr>\n",
       "      <th>2022-10-30 13:50:00+00:00</th>\n",
       "      <td>0.091792</td>\n",
       "      <td>0.000000</td>\n",
       "      <td>0.0</td>\n",
       "      <td>0.0</td>\n",
       "      <td>0.0</td>\n",
       "      <td>0.000000</td>\n",
       "      <td>43.472721</td>\n",
       "      <td>46.051702</td>\n",
       "      <td>0.0</td>\n",
       "    </tr>\n",
       "    <tr>\n",
       "      <th>2022-10-30 14:00:00+00:00</th>\n",
       "      <td>0.091673</td>\n",
       "      <td>0.000000</td>\n",
       "      <td>0.0</td>\n",
       "      <td>0.0</td>\n",
       "      <td>0.0</td>\n",
       "      <td>43.525973</td>\n",
       "      <td>0.000000</td>\n",
       "      <td>0.000000</td>\n",
       "      <td>0.0</td>\n",
       "    </tr>\n",
       "    <tr>\n",
       "      <th>2022-10-30 14:10:00+00:00</th>\n",
       "      <td>0.091597</td>\n",
       "      <td>0.000000</td>\n",
       "      <td>0.0</td>\n",
       "      <td>0.0</td>\n",
       "      <td>0.0</td>\n",
       "      <td>0.000000</td>\n",
       "      <td>0.000000</td>\n",
       "      <td>0.000000</td>\n",
       "      <td>0.0</td>\n",
       "    </tr>\n",
       "    <tr>\n",
       "      <th>2022-10-30 14:20:00+00:00</th>\n",
       "      <td>0.092790</td>\n",
       "      <td>19.062535</td>\n",
       "      <td>0.0</td>\n",
       "      <td>0.0</td>\n",
       "      <td>0.0</td>\n",
       "      <td>43.951093</td>\n",
       "      <td>0.000000</td>\n",
       "      <td>0.000000</td>\n",
       "      <td>0.0</td>\n",
       "    </tr>\n",
       "    <tr>\n",
       "      <th>2022-10-30 14:30:00+00:00</th>\n",
       "      <td>0.092494</td>\n",
       "      <td>19.062535</td>\n",
       "      <td>0.0</td>\n",
       "      <td>0.0</td>\n",
       "      <td>0.0</td>\n",
       "      <td>43.951093</td>\n",
       "      <td>0.000000</td>\n",
       "      <td>0.000000</td>\n",
       "      <td>0.0</td>\n",
       "    </tr>\n",
       "  </tbody>\n",
       "</table>\n",
       "</div>"
      ],
      "text/plain": [
       "                           24rolling_vol  usdt_deposit  usdt_withdraw  \\\n",
       "timestamp                                                               \n",
       "2022-10-30 13:50:00+00:00       0.091792      0.000000            0.0   \n",
       "2022-10-30 14:00:00+00:00       0.091673      0.000000            0.0   \n",
       "2022-10-30 14:10:00+00:00       0.091597      0.000000            0.0   \n",
       "2022-10-30 14:20:00+00:00       0.092790     19.062535            0.0   \n",
       "2022-10-30 14:30:00+00:00       0.092494     19.062535            0.0   \n",
       "\n",
       "                           usdt_borrow  usdt_repay  eth_deposit  eth_withdraw  \\\n",
       "timestamp                                                                       \n",
       "2022-10-30 13:50:00+00:00          0.0         0.0     0.000000     43.472721   \n",
       "2022-10-30 14:00:00+00:00          0.0         0.0    43.525973      0.000000   \n",
       "2022-10-30 14:10:00+00:00          0.0         0.0     0.000000      0.000000   \n",
       "2022-10-30 14:20:00+00:00          0.0         0.0    43.951093      0.000000   \n",
       "2022-10-30 14:30:00+00:00          0.0         0.0    43.951093      0.000000   \n",
       "\n",
       "                           eth_borrow  eth_repay  \n",
       "timestamp                                         \n",
       "2022-10-30 13:50:00+00:00   46.051702        0.0  \n",
       "2022-10-30 14:00:00+00:00    0.000000        0.0  \n",
       "2022-10-30 14:10:00+00:00    0.000000        0.0  \n",
       "2022-10-30 14:20:00+00:00    0.000000        0.0  \n",
       "2022-10-30 14:30:00+00:00    0.000000        0.0  "
      ]
     },
     "execution_count": 17,
     "metadata": {},
     "output_type": "execute_result"
    }
   ],
   "source": [
    "df.tail()\n"
   ]
  },
  {
   "cell_type": "code",
   "execution_count": null,
   "metadata": {
    "id": "sMA-jclwbJf7"
   },
   "outputs": [],
   "source": []
  },
  {
   "cell_type": "code",
   "execution_count": 18,
   "metadata": {
    "colab": {
     "base_uri": "https://localhost:8080/",
     "height": 283
    },
    "id": "In1ByKUuY7H-",
    "outputId": "d50666b2-46f9-46a6-f434-b10a10b6daa2"
   },
   "outputs": [
    {
     "data": {
      "text/plain": [
       "[<matplotlib.lines.Line2D at 0x7f5009439760>]"
      ]
     },
     "execution_count": 18,
     "metadata": {},
     "output_type": "execute_result"
    },
    {
     "data": {
      "image/png": "[encoded data removed]",
      "text/plain": [
       "<Figure size 640x480 with 1 Axes>"
      ]
     },
     "metadata": {},
     "output_type": "display_data"
    }
   ],
   "source": [
    "plt.plot(df.index,df['24rolling_vol'])"
   ]
  },
  {
   "cell_type": "code",
   "execution_count": 19,
   "metadata": {
    "colab": {
     "base_uri": "https://localhost:8080/"
    },
    "id": "A1jxeNkoY8tE",
    "outputId": "03b56ddc-9cfe-4412-dcc7-d9e53d73d8fa"
   },
   "outputs": [
    {
     "data": {
      "text/plain": [
       "(127690, 9)"
      ]
     },
     "execution_count": 19,
     "metadata": {},
     "output_type": "execute_result"
    }
   ],
   "source": [
    "df.shape"
   ]
  },
  {
   "cell_type": "code",
   "execution_count": 20,
   "metadata": {
    "id": "xrX2LeJiZKg_"
   },
   "outputs": [],
   "source": [
    "train_start = '2020-12-01'\n",
    "train_end = '2022-07-31'\n",
    "dev_start = '2022-08-01'\n",
    "dev_end = '2022-09-30'\n",
    "test_start = '2022-10-01'\n",
    "test_end = '2022-10-31'"
   ]
  },
  {
   "cell_type": "code",
   "execution_count": 21,
   "metadata": {},
   "outputs": [],
   "source": [
    "df = df.iloc[:,:-1]"
   ]
  },
  {
   "cell_type": "code",
   "execution_count": 22,
   "metadata": {},
   "outputs": [
    {
     "data": {
      "text/html": [
       "<div>\n",
       "<style scoped>\n",
       "    .dataframe tbody tr th:only-of-type {\n",
       "        vertical-align: middle;\n",
       "    }\n",
       "\n",
       "    .dataframe tbody tr th {\n",
       "        vertical-align: top;\n",
       "    }\n",
       "\n",
       "    .dataframe thead th {\n",
       "        text-align: right;\n",
       "    }\n",
       "</style>\n",
       "<table border=\"1\" class=\"dataframe\">\n",
       "  <thead>\n",
       "    <tr style=\"text-align: right;\">\n",
       "      <th></th>\n",
       "      <th>24rolling_vol</th>\n",
       "      <th>usdt_deposit</th>\n",
       "      <th>usdt_withdraw</th>\n",
       "      <th>usdt_borrow</th>\n",
       "      <th>usdt_repay</th>\n",
       "      <th>eth_deposit</th>\n",
       "      <th>eth_withdraw</th>\n",
       "      <th>eth_borrow</th>\n",
       "    </tr>\n",
       "    <tr>\n",
       "      <th>timestamp</th>\n",
       "      <th></th>\n",
       "      <th></th>\n",
       "      <th></th>\n",
       "      <th></th>\n",
       "      <th></th>\n",
       "      <th></th>\n",
       "      <th></th>\n",
       "      <th></th>\n",
       "    </tr>\n",
       "  </thead>\n",
       "  <tbody>\n",
       "    <tr>\n",
       "      <th>2020-05-26 21:00:00+00:00</th>\n",
       "      <td>0.0</td>\n",
       "      <td>0.0</td>\n",
       "      <td>0.0</td>\n",
       "      <td>0.0</td>\n",
       "      <td>0.0</td>\n",
       "      <td>0.0</td>\n",
       "      <td>0.0</td>\n",
       "      <td>0.0</td>\n",
       "    </tr>\n",
       "    <tr>\n",
       "      <th>2020-05-26 21:10:00+00:00</th>\n",
       "      <td>0.0</td>\n",
       "      <td>0.0</td>\n",
       "      <td>0.0</td>\n",
       "      <td>0.0</td>\n",
       "      <td>0.0</td>\n",
       "      <td>0.0</td>\n",
       "      <td>0.0</td>\n",
       "      <td>0.0</td>\n",
       "    </tr>\n",
       "    <tr>\n",
       "      <th>2020-05-26 21:20:00+00:00</th>\n",
       "      <td>0.0</td>\n",
       "      <td>0.0</td>\n",
       "      <td>0.0</td>\n",
       "      <td>0.0</td>\n",
       "      <td>0.0</td>\n",
       "      <td>0.0</td>\n",
       "      <td>0.0</td>\n",
       "      <td>0.0</td>\n",
       "    </tr>\n",
       "    <tr>\n",
       "      <th>2020-05-26 21:30:00+00:00</th>\n",
       "      <td>0.0</td>\n",
       "      <td>0.0</td>\n",
       "      <td>0.0</td>\n",
       "      <td>0.0</td>\n",
       "      <td>0.0</td>\n",
       "      <td>0.0</td>\n",
       "      <td>0.0</td>\n",
       "      <td>0.0</td>\n",
       "    </tr>\n",
       "    <tr>\n",
       "      <th>2020-05-26 21:40:00+00:00</th>\n",
       "      <td>0.0</td>\n",
       "      <td>0.0</td>\n",
       "      <td>0.0</td>\n",
       "      <td>0.0</td>\n",
       "      <td>0.0</td>\n",
       "      <td>0.0</td>\n",
       "      <td>0.0</td>\n",
       "      <td>0.0</td>\n",
       "    </tr>\n",
       "  </tbody>\n",
       "</table>\n",
       "</div>"
      ],
      "text/plain": [
       "                           24rolling_vol  usdt_deposit  usdt_withdraw  \\\n",
       "timestamp                                                               \n",
       "2020-05-26 21:00:00+00:00            0.0           0.0            0.0   \n",
       "2020-05-26 21:10:00+00:00            0.0           0.0            0.0   \n",
       "2020-05-26 21:20:00+00:00            0.0           0.0            0.0   \n",
       "2020-05-26 21:30:00+00:00            0.0           0.0            0.0   \n",
       "2020-05-26 21:40:00+00:00            0.0           0.0            0.0   \n",
       "\n",
       "                           usdt_borrow  usdt_repay  eth_deposit  eth_withdraw  \\\n",
       "timestamp                                                                       \n",
       "2020-05-26 21:00:00+00:00          0.0         0.0          0.0           0.0   \n",
       "2020-05-26 21:10:00+00:00          0.0         0.0          0.0           0.0   \n",
       "2020-05-26 21:20:00+00:00          0.0         0.0          0.0           0.0   \n",
       "2020-05-26 21:30:00+00:00          0.0         0.0          0.0           0.0   \n",
       "2020-05-26 21:40:00+00:00          0.0         0.0          0.0           0.0   \n",
       "\n",
       "                           eth_borrow  \n",
       "timestamp                              \n",
       "2020-05-26 21:00:00+00:00         0.0  \n",
       "2020-05-26 21:10:00+00:00         0.0  \n",
       "2020-05-26 21:20:00+00:00         0.0  \n",
       "2020-05-26 21:30:00+00:00         0.0  \n",
       "2020-05-26 21:40:00+00:00         0.0  "
      ]
     },
     "execution_count": 22,
     "metadata": {},
     "output_type": "execute_result"
    }
   ],
   "source": [
    "df.head()"
   ]
  },
  {
   "cell_type": "code",
   "execution_count": 23,
   "metadata": {
    "colab": {
     "base_uri": "https://localhost:8080/"
    },
    "id": "uXmV4EZSPAyt",
    "outputId": "21fdbfa9-2002-4202-da74-a4e947983f79"
   },
   "outputs": [
    {
     "data": {
      "text/plain": [
       "((87409, 8), (8641, 8), (4264, 8))"
      ]
     },
     "execution_count": 23,
     "metadata": {},
     "output_type": "execute_result"
    }
   ],
   "source": [
    "train_dates = df[((df.index >= train_start) & (df.index <= train_end))].values\n",
    "dev_dates = df[((df.index >= dev_start) & (df.index <= dev_end))].values\n",
    "test_dates = df[((df.index >= test_start) & (df.index <= test_end))].values\n",
    "train_dates.shape, dev_dates.shape, test_dates.shape"
   ]
  },
  {
   "cell_type": "code",
   "execution_count": 24,
   "metadata": {
    "id": "W5dj9bCzjCII"
   },
   "outputs": [],
   "source": [
    "train_y =  vol_df.fillna(method = 'ffill')[((vol_df.index >= train_start) & (vol_df.index <= train_end))].values\n",
    "dev_y =  vol_df.fillna(method='ffill')[((vol_df.index >= dev_start) & (vol_df.index <= dev_end))].values\n",
    "test_y =  vol_df.fillna(method='ffill')[((vol_df.index >= test_start) & (vol_df.index <= test_end))].values"
   ]
  },
  {
   "cell_type": "code",
   "execution_count": 25,
   "metadata": {
    "id": "jJrSLiT0L9O-"
   },
   "outputs": [],
   "source": [
    "#https://www.section.io/engineering-education/univariate-time-series-using-recurrent-neural-networks/\n",
    "#from sklearn.preprocessing import MinMaxScaler\n",
    "# since it's the price we will scale it\n",
    "scaler = MinMaxScaler()\n",
    "scaler.fit(train_dates)\n",
    "scaler.fit(dev_dates)\n",
    "scaler.fit(test_dates)\n",
    "\n",
    "scaled_train_dates = scaler.transform(train_dates)\n",
    "scaled_dev_dates = scaler.transform(dev_dates)\n",
    "scaled_test_dates = scaler.transform(test_dates)"
   ]
  },
  {
   "cell_type": "code",
   "execution_count": 26,
   "metadata": {
    "colab": {
     "base_uri": "https://localhost:8080/"
    },
    "id": "aVS_5sj8D17f",
    "outputId": "ebe80607-02bc-41a2-c186-03c498b9a005"
   },
   "outputs": [
    {
     "data": {
      "text/plain": [
       "array([[0.61473315, 0.        , 0.        , ..., 0.        , 0.        ,\n",
       "        0.        ],\n",
       "       [0.58620954, 0.        , 0.        , ..., 0.        , 0.        ,\n",
       "        0.        ],\n",
       "       [0.58719415, 0.        , 0.        , ..., 0.        , 0.        ,\n",
       "        0.        ],\n",
       "       ...,\n",
       "       [0.40323473, 0.        , 0.        , ..., 0.        , 0.        ,\n",
       "        0.        ],\n",
       "       [0.36391575, 0.        , 0.        , ..., 0.62767327, 0.        ,\n",
       "        0.        ],\n",
       "       [0.37027985, 0.        , 0.        , ..., 0.        , 0.        ,\n",
       "        0.86613862]])"
      ]
     },
     "execution_count": 26,
     "metadata": {},
     "output_type": "execute_result"
    }
   ],
   "source": [
    "scaled_train_dates"
   ]
  },
  {
   "cell_type": "code",
   "execution_count": 26,
   "metadata": {
    "colab": {
     "base_uri": "https://localhost:8080/"
    },
    "id": "VkzJh8xNDvkB",
    "outputId": "c914ef88-9143-4aab-995a-da27d508177a"
   },
   "outputs": [
    {
     "data": {
      "text/plain": [
       "array([0.10671643, 0.10523057, 0.10528186, ..., 0.09569899, 0.09365078,\n",
       "       0.0939823 ])"
      ]
     },
     "execution_count": 26,
     "metadata": {},
     "output_type": "execute_result"
    }
   ],
   "source": [
    "train_y"
   ]
  },
  {
   "cell_type": "code",
   "execution_count": 27,
   "metadata": {
    "id": "eJKqQ49HQMTl"
   },
   "outputs": [],
   "source": [
    "from keras.preprocessing.sequence import TimeseriesGenerator\n",
    "days_look_back = 2\n",
    "n_input = 24*6*days_look_back\n",
    "n_features = 9\n",
    "train_data_gen = TimeseriesGenerator(scaled_train_dates  , train_y  ,length=n_input, batch_size=64)\n",
    "dev_data_gen = TimeseriesGenerator(scaled_dev_dates, dev_y,length=n_input, batch_size=64)"
   ]
  },
  {
   "cell_type": "code",
   "execution_count": 1,
   "metadata": {},
   "outputs": [],
   "source": [
    "from keras.models import Sequential\n",
    "from keras.layers import LSTM, Dense\n",
    "from tensorflow.keras.callbacks import EarlyStopping\n",
    "from tensorflow.keras.optimizers import Adam"
   ]
  },
  {
   "cell_type": "code",
   "execution_count": null,
   "metadata": {},
   "outputs": [],
   "source": [
    "adam = Adam(lr=0.0001, clipnorm=1.0, clipvalue=0.5)\n",
    "model = Sequential()\n",
    "model.add(LSTM(64,activation='relu',input_shape=(n_input,n_features)))\n"
   ]
  },
  {
   "cell_type": "code",
   "execution_count": null,
   "metadata": {
    "colab": {
     "base_uri": "https://localhost:8080/"
    },
    "id": "swtDbTgoQMWk",
    "outputId": "4d78f041-9843-475e-918c-d94bee2f0cde"
   },
   "outputs": [],
   "source": [
    "from keras.models import Sequential\n",
    "from keras.layers import LSTM, Dense\n",
    "from tensorflow.keras.callbacks import EarlyStopping\n",
    "from tensorflow.keras.optimizers import Adam\n",
    "early_stopping = EarlyStopping(monitor = 'loss', patience=2, min_delta=1e-8)\n",
    "adam = Adam(lr=0.0001, clipnorm=1.0, clipvalue=0.5)\n",
    "model = Sequential()\n",
    "model.add(LSTM(64,activation='relu',input_shape=(n_input,n_features)))\n",
    "model.add(Dropout(0.2))\n",
    "model.add(Dense(1))\n",
    "model.compile(optimizer=adam, loss=tf.keras.losses.MeanSquaredLogarithmicError())\n",
    "\n",
    "num_epochs = 100\n",
    "\n",
    "history = model.fit(train_data_gen, epochs=num_epochs)"
   ]
  },
  {
   "cell_type": "code",
   "execution_count": null,
   "metadata": {
    "colab": {
     "base_uri": "https://localhost:8080/",
     "height": 169
    },
    "id": "JVcGM-PrQMZc",
    "outputId": "66784127-6637-425b-9f61-bd81f82e1169"
   },
   "outputs": [],
   "source": [
    "model.summary()"
   ]
  },
  {
   "cell_type": "code",
   "execution_count": null,
   "metadata": {
    "id": "QUor7h0USFOd"
   },
   "outputs": [],
   "source": [
    "model_save_name = 'lstm64_dense_volaave'\n",
    "model.save('model_{}.h5'.format(model_save_name))"
   ]
  },
  {
   "cell_type": "code",
   "execution_count": null,
   "metadata": {
    "colab": {
     "base_uri": "https://localhost:8080/"
    },
    "id": "7M7lUXUgSv-u",
    "outputId": "9228f4c3-08a9-4c41-ecbd-6b4e6186429c"
   },
   "outputs": [],
   "source": [
    "#import tensorflow as tf\n",
    "#from tensorflow import keras\n",
    "\n",
    "# Check its architecture\n",
    "model.summary()"
   ]
  },
  {
   "cell_type": "code",
   "execution_count": null,
   "metadata": {
    "colab": {
     "base_uri": "https://localhost:8080/"
    },
    "id": "nF1opXscQMcM",
    "outputId": "f5a552e9-1d47-467e-9fd1-380fb143eaf6"
   },
   "outputs": [],
   "source": [
    "model.evaluate_generator(dev_data_gen)\n",
    "trainPredict = model.predict_generator(train_data_gen)\n",
    "devPredict = model.predict_generator(dev_data_gen)\n",
    "testPredict = model.predict_generator(test_data_gen)"
   ]
  },
  {
   "cell_type": "code",
   "execution_count": null,
   "metadata": {
    "colab": {
     "base_uri": "https://localhost:8080/"
    },
    "id": "-CtdwXiAfe-r",
    "outputId": "d76849a5-4ae9-4f9a-e284-d74c692823a0"
   },
   "outputs": [],
   "source": [
    "len(devPredict)"
   ]
  },
  {
   "cell_type": "code",
   "execution_count": null,
   "metadata": {
    "colab": {
     "base_uri": "https://localhost:8080/"
    },
    "id": "4oEbq0yEQMe0",
    "outputId": "8c1ac95d-b6fc-47d7-8d17-20ae5d75c6af"
   },
   "outputs": [],
   "source": [
    "from sklearn.metrics import mean_absolute_percentage_error\n",
    "mean_absolute_percentage_error(devPredict, dev_y[24*6*days_look_back:])"
   ]
  },
  {
   "cell_type": "code",
   "execution_count": null,
   "metadata": {
    "colab": {
     "base_uri": "https://localhost:8080/",
     "height": 169
    },
    "id": "Zz6M65SaTYb_",
    "outputId": "c90a4a86-2e2c-4658-e528-7bcdbd822c9e"
   },
   "outputs": [],
   "source": [
    "mean_absolute_percentage_error(trainPredict, train_y[24*6*days_look_back:])"
   ]
  },
  {
   "cell_type": "code",
   "execution_count": null,
   "metadata": {},
   "outputs": [],
   "source": [
    "plt.plot(dev_y)"
   ]
  },
  {
   "cell_type": "code",
   "execution_count": null,
   "metadata": {
    "colab": {
     "base_uri": "https://localhost:8080/",
     "height": 169
    },
    "id": "J5Qd0irpND2Z",
    "outputId": "4ac32db3-7214-41c3-c70d-67814d5f309f"
   },
   "outputs": [],
   "source": [
    "trainPredict"
   ]
  },
  {
   "cell_type": "code",
   "execution_count": null,
   "metadata": {},
   "outputs": [],
   "source": [
    "plt.plot(devPredict)"
   ]
  },
  {
   "cell_type": "code",
   "execution_count": null,
   "metadata": {
    "id": "0nT4LaEkNG4A"
   },
   "outputs": [],
   "source": [
    "plt.plot(devPredict)\n",
    "plt.plot(dev_y[24*6*days_look_back:])"
   ]
  },
  {
   "cell_type": "code",
   "execution_count": null,
   "metadata": {
    "id": "1rp741DLTYei"
   },
   "outputs": [],
   "source": [
    "plt.figure()\n",
    "plt.plot(trainPredict)\n",
    "#plt.plot(train_y)"
   ]
  },
  {
   "cell_type": "code",
   "execution_count": null,
   "metadata": {
    "colab": {
     "base_uri": "https://localhost:8080/"
    },
    "id": "wnqIoy8feHjI",
    "outputId": "4cde4787-446e-418d-8a10-eb09dfe06f21"
   },
   "outputs": [],
   "source": [
    "train_y[24*6*days_look_back:]"
   ]
  },
  {
   "cell_type": "code",
   "execution_count": null,
   "metadata": {
    "colab": {
     "base_uri": "https://localhost:8080/",
     "height": 283
    },
    "id": "9eMrU0NfwDeD",
    "outputId": "37c5fe1c-ca8f-4c9e-8081-7815e3d76ae4"
   },
   "outputs": [],
   "source": [
    "plt.plot(train_y)"
   ]
  },
  {
   "cell_type": "code",
   "execution_count": null,
   "metadata": {
    "id": "sdtDWPtNwIgh"
   },
   "outputs": [],
   "source": [
    "tmp = vol_df\n",
    "tmp[tmp>0.1]=np.nan"
   ]
  },
  {
   "cell_type": "code",
   "execution_count": null,
   "metadata": {
    "colab": {
     "base_uri": "https://localhost:8080/",
     "height": 283
    },
    "id": "M63WCJq7wULv",
    "outputId": "ba468c18-dad1-4645-ecf9-25f34eca00b9"
   },
   "outputs": [],
   "source": [
    "plt.plot(tmp.fillna(method='ffill'))"
   ]
  },
  {
   "cell_type": "code",
   "execution_count": null,
   "metadata": {
    "colab": {
     "base_uri": "https://localhost:8080/"
    },
    "id": "xvfGgsEEn2ui",
    "outputId": "e471e337-17f9-4233-bca6-6dc45abf7093"
   },
   "outputs": [],
   "source": [
    "trainPredict_baseline = baseline_model.predict_generator(train_y.reshape(-1,1))\n",
    "devPredict_baseline  = baseline_model.predict_generator(dev_y.reshape(-1,1))"
   ]
  },
  {
   "cell_type": "code",
   "execution_count": null,
   "metadata": {
    "colab": {
     "base_uri": "https://localhost:8080/"
    },
    "id": "FBulIgZLvCU9",
    "outputId": "ac4c3769-6f14-423f-f684-fc52e256ede7"
   },
   "outputs": [],
   "source": [
    "days_look_back = 2\n",
    "n_input = 24*6*days_look_back\n",
    "from sklearn.metrics import mean_absolute_percentage_error\n",
    "mean_absolute_percentage_error(trainPredict_baseline, train_y)"
   ]
  },
  {
   "cell_type": "code",
   "execution_count": null,
   "metadata": {
    "id": "6hIwxu0-v5ei"
   },
   "outputs": [],
   "source": [
    "tmp = trainPredict_baseline\n",
    "tmp"
   ]
  }
 ],
 "metadata": {
  "colab": {
   "provenance": []
  },
  "kernelspec": {
   "display_name": "cs230",
   "language": "python",
   "name": "cs230"
  },
  "language_info": {
   "codemirror_mode": {
    "name": "ipython",
    "version": 3
   },
   "file_extension": ".py",
   "mimetype": "text/x-python",
   "name": "python",
   "nbconvert_exporter": "python",
   "pygments_lexer": "ipython3",
   "version": "3.8.13"
  }
 },
 "nbformat": 4,
 "nbformat_minor": 4
}
