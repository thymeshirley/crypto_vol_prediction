{
 "cells": [
  {
   "cell_type": "code",
   "execution_count": 1,
   "metadata": {
    "id": "YbTK03QaYzIn"
   },
   "outputs": [],
   "source": [
    "import pandas as pd\n",
    "from urllib.request import Request, urlopen\n",
    "from tensorflow.keras.models import Sequential\n",
    "from tensorflow.keras.layers import Activation, Dense, Dropout\n",
    "import matplotlib.pyplot as plt\n",
    "import numpy as np\n",
    "import time\n",
    "import sys\n",
    "import re\n",
    "import seaborn as sns\n",
    "import gc\n",
    "from sklearn.model_selection import train_test_split\n",
    "import seaborn as sns\n",
    "import matplotlib.pyplot as plt\n",
    "import math\n",
    "import tensorflow as tf\n",
    "pd.set_option('display.max_rows', None)"
   ]
  },
  {
   "cell_type": "code",
   "execution_count": null,
   "metadata": {
    "colab": {
     "base_uri": "https://localhost:8080/"
    },
    "id": "jTQF6CZ4iQmj",
    "outputId": "2101abc8-36d3-4af1-92d7-4f5b97513d74"
   },
   "outputs": [
    {
     "name": "stdout",
     "output_type": "stream",
     "text": [
      "Mounted at /content/gdrive\n"
     ]
    }
   ],
   "source": [
    "#from google.colab import drive \n",
    "#drive.mount('/content/gdrive')"
   ]
  },
  {
   "cell_type": "code",
   "execution_count": 3,
   "metadata": {
    "colab": {
     "base_uri": "https://localhost:8080/",
     "height": 333
    },
    "id": "GdS3qnSgiRFS",
    "outputId": "a9d60565-08b1-4528-eb3c-c3d9aa5ff960"
   },
   "outputs": [
    {
     "data": {
      "text/html": [
       "<div>\n",
       "<style scoped>\n",
       "    .dataframe tbody tr th:only-of-type {\n",
       "        vertical-align: middle;\n",
       "    }\n",
       "\n",
       "    .dataframe tbody tr th {\n",
       "        vertical-align: top;\n",
       "    }\n",
       "\n",
       "    .dataframe thead th {\n",
       "        text-align: right;\n",
       "    }\n",
       "</style>\n",
       "<table border=\"1\" class=\"dataframe\">\n",
       "  <thead>\n",
       "    <tr style=\"text-align: right;\">\n",
       "      <th></th>\n",
       "      <th>timestamp</th>\n",
       "      <th>volatility</th>\n",
       "    </tr>\n",
       "  </thead>\n",
       "  <tbody>\n",
       "    <tr>\n",
       "      <th>0</th>\n",
       "      <td>2020-05-26 21:00:00+00:00</td>\n",
       "      <td>0.0</td>\n",
       "    </tr>\n",
       "    <tr>\n",
       "      <th>1</th>\n",
       "      <td>2020-05-26 21:10:00+00:00</td>\n",
       "      <td>0.0</td>\n",
       "    </tr>\n",
       "    <tr>\n",
       "      <th>2</th>\n",
       "      <td>2020-05-26 21:20:00+00:00</td>\n",
       "      <td>0.0</td>\n",
       "    </tr>\n",
       "  </tbody>\n",
       "</table>\n",
       "</div>"
      ],
      "text/plain": [
       "                  timestamp  volatility\n",
       "0 2020-05-26 21:00:00+00:00         0.0\n",
       "1 2020-05-26 21:10:00+00:00         0.0\n",
       "2 2020-05-26 21:20:00+00:00         0.0"
      ]
     },
     "metadata": {},
     "output_type": "display_data"
    },
    {
     "data": {
      "text/html": [
       "<div>\n",
       "<style scoped>\n",
       "    .dataframe tbody tr th:only-of-type {\n",
       "        vertical-align: middle;\n",
       "    }\n",
       "\n",
       "    .dataframe tbody tr th {\n",
       "        vertical-align: top;\n",
       "    }\n",
       "\n",
       "    .dataframe thead th {\n",
       "        text-align: right;\n",
       "    }\n",
       "</style>\n",
       "<table border=\"1\" class=\"dataframe\">\n",
       "  <thead>\n",
       "    <tr style=\"text-align: right;\">\n",
       "      <th></th>\n",
       "      <th>timestamp</th>\n",
       "      <th>volatility</th>\n",
       "    </tr>\n",
       "  </thead>\n",
       "  <tbody>\n",
       "    <tr>\n",
       "      <th>127685</th>\n",
       "      <td>2022-10-30 13:50:00+00:00</td>\n",
       "      <td>0.007068</td>\n",
       "    </tr>\n",
       "    <tr>\n",
       "      <th>127686</th>\n",
       "      <td>2022-10-30 14:00:00+00:00</td>\n",
       "      <td>0.007478</td>\n",
       "    </tr>\n",
       "    <tr>\n",
       "      <th>127687</th>\n",
       "      <td>2022-10-30 14:10:00+00:00</td>\n",
       "      <td>0.006892</td>\n",
       "    </tr>\n",
       "    <tr>\n",
       "      <th>127688</th>\n",
       "      <td>2022-10-30 14:20:00+00:00</td>\n",
       "      <td>0.008923</td>\n",
       "    </tr>\n",
       "    <tr>\n",
       "      <th>127689</th>\n",
       "      <td>2022-10-30 14:30:00+00:00</td>\n",
       "      <td>0.006163</td>\n",
       "    </tr>\n",
       "  </tbody>\n",
       "</table>\n",
       "</div>"
      ],
      "text/plain": [
       "                       timestamp  volatility\n",
       "127685 2022-10-30 13:50:00+00:00    0.007068\n",
       "127686 2022-10-30 14:00:00+00:00    0.007478\n",
       "127687 2022-10-30 14:10:00+00:00    0.006892\n",
       "127688 2022-10-30 14:20:00+00:00    0.008923\n",
       "127689 2022-10-30 14:30:00+00:00    0.006163"
      ]
     },
     "execution_count": 3,
     "metadata": {},
     "output_type": "execute_result"
    }
   ],
   "source": [
    "df=pd.read_csv('../processed_data/vol_10mins_furtherpreprocess.csv').fillna(0)\n",
    "df['tx_timestamp'] = pd.to_datetime(df['tx_timestamp'],unit='ns')\n",
    "df = df.rename(columns = {\"tx_timestamp\":\"timestamp\",\"0\":\"volatility\"})\n",
    "display(df.head(3))\n",
    "df.tail()"
   ]
  },
  {
   "cell_type": "code",
   "execution_count": 4,
   "metadata": {
    "colab": {
     "base_uri": "https://localhost:8080/"
    },
    "id": "V-idzOTbiuc0",
    "outputId": "9ce8823b-7a93-4d17-93e7-c3f9f9611051"
   },
   "outputs": [
    {
     "name": "stdout",
     "output_type": "stream",
     "text": [
      "<class 'pandas.core.frame.DataFrame'>\n",
      "RangeIndex: 127690 entries, 0 to 127689\n",
      "Data columns (total 2 columns):\n",
      " #   Column      Non-Null Count   Dtype              \n",
      "---  ------      --------------   -----              \n",
      " 0   timestamp   127690 non-null  datetime64[ns, UTC]\n",
      " 1   volatility  127690 non-null  float64            \n",
      "dtypes: datetime64[ns, UTC](1), float64(1)\n",
      "memory usage: 1.9 MB\n"
     ]
    }
   ],
   "source": [
    "df.info()"
   ]
  },
  {
   "cell_type": "code",
   "execution_count": 5,
   "metadata": {
    "colab": {
     "base_uri": "https://localhost:8080/",
     "height": 283
    },
    "id": "In1ByKUuY7H-",
    "outputId": "e707cba4-feed-4b84-f6b4-058a5e830ce5"
   },
   "outputs": [
    {
     "data": {
      "text/plain": [
       "[<matplotlib.lines.Line2D at 0x7f1ad2e72640>]"
      ]
     },
     "execution_count": 5,
     "metadata": {},
     "output_type": "execute_result"
    },
    {
     "data": {
      "image/png": "[encoded data removed]",
      "text/plain": [
       "<Figure size 640x480 with 1 Axes>"
      ]
     },
     "metadata": {},
     "output_type": "display_data"
    }
   ],
   "source": [
    "plt.plot(df['timestamp'],df['volatility'])"
   ]
  },
  {
   "cell_type": "code",
   "execution_count": 6,
   "metadata": {
    "colab": {
     "base_uri": "https://localhost:8080/"
    },
    "id": "A1jxeNkoY8tE",
    "outputId": "c32da0a1-0e3d-46e8-e46c-47f9532d5acd"
   },
   "outputs": [
    {
     "data": {
      "text/plain": [
       "(127690, 2)"
      ]
     },
     "execution_count": 6,
     "metadata": {},
     "output_type": "execute_result"
    }
   ],
   "source": [
    "df.shape"
   ]
  },
  {
   "cell_type": "code",
   "execution_count": 17,
   "metadata": {
    "id": "xrX2LeJiZKg_"
   },
   "outputs": [],
   "source": [
    "train_start = '2020-05-26'\n",
    "train_end = '2022-07-31'\n",
    "dev_start = '2022-08-01'\n",
    "dev_end = '2022-09-30'\n",
    "test_start = '2022-10-01'\n",
    "test_end = '2022-10-31'"
   ]
  },
  {
   "cell_type": "code",
   "execution_count": 18,
   "metadata": {
    "colab": {
     "base_uri": "https://localhost:8080/"
    },
    "id": "uXmV4EZSPAyt",
    "outputId": "9f98bd5f-f8e4-4302-d830-0950b0d35349"
   },
   "outputs": [
    {
     "data": {
      "text/plain": [
       "((114499, 1), (8641, 1), (4264, 1))"
      ]
     },
     "execution_count": 18,
     "metadata": {},
     "output_type": "execute_result"
    }
   ],
   "source": [
    "train_dates = df[((df['timestamp'] >= train_start) & (df['timestamp'] <= train_end))]['volatility'].values.reshape((-1,1))\n",
    "dev_dates = df[((df['timestamp'] >= dev_start) & (df['timestamp'] <= dev_end))]['volatility'].values.reshape((-1,1))\n",
    "test_dates = df[((df['timestamp'] >= test_start) & (df['timestamp'] <= test_end))]['volatility'].values.reshape((-1,1))\n",
    "train_dates.shape, dev_dates.shape, test_dates.shape"
   ]
  },
  {
   "cell_type": "markdown",
   "metadata": {},
   "source": [
    "### Modelling"
   ]
  },
  {
   "cell_type": "code",
   "execution_count": null,
   "metadata": {
    "id": "jJrSLiT0L9O-"
   },
   "outputs": [],
   "source": [
    "#https://www.section.io/engineering-education/univariate-time-series-using-recurrent-neural-networks/\n",
    "#from sklearn.preprocessing import MinMaxScaler\n",
    "#scaler = MinMaxScaler()\n",
    "#scaler.fit(train_dates)\n",
    "#scaler.fit(dev_dates)\n",
    "#scaler.fit(test_dates)\n",
    "\n",
    "#scaled_train_dates = scaler.transform(train_dates)\n",
    "#scaled_dev_dates = scaler.transform(dev_dates)\n",
    "#scaled_test_dates = scaler.transform(test_dates)"
   ]
  },
  {
   "cell_type": "code",
   "execution_count": null,
   "metadata": {
    "colab": {
     "base_uri": "https://localhost:8080/"
    },
    "id": "UcOTxVzdL9ZH",
    "outputId": "8c92ab5a-8919-4405-f6c2-69370cd6fd7b"
   },
   "outputs": [
    {
     "data": {
      "text/plain": [
       "array([[0.01149256],\n",
       "       [0.01141485],\n",
       "       [0.01109328],\n",
       "       [0.01150348],\n",
       "       [0.01130069],\n",
       "       [0.01180412],\n",
       "       [0.01303157],\n",
       "       [0.01088524],\n",
       "       [0.0113229 ],\n",
       "       [0.01136393]])"
      ]
     },
     "execution_count": 10,
     "metadata": {},
     "output_type": "execute_result"
    }
   ],
   "source": [
    "#scaled_test_dates[:10]"
   ]
  },
  {
   "cell_type": "code",
   "execution_count": null,
   "metadata": {
    "id": "eJKqQ49HQMTl"
   },
   "outputs": [],
   "source": [
    "#from keras.preprocessing.sequence import TimeseriesGenerator\n",
    "#days_look_back = 2\n",
    "#n_input = 24*6*days_look_back\n",
    "#n_features = 1\n",
    "#train_data_gen = TimeseriesGenerator(train_dates, train_dates,length=n_input, batch_size=1)\n",
    "#dev_data_gen = TimeseriesGenerator(dev_dates, dev_dates,length=n_input, batch_size=1)"
   ]
  },
  {
   "cell_type": "code",
   "execution_count": 19,
   "metadata": {
    "id": "ABG9XN5AbXOr"
   },
   "outputs": [],
   "source": [
    "from numpy import array\n",
    "from keras.models import Sequential\n",
    "from keras.layers import Dense\n",
    " \n",
    "# split a univariate sequence into samples\n",
    "def split_sequence(sequence, n_steps):\n",
    "\tX, y = list(), list()\n",
    "\tfor i in range(len(sequence)):\n",
    "\t\t# find the end of this pattern\n",
    "\t\tend_ix = i + n_steps\n",
    "\t\t# check if we are beyond the sequence\n",
    "\t\tif end_ix > len(sequence)-1:\n",
    "\t\t\tbreak\n",
    "\t\t# gather input and output parts of the pattern\n",
    "\t\tseq_x, seq_y = sequence[i:end_ix], sequence[end_ix]\n",
    "\t\tX.append(seq_x)\n",
    "\t\ty.append(seq_y)\n",
    "\treturn array(X), array(y)\n",
    " \n",
    "# define input sequence\n",
    "raw_seq = train_dates\n",
    "# choose a number of time steps\n",
    "days_look_back = 2\n",
    "n_steps = 24*6*days_look_back\n",
    "# split into samples\n",
    "X, y = split_sequence(raw_seq, n_steps)\n",
    "\n",
    "n_features = 1"
   ]
  },
  {
   "cell_type": "code",
   "execution_count": 20,
   "metadata": {
    "colab": {
     "base_uri": "https://localhost:8080/"
    },
    "id": "swtDbTgoQMWk",
    "outputId": "16b9969f-abb1-4072-eabf-b238e4d065a1"
   },
   "outputs": [
    {
     "name": "stdout",
     "output_type": "stream",
     "text": [
      "WARNING:tensorflow:Layer lstm_2 will not use cuDNN kernels since it doesn't meet the criteria. It will use a generic GPU kernel as fallback when running on GPU.\n",
      "Epoch 1/25\n",
      "3570/3570 [==============================] - 1185s 332ms/step - loss: 15567.1465\n",
      "Epoch 2/25\n",
      "3570/3570 [==============================] - 1183s 332ms/step - loss: 14988.4912\n",
      "Epoch 3/25\n",
      "3570/3570 [==============================] - 1187s 332ms/step - loss: 14283.9092\n",
      "Epoch 4/25\n",
      "3570/3570 [==============================] - 1187s 333ms/step - loss: 13688.0000\n",
      "Epoch 5/25\n",
      "3570/3570 [==============================] - 1189s 333ms/step - loss: 15346.6416\n",
      "Epoch 6/25\n",
      "3570/3570 [==============================] - 1189s 333ms/step - loss: 13633.9980\n",
      "Epoch 7/25\n",
      "3570/3570 [==============================] - 1190s 333ms/step - loss: 13017.9268\n",
      "Epoch 8/25\n",
      "3570/3570 [==============================] - 1189s 333ms/step - loss: 14512.3721\n",
      "Epoch 9/25\n",
      "3570/3570 [==============================] - 1188s 333ms/step - loss: 15381.8779\n",
      "Epoch 10/25\n",
      "3570/3570 [==============================] - 1191s 334ms/step - loss: 14584.2764\n",
      "Epoch 11/25\n",
      "3570/3570 [==============================] - 1191s 334ms/step - loss: 13758.2129\n",
      "Epoch 12/25\n",
      "3570/3570 [==============================] - 1193s 334ms/step - loss: 14269.6270\n",
      "Epoch 13/25\n",
      "3570/3570 [==============================] - 1193s 334ms/step - loss: 16028.4629\n",
      "Epoch 14/25\n",
      "3570/3570 [==============================] - 1195s 335ms/step - loss: 14046.9287\n",
      "Epoch 15/25\n",
      "3570/3570 [==============================] - 1195s 335ms/step - loss: 14325.3770\n",
      "Epoch 16/25\n",
      "3570/3570 [==============================] - 1196s 335ms/step - loss: 12601.5264\n",
      "Epoch 17/25\n",
      "3570/3570 [==============================] - 1194s 334ms/step - loss: 12638.8662\n",
      "Epoch 18/25\n",
      "3570/3570 [==============================] - 1195s 335ms/step - loss: 15857.2959\n",
      "Epoch 19/25\n",
      "3570/3570 [==============================] - 1194s 334ms/step - loss: 13469.8438\n",
      "Epoch 20/25\n",
      "3570/3570 [==============================] - 1194s 334ms/step - loss: 14900.2197\n",
      "Epoch 21/25\n",
      "3570/3570 [==============================] - 1193s 334ms/step - loss: 12659.2334\n",
      "Epoch 22/25\n",
      "3570/3570 [==============================] - 1195s 335ms/step - loss: 15142.3174\n",
      "Epoch 23/25\n",
      "3570/3570 [==============================] - 1194s 335ms/step - loss: 14795.1816\n",
      "Epoch 24/25\n",
      "3570/3570 [==============================] - 1194s 334ms/step - loss: 14004.5117\n",
      "Epoch 25/25\n",
      "3570/3570 [==============================] - 1192s 334ms/step - loss: 15022.5049\n"
     ]
    }
   ],
   "source": [
    "from keras.models import Sequential\n",
    "from keras.layers import LSTM, Dense\n",
    "from tensorflow.keras.callbacks import EarlyStopping\n",
    "\n",
    "#early_stopping = EarlyStopping(monitor = 'loss', patience=2, min_delta=1e-4)\n",
    "\n",
    "model = Sequential()\n",
    "model.add(LSTM(64,activation='relu',input_shape=(n_steps,n_features)))\n",
    "model.add(Dropout(0.2))\n",
    "model.add(Dense(1))\n",
    "model.compile(optimizer='adam', loss=tf.keras.losses.MeanAbsolutePercentageError())\n",
    "\n",
    "num_epochs = 25\n",
    "\n",
    "X = X.reshape((X.shape[0], X.shape[1], n_features))\n",
    "history = model.fit(X, y, epochs=num_epochs)"
   ]
  },
  {
   "cell_type": "code",
   "execution_count": 21,
   "metadata": {
    "colab": {
     "base_uri": "https://localhost:8080/"
    },
    "id": "JVcGM-PrQMZc",
    "outputId": "a2ef9414-d335-4d60-cc26-236cf968368d"
   },
   "outputs": [
    {
     "name": "stdout",
     "output_type": "stream",
     "text": [
      "Model: \"sequential_2\"\n",
      "_________________________________________________________________\n",
      " Layer (type)                Output Shape              Param #   \n",
      "=================================================================\n",
      " lstm_2 (LSTM)               (None, 64)                16896     \n",
      "                                                                 \n",
      " dropout_2 (Dropout)         (None, 64)                0         \n",
      "                                                                 \n",
      " dense_2 (Dense)             (None, 1)                 65        \n",
      "                                                                 \n",
      "=================================================================\n",
      "Total params: 16,961\n",
      "Trainable params: 16,961\n",
      "Non-trainable params: 0\n",
      "_________________________________________________________________\n"
     ]
    }
   ],
   "source": [
    "model.summary()"
   ]
  },
  {
   "cell_type": "code",
   "execution_count": 22,
   "metadata": {
    "id": "QUor7h0USFOd"
   },
   "outputs": [],
   "source": [
    "model_save_name = 'lstm64_dense_ep25_baseline_mape'\n",
    "model.save('model_{}.h5'.format(model_save_name))"
   ]
  },
  {
   "cell_type": "code",
   "execution_count": null,
   "metadata": {
    "colab": {
     "base_uri": "https://localhost:8080/"
    },
    "id": "7M7lUXUgSv-u",
    "outputId": "ac8c2ba1-12f3-4498-a228-124b177cc9b9"
   },
   "outputs": [
    {
     "name": "stdout",
     "output_type": "stream",
     "text": [
      "Model: \"sequential_1\"\n",
      "_________________________________________________________________\n",
      " Layer (type)                Output Shape              Param #   \n",
      "=================================================================\n",
      " lstm_1 (LSTM)               (None, 64)                16896     \n",
      "                                                                 \n",
      " dense_1 (Dense)             (None, 1)                 65        \n",
      "                                                                 \n",
      "=================================================================\n",
      "Total params: 16,961\n",
      "Trainable params: 16,961\n",
      "Non-trainable params: 0\n",
      "_________________________________________________________________\n"
     ]
    }
   ],
   "source": [
    "#import tensorflow as tf\n",
    "#from tensorflow import keras\n",
    "#new_model = tf.keras.models.load_model('/content/gdrive/My Drive/cs230models/model_{}.h5'.format(model_save_name))\n",
    "\n",
    "# Check its architecture\n",
    "#new_model.summary()"
   ]
  },
  {
   "cell_type": "code",
   "execution_count": null,
   "metadata": {
    "id": "nF1opXscQMcM"
   },
   "outputs": [],
   "source": [
    "#model.evaluate_generator(dev_data_gen)\n",
    "#trainPredict = model.predict_generator(train_data_gen)\n",
    "#devPredict = model.predict_generator(dev_data_gen)"
   ]
  },
  {
   "cell_type": "code",
   "execution_count": 23,
   "metadata": {
    "colab": {
     "base_uri": "https://localhost:8080/"
    },
    "id": "DxmE8zWWdGqa",
    "outputId": "5839b222-739d-4474-f8d9-0bcdf0870b25"
   },
   "outputs": [
    {
     "name": "stdout",
     "output_type": "stream",
     "text": [
      "(8353, 1) (114211, 1)\n",
      "36.764655342213\n",
      "43.58805823438085\n"
     ]
    }
   ],
   "source": [
    "X_dev, y_dev = split_sequence(dev_dates, n_steps)\n",
    "X_dev = X_dev.reshape((X_dev.shape[0], n_steps, n_features))\n",
    "y_dev_pred = model.predict(X_dev)\n",
    "y_train_pred = model.predict(X.reshape((X.shape[0], n_steps, n_features)))\n",
    "print(y_dev_pred.shape, y_train_pred.shape)\n",
    "from sklearn.metrics import mean_absolute_percentage_error\n",
    "print(mean_absolute_percentage_error(y_dev_pred, dev_dates[24*6*days_look_back:]))\n",
    "print(mean_absolute_percentage_error(y_train_pred, train_dates[24*6*days_look_back:]))"
   ]
  },
  {
   "cell_type": "code",
   "execution_count": null,
   "metadata": {},
   "outputs": [],
   "source": []
  },
  {
   "cell_type": "code",
   "execution_count": 25,
   "metadata": {},
   "outputs": [],
   "source": [
    "##train stacked LSTM overnight"
   ]
  },
  {
   "cell_type": "code",
   "execution_count": 26,
   "metadata": {
    "id": "ABG9XN5AbXOr"
   },
   "outputs": [],
   "source": [
    "# define input sequence\n",
    "raw_seq = train_dates\n",
    "# choose a number of time steps\n",
    "days_look_back = 7\n",
    "n_steps = 24*6*days_look_back\n",
    "# split into samples\n",
    "X, y = split_sequence(raw_seq, n_steps)\n",
    "\n",
    "n_features = 1"
   ]
  },
  {
   "cell_type": "code",
   "execution_count": null,
   "metadata": {
    "colab": {
     "base_uri": "https://localhost:8080/"
    },
    "id": "swtDbTgoQMWk",
    "outputId": "16b9969f-abb1-4072-eabf-b238e4d065a1"
   },
   "outputs": [
    {
     "name": "stdout",
     "output_type": "stream",
     "text": [
      "WARNING:tensorflow:Layer lstm_3 will not use cuDNN kernels since it doesn't meet the criteria. It will use a generic GPU kernel as fallback when running on GPU.\n",
      "WARNING:tensorflow:Layer lstm_4 will not use cuDNN kernels since it doesn't meet the criteria. It will use a generic GPU kernel as fallback when running on GPU.\n",
      "Epoch 1/25\n",
      "3547/3547 [==============================] - 8857s 2s/step - loss: 14826.4521\n",
      "Epoch 2/25\n",
      "3547/3547 [==============================] - 8849s 2s/step - loss: 13591.6650\n",
      "Epoch 3/25\n",
      "3547/3547 [==============================] - 8861s 2s/step - loss: 12614.7012\n",
      "Epoch 4/25\n",
      "3547/3547 [==============================] - 8862s 2s/step - loss: 14298.3945\n",
      "Epoch 5/25\n",
      "3547/3547 [==============================] - 8862s 2s/step - loss: 12116.7949\n",
      "Epoch 6/25\n",
      "3547/3547 [==============================] - 8890s 3s/step - loss: 12877.0283\n",
      "Epoch 7/25\n",
      "3547/3547 [==============================] - 8877s 3s/step - loss: 13842.5488\n",
      "Epoch 8/25\n",
      "3547/3547 [==============================] - 8879s 3s/step - loss: 13127.1533\n",
      "Epoch 9/25\n",
      "1464/3547 [===========>..................] - ETA: 1:26:51 - loss: 11806.8799"
     ]
    }
   ],
   "source": [
    "from keras.models import Sequential\n",
    "from keras.layers import LSTM, Dense\n",
    "from tensorflow.keras.callbacks import EarlyStopping\n",
    "\n",
    "#early_stopping = EarlyStopping(monitor = 'loss', patience=2, min_delta=1e-4)\n",
    "\n",
    "model1 = Sequential()\n",
    "model1.add(LSTM(64,activation='relu',return_sequences=True, input_shape=(n_steps,n_features)))\n",
    "model1.add(LSTM(32, activation='relu'))\n",
    "model1.add(Dropout(0.2))\n",
    "model1.add(Dense(1))\n",
    "model1.compile(optimizer='adam', loss=tf.keras.losses.MeanAbsolutePercentageError())\n",
    "\n",
    "num_epochs = 25\n",
    "\n",
    "X = X.reshape((X.shape[0], X.shape[1], n_features))\n",
    "history = model1.fit(X, y, epochs=num_epochs)"
   ]
  },
  {
   "cell_type": "code",
   "execution_count": null,
   "metadata": {
    "colab": {
     "base_uri": "https://localhost:8080/"
    },
    "id": "JVcGM-PrQMZc",
    "outputId": "a2ef9414-d335-4d60-cc26-236cf968368d"
   },
   "outputs": [],
   "source": [
    "model1.summary()"
   ]
  },
  {
   "cell_type": "code",
   "execution_count": null,
   "metadata": {
    "id": "QUor7h0USFOd"
   },
   "outputs": [],
   "source": [
    "model_save_name = 'lstm6432_dense_ep25_back7_mape'\n",
    "model1.save('model_{}.h5'.format(model_save_name))"
   ]
  },
  {
   "cell_type": "code",
   "execution_count": null,
   "metadata": {
    "colab": {
     "base_uri": "https://localhost:8080/"
    },
    "id": "DxmE8zWWdGqa",
    "outputId": "5839b222-739d-4474-f8d9-0bcdf0870b25"
   },
   "outputs": [],
   "source": [
    "X_dev, y_dev = split_sequence(dev_dates, n_steps)\n",
    "X_dev = X_dev.reshape((X_dev.shape[0], n_steps, n_features))\n",
    "y_dev_pred = model1.predict(X_dev)\n",
    "y_train_pred = model1.predict(X.reshape((X.shape[0], n_steps, n_features)))\n",
    "print(y_dev_pred.shape, y_train_pred.shape)\n",
    "from sklearn.metrics import mean_absolute_percentage_error\n",
    "print(mean_absolute_percentage_error(y_dev_pred, dev_dates[24*6*days_look_back:]))\n",
    "print(mean_absolute_percentage_error(y_train_pred, train_dates[24*6*days_look_back:]))"
   ]
  },
  {
   "cell_type": "code",
   "execution_count": null,
   "metadata": {},
   "outputs": [],
   "source": []
  }
 ],
 "metadata": {
  "colab": {
   "collapsed_sections": [],
   "provenance": []
  },
  "kernelspec": {
   "display_name": "Python 3 (ipykernel)",
   "language": "python",
   "name": "python3"
  },
  "language_info": {
   "codemirror_mode": {
    "name": "ipython",
    "version": 3
   },
   "file_extension": ".py",
   "mimetype": "text/x-python",
   "name": "python",
   "nbconvert_exporter": "python",
   "pygments_lexer": "ipython3",
   "version": "3.8.13"
  }
 },
 "nbformat": 4,
 "nbformat_minor": 4
}
