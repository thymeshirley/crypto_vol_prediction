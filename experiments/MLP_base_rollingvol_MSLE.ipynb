{
  "cells": [
    {
      "cell_type": "code",
      "execution_count": null,
      "metadata": {
        "id": "YbTK03QaYzIn"
      },
      "outputs": [],
      "source": [
        "import pandas as pd\n",
        "from urllib.request import Request, urlopen\n",
        "from tensorflow.keras.models import Sequential\n",
        "from tensorflow.keras.layers import Activation, Dense, Dropout\n",
        "import matplotlib.pyplot as plt\n",
        "import numpy as np\n",
        "import time\n",
        "import sys\n",
        "import re\n",
        "import seaborn as sns\n",
        "import gc\n",
        "from sklearn.model_selection import train_test_split\n",
        "import seaborn as sns\n",
        "import matplotlib.pyplot as plt\n",
        "import math\n",
        "import tensorflow as tf\n",
        "pd.set_option('display.max_rows', None)"
      ]
    },
    {
      "cell_type": "code",
      "execution_count": null,
      "metadata": {
        "colab": {
          "base_uri": "https://localhost:8080/"
        },
        "id": "jTQF6CZ4iQmj",
        "outputId": "ce5b1e8a-30bb-4b8f-f27e-86aa737a30a8"
      },
      "outputs": [
        {
          "output_type": "stream",
          "name": "stdout",
          "text": [
            "Drive already mounted at /content/gdrive; to attempt to forcibly remount, call drive.mount(\"/content/gdrive\", force_remount=True).\n"
          ]
        }
      ],
      "source": [
        "from google.colab import drive \n",
        "drive.mount('/content/gdrive')"
      ]
    },
    {
      "cell_type": "code",
      "execution_count": null,
      "metadata": {
        "colab": {
          "base_uri": "https://localhost:8080/",
          "height": 333
        },
        "id": "GdS3qnSgiRFS",
        "outputId": "002553c8-5703-4808-e372-e0ab90ade078"
      },
      "outputs": [
        {
          "output_type": "display_data",
          "data": {
            "text/plain": [
              "   Unnamed: 0                 timestamp       first        last   mean  \\\n",
              "0           0 2020-05-26 21:00:00+00:00  201.177211  201.177211  201.0   \n",
              "1           1 2020-05-26 21:10:00+00:00    0.000000    0.000000    0.0   \n",
              "2           2 2020-05-26 21:20:00+00:00    0.000000    0.000000    0.0   \n",
              "\n",
              "   vol_of_vol         max         min  ret  volatility  \n",
              "0         0.0  201.177211  201.177211  0.0         0.0  \n",
              "1         0.0    0.000000    0.000000  0.0         0.0  \n",
              "2         0.0    0.000000    0.000000  0.0         0.0  "
            ],
            "text/html": [
              "\n",
              "  <div id=\"df-59f01283-c86c-4b61-abc7-1dea9793c3c1\">\n",
              "    <div class=\"colab-df-container\">\n",
              "      <div>\n",
              "<style scoped>\n",
              "    .dataframe tbody tr th:only-of-type {\n",
              "        vertical-align: middle;\n",
              "    }\n",
              "\n",
              "    .dataframe tbody tr th {\n",
              "        vertical-align: top;\n",
              "    }\n",
              "\n",
              "    .dataframe thead th {\n",
              "        text-align: right;\n",
              "    }\n",
              "</style>\n",
              "<table border=\"1\" class=\"dataframe\">\n",
              "  <thead>\n",
              "    <tr style=\"text-align: right;\">\n",
              "      <th></th>\n",
              "      <th>Unnamed: 0</th>\n",
              "      <th>timestamp</th>\n",
              "      <th>first</th>\n",
              "      <th>last</th>\n",
              "      <th>mean</th>\n",
              "      <th>vol_of_vol</th>\n",
              "      <th>max</th>\n",
              "      <th>min</th>\n",
              "      <th>ret</th>\n",
              "      <th>volatility</th>\n",
              "    </tr>\n",
              "  </thead>\n",
              "  <tbody>\n",
              "    <tr>\n",
              "      <th>0</th>\n",
              "      <td>0</td>\n",
              "      <td>2020-05-26 21:00:00+00:00</td>\n",
              "      <td>201.177211</td>\n",
              "      <td>201.177211</td>\n",
              "      <td>201.0</td>\n",
              "      <td>0.0</td>\n",
              "      <td>201.177211</td>\n",
              "      <td>201.177211</td>\n",
              "      <td>0.0</td>\n",
              "      <td>0.0</td>\n",
              "    </tr>\n",
              "    <tr>\n",
              "      <th>1</th>\n",
              "      <td>1</td>\n",
              "      <td>2020-05-26 21:10:00+00:00</td>\n",
              "      <td>0.000000</td>\n",
              "      <td>0.000000</td>\n",
              "      <td>0.0</td>\n",
              "      <td>0.0</td>\n",
              "      <td>0.000000</td>\n",
              "      <td>0.000000</td>\n",
              "      <td>0.0</td>\n",
              "      <td>0.0</td>\n",
              "    </tr>\n",
              "    <tr>\n",
              "      <th>2</th>\n",
              "      <td>2</td>\n",
              "      <td>2020-05-26 21:20:00+00:00</td>\n",
              "      <td>0.000000</td>\n",
              "      <td>0.000000</td>\n",
              "      <td>0.0</td>\n",
              "      <td>0.0</td>\n",
              "      <td>0.000000</td>\n",
              "      <td>0.000000</td>\n",
              "      <td>0.0</td>\n",
              "      <td>0.0</td>\n",
              "    </tr>\n",
              "  </tbody>\n",
              "</table>\n",
              "</div>\n",
              "      <button class=\"colab-df-convert\" onclick=\"convertToInteractive('df-59f01283-c86c-4b61-abc7-1dea9793c3c1')\"\n",
              "              title=\"Convert this dataframe to an interactive table.\"\n",
              "              style=\"display:none;\">\n",
              "        \n",
              "  <svg xmlns=\"http://www.w3.org/2000/svg\" height=\"24px\"viewBox=\"0 0 24 24\"\n",
              "       width=\"24px\">\n",
              "    <path d=\"M0 0h24v24H0V0z\" fill=\"none\"/>\n",
              "    <path d=\"M18.56 5.44l.94 2.06.94-2.06 2.06-.94-2.06-.94-.94-2.06-.94 2.06-2.06.94zm-11 1L8.5 8.5l.94-2.06 2.06-.94-2.06-.94L8.5 2.5l-.94 2.06-2.06.94zm10 10l.94 2.06.94-2.06 2.06-.94-2.06-.94-.94-2.06-.94 2.06-2.06.94z\"/><path d=\"M17.41 7.96l-1.37-1.37c-.4-.4-.92-.59-1.43-.59-.52 0-1.04.2-1.43.59L10.3 9.45l-7.72 7.72c-.78.78-.78 2.05 0 2.83L4 21.41c.39.39.9.59 1.41.59.51 0 1.02-.2 1.41-.59l7.78-7.78 2.81-2.81c.8-.78.8-2.07 0-2.86zM5.41 20L4 18.59l7.72-7.72 1.47 1.35L5.41 20z\"/>\n",
              "  </svg>\n",
              "      </button>\n",
              "      \n",
              "  <style>\n",
              "    .colab-df-container {\n",
              "      display:flex;\n",
              "      flex-wrap:wrap;\n",
              "      gap: 12px;\n",
              "    }\n",
              "\n",
              "    .colab-df-convert {\n",
              "      background-color: #E8F0FE;\n",
              "      border: none;\n",
              "      border-radius: 50%;\n",
              "      cursor: pointer;\n",
              "      display: none;\n",
              "      fill: #1967D2;\n",
              "      height: 32px;\n",
              "      padding: 0 0 0 0;\n",
              "      width: 32px;\n",
              "    }\n",
              "\n",
              "    .colab-df-convert:hover {\n",
              "      background-color: #E2EBFA;\n",
              "      box-shadow: 0px 1px 2px rgba(60, 64, 67, 0.3), 0px 1px 3px 1px rgba(60, 64, 67, 0.15);\n",
              "      fill: #174EA6;\n",
              "    }\n",
              "\n",
              "    [theme=dark] .colab-df-convert {\n",
              "      background-color: #3B4455;\n",
              "      fill: #D2E3FC;\n",
              "    }\n",
              "\n",
              "    [theme=dark] .colab-df-convert:hover {\n",
              "      background-color: #434B5C;\n",
              "      box-shadow: 0px 1px 3px 1px rgba(0, 0, 0, 0.15);\n",
              "      filter: drop-shadow(0px 1px 2px rgba(0, 0, 0, 0.3));\n",
              "      fill: #FFFFFF;\n",
              "    }\n",
              "  </style>\n",
              "\n",
              "      <script>\n",
              "        const buttonEl =\n",
              "          document.querySelector('#df-59f01283-c86c-4b61-abc7-1dea9793c3c1 button.colab-df-convert');\n",
              "        buttonEl.style.display =\n",
              "          google.colab.kernel.accessAllowed ? 'block' : 'none';\n",
              "\n",
              "        async function convertToInteractive(key) {\n",
              "          const element = document.querySelector('#df-59f01283-c86c-4b61-abc7-1dea9793c3c1');\n",
              "          const dataTable =\n",
              "            await google.colab.kernel.invokeFunction('convertToInteractive',\n",
              "                                                     [key], {});\n",
              "          if (!dataTable) return;\n",
              "\n",
              "          const docLinkHtml = 'Like what you see? Visit the ' +\n",
              "            '<a target=\"_blank\" href=https://colab.research.google.com/notebooks/data_table.ipynb>data table notebook</a>'\n",
              "            + ' to learn more about interactive tables.';\n",
              "          element.innerHTML = '';\n",
              "          dataTable['output_type'] = 'display_data';\n",
              "          await google.colab.output.renderOutput(dataTable, element);\n",
              "          const docLink = document.createElement('div');\n",
              "          docLink.innerHTML = docLinkHtml;\n",
              "          element.appendChild(docLink);\n",
              "        }\n",
              "      </script>\n",
              "    </div>\n",
              "  </div>\n",
              "  "
            ]
          },
          "metadata": {}
        },
        {
          "output_type": "execute_result",
          "data": {
            "text/plain": [
              "        Unnamed: 0                 timestamp        first         last  \\\n",
              "127685      127685 2022-10-30 13:50:00+00:00  1593.069968  1591.725668   \n",
              "127686      127686 2022-10-30 14:00:00+00:00  1591.752575  1579.893707   \n",
              "127687      127687 2022-10-30 14:10:00+00:00  1579.795094  1581.087842   \n",
              "127688      127688 2022-10-30 14:20:00+00:00  1581.079224  1595.250643   \n",
              "127689      127689 2022-10-30 14:30:00+00:00  1585.692455  1595.494499   \n",
              "\n",
              "               mean  vol_of_vol          max          min       ret  \\\n",
              "127685  1590.000000    4.031129  1593.592900  1582.369607 -0.000844   \n",
              "127686  1585.600000    4.860149  1591.752575  1579.893707 -0.007450   \n",
              "127687  1586.562500    4.746490  1590.615992  1579.691428  0.000818   \n",
              "127688  1590.357143    4.620520  1595.250643  1581.079224  0.008963   \n",
              "127689  1591.666667    4.923660  1595.494499  1585.692455  0.006182   \n",
              "\n",
              "        volatility  \n",
              "127685    0.004805  \n",
              "127686    0.004798  \n",
              "127687    0.004794  \n",
              "127688    0.004857  \n",
              "127689    0.004841  "
            ],
            "text/html": [
              "\n",
              "  <div id=\"df-72683293-2f5d-4905-9c1a-3e80c84810ac\">\n",
              "    <div class=\"colab-df-container\">\n",
              "      <div>\n",
              "<style scoped>\n",
              "    .dataframe tbody tr th:only-of-type {\n",
              "        vertical-align: middle;\n",
              "    }\n",
              "\n",
              "    .dataframe tbody tr th {\n",
              "        vertical-align: top;\n",
              "    }\n",
              "\n",
              "    .dataframe thead th {\n",
              "        text-align: right;\n",
              "    }\n",
              "</style>\n",
              "<table border=\"1\" class=\"dataframe\">\n",
              "  <thead>\n",
              "    <tr style=\"text-align: right;\">\n",
              "      <th></th>\n",
              "      <th>Unnamed: 0</th>\n",
              "      <th>timestamp</th>\n",
              "      <th>first</th>\n",
              "      <th>last</th>\n",
              "      <th>mean</th>\n",
              "      <th>vol_of_vol</th>\n",
              "      <th>max</th>\n",
              "      <th>min</th>\n",
              "      <th>ret</th>\n",
              "      <th>volatility</th>\n",
              "    </tr>\n",
              "  </thead>\n",
              "  <tbody>\n",
              "    <tr>\n",
              "      <th>127685</th>\n",
              "      <td>127685</td>\n",
              "      <td>2022-10-30 13:50:00+00:00</td>\n",
              "      <td>1593.069968</td>\n",
              "      <td>1591.725668</td>\n",
              "      <td>1590.000000</td>\n",
              "      <td>4.031129</td>\n",
              "      <td>1593.592900</td>\n",
              "      <td>1582.369607</td>\n",
              "      <td>-0.000844</td>\n",
              "      <td>0.004805</td>\n",
              "    </tr>\n",
              "    <tr>\n",
              "      <th>127686</th>\n",
              "      <td>127686</td>\n",
              "      <td>2022-10-30 14:00:00+00:00</td>\n",
              "      <td>1591.752575</td>\n",
              "      <td>1579.893707</td>\n",
              "      <td>1585.600000</td>\n",
              "      <td>4.860149</td>\n",
              "      <td>1591.752575</td>\n",
              "      <td>1579.893707</td>\n",
              "      <td>-0.007450</td>\n",
              "      <td>0.004798</td>\n",
              "    </tr>\n",
              "    <tr>\n",
              "      <th>127687</th>\n",
              "      <td>127687</td>\n",
              "      <td>2022-10-30 14:10:00+00:00</td>\n",
              "      <td>1579.795094</td>\n",
              "      <td>1581.087842</td>\n",
              "      <td>1586.562500</td>\n",
              "      <td>4.746490</td>\n",
              "      <td>1590.615992</td>\n",
              "      <td>1579.691428</td>\n",
              "      <td>0.000818</td>\n",
              "      <td>0.004794</td>\n",
              "    </tr>\n",
              "    <tr>\n",
              "      <th>127688</th>\n",
              "      <td>127688</td>\n",
              "      <td>2022-10-30 14:20:00+00:00</td>\n",
              "      <td>1581.079224</td>\n",
              "      <td>1595.250643</td>\n",
              "      <td>1590.357143</td>\n",
              "      <td>4.620520</td>\n",
              "      <td>1595.250643</td>\n",
              "      <td>1581.079224</td>\n",
              "      <td>0.008963</td>\n",
              "      <td>0.004857</td>\n",
              "    </tr>\n",
              "    <tr>\n",
              "      <th>127689</th>\n",
              "      <td>127689</td>\n",
              "      <td>2022-10-30 14:30:00+00:00</td>\n",
              "      <td>1585.692455</td>\n",
              "      <td>1595.494499</td>\n",
              "      <td>1591.666667</td>\n",
              "      <td>4.923660</td>\n",
              "      <td>1595.494499</td>\n",
              "      <td>1585.692455</td>\n",
              "      <td>0.006182</td>\n",
              "      <td>0.004841</td>\n",
              "    </tr>\n",
              "  </tbody>\n",
              "</table>\n",
              "</div>\n",
              "      <button class=\"colab-df-convert\" onclick=\"convertToInteractive('df-72683293-2f5d-4905-9c1a-3e80c84810ac')\"\n",
              "              title=\"Convert this dataframe to an interactive table.\"\n",
              "              style=\"display:none;\">\n",
              "        \n",
              "  <svg xmlns=\"http://www.w3.org/2000/svg\" height=\"24px\"viewBox=\"0 0 24 24\"\n",
              "       width=\"24px\">\n",
              "    <path d=\"M0 0h24v24H0V0z\" fill=\"none\"/>\n",
              "    <path d=\"M18.56 5.44l.94 2.06.94-2.06 2.06-.94-2.06-.94-.94-2.06-.94 2.06-2.06.94zm-11 1L8.5 8.5l.94-2.06 2.06-.94-2.06-.94L8.5 2.5l-.94 2.06-2.06.94zm10 10l.94 2.06.94-2.06 2.06-.94-2.06-.94-.94-2.06-.94 2.06-2.06.94z\"/><path d=\"M17.41 7.96l-1.37-1.37c-.4-.4-.92-.59-1.43-.59-.52 0-1.04.2-1.43.59L10.3 9.45l-7.72 7.72c-.78.78-.78 2.05 0 2.83L4 21.41c.39.39.9.59 1.41.59.51 0 1.02-.2 1.41-.59l7.78-7.78 2.81-2.81c.8-.78.8-2.07 0-2.86zM5.41 20L4 18.59l7.72-7.72 1.47 1.35L5.41 20z\"/>\n",
              "  </svg>\n",
              "      </button>\n",
              "      \n",
              "  <style>\n",
              "    .colab-df-container {\n",
              "      display:flex;\n",
              "      flex-wrap:wrap;\n",
              "      gap: 12px;\n",
              "    }\n",
              "\n",
              "    .colab-df-convert {\n",
              "      background-color: #E8F0FE;\n",
              "      border: none;\n",
              "      border-radius: 50%;\n",
              "      cursor: pointer;\n",
              "      display: none;\n",
              "      fill: #1967D2;\n",
              "      height: 32px;\n",
              "      padding: 0 0 0 0;\n",
              "      width: 32px;\n",
              "    }\n",
              "\n",
              "    .colab-df-convert:hover {\n",
              "      background-color: #E2EBFA;\n",
              "      box-shadow: 0px 1px 2px rgba(60, 64, 67, 0.3), 0px 1px 3px 1px rgba(60, 64, 67, 0.15);\n",
              "      fill: #174EA6;\n",
              "    }\n",
              "\n",
              "    [theme=dark] .colab-df-convert {\n",
              "      background-color: #3B4455;\n",
              "      fill: #D2E3FC;\n",
              "    }\n",
              "\n",
              "    [theme=dark] .colab-df-convert:hover {\n",
              "      background-color: #434B5C;\n",
              "      box-shadow: 0px 1px 3px 1px rgba(0, 0, 0, 0.15);\n",
              "      filter: drop-shadow(0px 1px 2px rgba(0, 0, 0, 0.3));\n",
              "      fill: #FFFFFF;\n",
              "    }\n",
              "  </style>\n",
              "\n",
              "      <script>\n",
              "        const buttonEl =\n",
              "          document.querySelector('#df-72683293-2f5d-4905-9c1a-3e80c84810ac button.colab-df-convert');\n",
              "        buttonEl.style.display =\n",
              "          google.colab.kernel.accessAllowed ? 'block' : 'none';\n",
              "\n",
              "        async function convertToInteractive(key) {\n",
              "          const element = document.querySelector('#df-72683293-2f5d-4905-9c1a-3e80c84810ac');\n",
              "          const dataTable =\n",
              "            await google.colab.kernel.invokeFunction('convertToInteractive',\n",
              "                                                     [key], {});\n",
              "          if (!dataTable) return;\n",
              "\n",
              "          const docLinkHtml = 'Like what you see? Visit the ' +\n",
              "            '<a target=\"_blank\" href=https://colab.research.google.com/notebooks/data_table.ipynb>data table notebook</a>'\n",
              "            + ' to learn more about interactive tables.';\n",
              "          element.innerHTML = '';\n",
              "          dataTable['output_type'] = 'display_data';\n",
              "          await google.colab.output.renderOutput(dataTable, element);\n",
              "          const docLink = document.createElement('div');\n",
              "          docLink.innerHTML = docLinkHtml;\n",
              "          element.appendChild(docLink);\n",
              "        }\n",
              "      </script>\n",
              "    </div>\n",
              "  </div>\n",
              "  "
            ]
          },
          "metadata": {},
          "execution_count": 3
        }
      ],
      "source": [
        "#df=pd.read_csv('gdrive/My Drive/vol_10mins_furtherpreprocess.csv').fillna(0)\n",
        "df = pd.read_csv('gdrive/My Drive/price_df_10mins_furtherpreprocess_24hvol.csv').fillna(0)\n",
        "df['tx_timestamp'] = pd.to_datetime(df['tx_timestamp'],unit='ns')\n",
        "df = df.rename(columns = {\"tx_timestamp\":\"timestamp\",\"24rolling_vol\":\"volatility\"})\n",
        "display(df.head(3))\n",
        "df.tail()"
      ]
    },
    {
      "cell_type": "code",
      "execution_count": null,
      "metadata": {
        "colab": {
          "base_uri": "https://localhost:8080/"
        },
        "id": "V-idzOTbiuc0",
        "outputId": "76c77d2d-1ba2-468e-a238-fa000417f6ee"
      },
      "outputs": [
        {
          "output_type": "stream",
          "name": "stdout",
          "text": [
            "<class 'pandas.core.frame.DataFrame'>\n",
            "RangeIndex: 127690 entries, 0 to 127689\n",
            "Data columns (total 10 columns):\n",
            " #   Column      Non-Null Count   Dtype              \n",
            "---  ------      --------------   -----              \n",
            " 0   Unnamed: 0  127690 non-null  int64              \n",
            " 1   timestamp   127690 non-null  datetime64[ns, UTC]\n",
            " 2   first       127690 non-null  float64            \n",
            " 3   last        127690 non-null  float64            \n",
            " 4   mean        127690 non-null  float64            \n",
            " 5   vol_of_vol  127690 non-null  float64            \n",
            " 6   max         127690 non-null  float64            \n",
            " 7   min         127690 non-null  float64            \n",
            " 8   ret         127690 non-null  float64            \n",
            " 9   volatility  127690 non-null  float64            \n",
            "dtypes: datetime64[ns, UTC](1), float64(8), int64(1)\n",
            "memory usage: 9.7 MB\n"
          ]
        }
      ],
      "source": [
        "df.info()"
      ]
    },
    {
      "cell_type": "code",
      "execution_count": null,
      "metadata": {
        "colab": {
          "base_uri": "https://localhost:8080/",
          "height": 282
        },
        "id": "In1ByKUuY7H-",
        "outputId": "5b31b97b-25bf-4010-87d2-04edb654ede6"
      },
      "outputs": [
        {
          "output_type": "execute_result",
          "data": {
            "text/plain": [
              "[<matplotlib.lines.Line2D at 0x7fdd1620c390>]"
            ]
          },
          "metadata": {},
          "execution_count": 5
        },
        {
          "output_type": "display_data",
          "data": {
            "text/plain": [
              "<Figure size 432x288 with 1 Axes>"
            ],
            "image/png": "[encoded data removed]"
          },
          "metadata": {
            "needs_background": "light"
          }
        }
      ],
      "source": [
        "plt.plot(df['timestamp'],df['volatility'])"
      ]
    },
    {
      "cell_type": "code",
      "execution_count": null,
      "metadata": {
        "colab": {
          "base_uri": "https://localhost:8080/"
        },
        "id": "A1jxeNkoY8tE",
        "outputId": "7816e7dd-5068-4358-eb93-ecbe1f729cd9"
      },
      "outputs": [
        {
          "output_type": "execute_result",
          "data": {
            "text/plain": [
              "(127690, 10)"
            ]
          },
          "metadata": {},
          "execution_count": 6
        }
      ],
      "source": [
        "df.shape"
      ]
    },
    {
      "cell_type": "markdown",
      "source": [
        "### MLP"
      ],
      "metadata": {
        "id": "BGXpzql71A-O"
      }
    },
    {
      "cell_type": "code",
      "execution_count": null,
      "metadata": {
        "id": "WMq_8Ml11A-a"
      },
      "outputs": [],
      "source": [
        "train_start = '2020-05-26'\n",
        "train_end = '2022-07-31'\n",
        "dev_start = '2022-08-01'\n",
        "dev_end = '2022-09-30'\n",
        "test_start = '2022-10-01'\n",
        "test_end = '2022-10-31'"
      ]
    },
    {
      "cell_type": "code",
      "execution_count": null,
      "metadata": {
        "colab": {
          "base_uri": "https://localhost:8080/"
        },
        "outputId": "09cc72e8-a0a5-4662-f51b-60c9b2908c6e",
        "id": "oXVN4lTy1A-a"
      },
      "outputs": [
        {
          "output_type": "execute_result",
          "data": {
            "text/plain": [
              "((114499, 1), (8641, 1), (4264, 1))"
            ]
          },
          "metadata": {},
          "execution_count": 8
        }
      ],
      "source": [
        "train_dates = df[((df['timestamp'] >= train_start) & (df['timestamp'] <= train_end))]['volatility'].values.reshape((-1,1))\n",
        "dev_dates = df[((df['timestamp'] >= dev_start) & (df['timestamp'] <= dev_end))]['volatility'].values.reshape((-1,1))\n",
        "test_dates = df[((df['timestamp'] >= test_start) & (df['timestamp'] <= test_end))]['volatility'].values.reshape((-1,1))\n",
        "train_dates.shape, dev_dates.shape, test_dates.shape"
      ]
    },
    {
      "cell_type": "code",
      "source": [
        "# univariate mlp example\n",
        "from numpy import array\n",
        "from keras.models import Sequential\n",
        "from keras.layers import Dense\n",
        " \n",
        "# split a univariate sequence into samples\n",
        "def split_sequence(sequence, n_steps):\n",
        "\tX, y = list(), list()\n",
        "\tfor i in range(len(sequence)):\n",
        "\t\t# find the end of this pattern\n",
        "\t\tend_ix = i + n_steps\n",
        "\t\t# check if we are beyond the sequence\n",
        "\t\tif end_ix > len(sequence)-1:\n",
        "\t\t\tbreak\n",
        "\t\t# gather input and output parts of the pattern\n",
        "\t\tseq_x, seq_y = sequence[i:end_ix], sequence[end_ix]\n",
        "\t\tX.append(seq_x)\n",
        "\t\ty.append(seq_y)\n",
        "\treturn array(X), array(y)\n",
        " \n",
        "# define input sequence\n",
        "raw_seq = train_dates\n",
        "# choose a number of time steps\n",
        "days_look_back = 14\n",
        "n_steps = 24*6*days_look_back\n",
        "# split into samples\n",
        "X, y = split_sequence(raw_seq, n_steps)\n",
        "\n",
        "# define model\n",
        "model = Sequential()\n",
        "model.add(Dense(8, activation='relu', input_dim=n_steps))\n",
        "#model.add(Dense(64, activation='relu'))\n",
        "model.add(Dense(1))\n",
        "model.compile(optimizer='adam', loss=tf.keras.losses.MeanSquaredLogarithmicError())\n",
        "\n",
        "# fit model\n",
        "num_epochs = 100\n",
        "history = model.fit(X, y, epochs=num_epochs)"
      ],
      "metadata": {
        "id": "z8f8seCG1A-a",
        "colab": {
          "base_uri": "https://localhost:8080/"
        },
        "outputId": "5932767d-5d5e-49ca-dd2b-1f9ad4a87263"
      },
      "execution_count": null,
      "outputs": [
        {
          "output_type": "stream",
          "name": "stdout",
          "text": [
            "Epoch 1/100\n",
            "3516/3516 [==============================] - 17s 5ms/step - loss: 3.5718e-07\n",
            "Epoch 2/100\n",
            "3516/3516 [==============================] - 12s 3ms/step - loss: 1.4369e-07\n",
            "Epoch 3/100\n",
            "3516/3516 [==============================] - 8s 2ms/step - loss: 1.1332e-07\n",
            "Epoch 4/100\n",
            "3516/3516 [==============================] - 9s 3ms/step - loss: 9.9912e-08\n",
            "Epoch 5/100\n",
            "3516/3516 [==============================] - 8s 2ms/step - loss: 8.7107e-08\n",
            "Epoch 6/100\n",
            "3516/3516 [==============================] - 8s 2ms/step - loss: 8.2086e-08\n",
            "Epoch 7/100\n",
            "3516/3516 [==============================] - 8s 2ms/step - loss: 7.5968e-08\n",
            "Epoch 8/100\n",
            "3516/3516 [==============================] - 9s 3ms/step - loss: 7.2523e-08\n",
            "Epoch 9/100\n",
            "3516/3516 [==============================] - 10s 3ms/step - loss: 6.7824e-08\n",
            "Epoch 10/100\n",
            "3516/3516 [==============================] - 8s 2ms/step - loss: 6.8174e-08\n",
            "Epoch 11/100\n",
            "3516/3516 [==============================] - 8s 2ms/step - loss: 6.3174e-08\n",
            "Epoch 12/100\n",
            "3516/3516 [==============================] - 9s 3ms/step - loss: 6.4047e-08\n",
            "Epoch 13/100\n",
            "3516/3516 [==============================] - 8s 2ms/step - loss: 5.8063e-08\n",
            "Epoch 14/100\n",
            "3516/3516 [==============================] - 9s 2ms/step - loss: 5.8434e-08\n",
            "Epoch 15/100\n",
            "3516/3516 [==============================] - 8s 2ms/step - loss: 5.7246e-08\n",
            "Epoch 16/100\n",
            "3516/3516 [==============================] - 11s 3ms/step - loss: 5.4752e-08\n",
            "Epoch 17/100\n",
            "3516/3516 [==============================] - 8s 2ms/step - loss: 5.4298e-08\n",
            "Epoch 18/100\n",
            "3516/3516 [==============================] - 8s 2ms/step - loss: 5.3175e-08\n",
            "Epoch 19/100\n",
            "3516/3516 [==============================] - 8s 2ms/step - loss: 5.2154e-08\n",
            "Epoch 20/100\n",
            "3516/3516 [==============================] - 8s 2ms/step - loss: 5.4146e-08\n",
            "Epoch 21/100\n",
            "3516/3516 [==============================] - 8s 2ms/step - loss: 5.0297e-08\n",
            "Epoch 22/100\n",
            "3516/3516 [==============================] - 8s 2ms/step - loss: 5.1666e-08\n",
            "Epoch 23/100\n",
            "3516/3516 [==============================] - 8s 2ms/step - loss: 5.0133e-08\n",
            "Epoch 24/100\n",
            "3516/3516 [==============================] - 8s 2ms/step - loss: 5.0698e-08\n",
            "Epoch 25/100\n",
            "3516/3516 [==============================] - 8s 2ms/step - loss: 5.3091e-08\n",
            "Epoch 26/100\n",
            "3516/3516 [==============================] - 8s 2ms/step - loss: 4.7382e-08\n",
            "Epoch 27/100\n",
            "3516/3516 [==============================] - 8s 2ms/step - loss: 4.7711e-08\n",
            "Epoch 28/100\n",
            "3516/3516 [==============================] - 8s 2ms/step - loss: 4.6853e-08\n",
            "Epoch 29/100\n",
            "3516/3516 [==============================] - 8s 2ms/step - loss: 4.6796e-08\n",
            "Epoch 30/100\n",
            "3516/3516 [==============================] - 8s 2ms/step - loss: 4.5432e-08\n",
            "Epoch 31/100\n",
            "3516/3516 [==============================] - 10s 3ms/step - loss: 4.6268e-08\n",
            "Epoch 32/100\n",
            "3516/3516 [==============================] - 8s 2ms/step - loss: 4.5203e-08\n",
            "Epoch 33/100\n",
            "3516/3516 [==============================] - 8s 2ms/step - loss: 4.4953e-08\n",
            "Epoch 34/100\n",
            "3516/3516 [==============================] - 8s 2ms/step - loss: 4.6981e-08\n",
            "Epoch 35/100\n",
            "3516/3516 [==============================] - 8s 2ms/step - loss: 4.2422e-08\n",
            "Epoch 36/100\n",
            "3516/3516 [==============================] - 8s 2ms/step - loss: 4.4724e-08\n",
            "Epoch 37/100\n",
            "3516/3516 [==============================] - 9s 3ms/step - loss: 4.3340e-08\n",
            "Epoch 38/100\n",
            "3516/3516 [==============================] - 8s 2ms/step - loss: 4.3329e-08\n",
            "Epoch 39/100\n",
            "3516/3516 [==============================] - 8s 2ms/step - loss: 4.3020e-08\n",
            "Epoch 40/100\n",
            "3516/3516 [==============================] - 8s 2ms/step - loss: 4.2644e-08\n",
            "Epoch 41/100\n",
            "3516/3516 [==============================] - 8s 2ms/step - loss: 4.2142e-08\n",
            "Epoch 42/100\n",
            "3516/3516 [==============================] - 8s 2ms/step - loss: 4.1652e-08\n",
            "Epoch 43/100\n",
            "3516/3516 [==============================] - 8s 2ms/step - loss: 4.3298e-08\n",
            "Epoch 44/100\n",
            "3516/3516 [==============================] - 8s 2ms/step - loss: 4.1952e-08\n",
            "Epoch 45/100\n",
            "3516/3516 [==============================] - 8s 2ms/step - loss: 4.1814e-08\n",
            "Epoch 46/100\n",
            "3516/3516 [==============================] - 8s 2ms/step - loss: 4.1014e-08\n",
            "Epoch 47/100\n",
            "3516/3516 [==============================] - 8s 2ms/step - loss: 4.1463e-08\n",
            "Epoch 48/100\n",
            "3516/3516 [==============================] - 8s 2ms/step - loss: 4.1233e-08\n",
            "Epoch 49/100\n",
            "3516/3516 [==============================] - 8s 2ms/step - loss: 4.2349e-08\n",
            "Epoch 50/100\n",
            "3516/3516 [==============================] - 17s 5ms/step - loss: 4.1083e-08\n",
            "Epoch 51/100\n",
            "3516/3516 [==============================] - 8s 2ms/step - loss: 4.1114e-08\n",
            "Epoch 52/100\n",
            "3516/3516 [==============================] - 8s 2ms/step - loss: 4.1548e-08\n",
            "Epoch 53/100\n",
            "3516/3516 [==============================] - 8s 2ms/step - loss: 3.9929e-08\n",
            "Epoch 54/100\n",
            "3516/3516 [==============================] - 8s 2ms/step - loss: 4.0252e-08\n",
            "Epoch 55/100\n",
            "3516/3516 [==============================] - 8s 2ms/step - loss: 3.8864e-08\n",
            "Epoch 56/100\n",
            "3516/3516 [==============================] - 8s 2ms/step - loss: 4.0380e-08\n",
            "Epoch 57/100\n",
            "3516/3516 [==============================] - 8s 2ms/step - loss: 4.0088e-08\n",
            "Epoch 58/100\n",
            "3516/3516 [==============================] - 8s 2ms/step - loss: 4.0133e-08\n",
            "Epoch 59/100\n",
            "3516/3516 [==============================] - 9s 3ms/step - loss: 3.7852e-08\n",
            "Epoch 60/100\n",
            "3516/3516 [==============================] - 8s 2ms/step - loss: 4.1134e-08\n",
            "Epoch 61/100\n",
            "3516/3516 [==============================] - 8s 2ms/step - loss: 3.8627e-08\n",
            "Epoch 62/100\n",
            "3516/3516 [==============================] - 8s 2ms/step - loss: 3.9212e-08\n",
            "Epoch 63/100\n",
            "3516/3516 [==============================] - 8s 2ms/step - loss: 3.9084e-08\n",
            "Epoch 64/100\n",
            "3516/3516 [==============================] - 9s 2ms/step - loss: 3.8815e-08\n",
            "Epoch 65/100\n",
            "3516/3516 [==============================] - 9s 2ms/step - loss: 3.7824e-08\n",
            "Epoch 66/100\n",
            "3516/3516 [==============================] - 8s 2ms/step - loss: 3.8127e-08\n",
            "Epoch 67/100\n",
            "3516/3516 [==============================] - 8s 2ms/step - loss: 3.8702e-08\n",
            "Epoch 68/100\n",
            "3516/3516 [==============================] - 8s 2ms/step - loss: 3.9500e-08\n",
            "Epoch 69/100\n",
            "3516/3516 [==============================] - 8s 2ms/step - loss: 3.7029e-08\n",
            "Epoch 70/100\n",
            "3516/3516 [==============================] - 8s 2ms/step - loss: 3.8109e-08\n",
            "Epoch 71/100\n",
            "3516/3516 [==============================] - 8s 2ms/step - loss: 3.8182e-08\n",
            "Epoch 72/100\n",
            "3516/3516 [==============================] - 8s 2ms/step - loss: 3.8904e-08\n",
            "Epoch 73/100\n",
            "3516/3516 [==============================] - 8s 2ms/step - loss: 3.7888e-08\n",
            "Epoch 74/100\n",
            "3516/3516 [==============================] - 8s 2ms/step - loss: 3.7210e-08\n",
            "Epoch 75/100\n",
            "3516/3516 [==============================] - 8s 2ms/step - loss: 3.8996e-08\n",
            "Epoch 76/100\n",
            "3516/3516 [==============================] - 8s 2ms/step - loss: 3.7892e-08\n",
            "Epoch 77/100\n",
            "3516/3516 [==============================] - 8s 2ms/step - loss: 3.8656e-08\n",
            "Epoch 78/100\n",
            "3516/3516 [==============================] - 7s 2ms/step - loss: 3.7066e-08\n",
            "Epoch 79/100\n",
            "3516/3516 [==============================] - 7s 2ms/step - loss: 3.6058e-08\n",
            "Epoch 80/100\n",
            "3516/3516 [==============================] - 8s 2ms/step - loss: 3.7823e-08\n",
            "Epoch 81/100\n",
            "3516/3516 [==============================] - 8s 2ms/step - loss: 3.6140e-08\n",
            "Epoch 82/100\n",
            "3516/3516 [==============================] - 8s 2ms/step - loss: 3.9117e-08\n",
            "Epoch 83/100\n",
            "3516/3516 [==============================] - 8s 2ms/step - loss: 3.6701e-08\n",
            "Epoch 84/100\n",
            "3516/3516 [==============================] - 8s 2ms/step - loss: 3.6709e-08\n",
            "Epoch 85/100\n",
            "3516/3516 [==============================] - 8s 2ms/step - loss: 3.8215e-08\n",
            "Epoch 86/100\n",
            "3516/3516 [==============================] - 8s 2ms/step - loss: 3.8006e-08\n",
            "Epoch 87/100\n",
            "3516/3516 [==============================] - 8s 2ms/step - loss: 3.6339e-08\n",
            "Epoch 88/100\n",
            "3516/3516 [==============================] - 8s 2ms/step - loss: 3.6172e-08\n",
            "Epoch 89/100\n",
            "3516/3516 [==============================] - 8s 2ms/step - loss: 3.7083e-08\n",
            "Epoch 90/100\n",
            "3516/3516 [==============================] - 9s 3ms/step - loss: 3.6449e-08\n",
            "Epoch 91/100\n",
            "3516/3516 [==============================] - 8s 2ms/step - loss: 3.6645e-08\n",
            "Epoch 92/100\n",
            "3516/3516 [==============================] - 7s 2ms/step - loss: 3.5717e-08\n",
            "Epoch 93/100\n",
            "3516/3516 [==============================] - 8s 2ms/step - loss: 3.5805e-08\n",
            "Epoch 94/100\n",
            "3516/3516 [==============================] - 8s 2ms/step - loss: 3.5876e-08\n",
            "Epoch 95/100\n",
            "3516/3516 [==============================] - 10s 3ms/step - loss: 3.5979e-08\n",
            "Epoch 96/100\n",
            "3516/3516 [==============================] - 8s 2ms/step - loss: 3.5913e-08\n",
            "Epoch 97/100\n",
            "3516/3516 [==============================] - 8s 2ms/step - loss: 3.6515e-08\n",
            "Epoch 98/100\n",
            "3516/3516 [==============================] - 8s 2ms/step - loss: 3.6008e-08\n",
            "Epoch 99/100\n",
            "3516/3516 [==============================] - 8s 2ms/step - loss: 3.7003e-08\n",
            "Epoch 100/100\n",
            "3516/3516 [==============================] - 8s 2ms/step - loss: 3.5646e-08\n"
          ]
        }
      ]
    },
    {
      "cell_type": "code",
      "execution_count": null,
      "metadata": {
        "id": "JVcGM-PrQMZc",
        "colab": {
          "base_uri": "https://localhost:8080/"
        },
        "outputId": "1cf78313-6f9f-4d8c-9522-c4551d6de1bb"
      },
      "outputs": [
        {
          "output_type": "stream",
          "name": "stdout",
          "text": [
            "Model: \"sequential_1\"\n",
            "_________________________________________________________________\n",
            " Layer (type)                Output Shape              Param #   \n",
            "=================================================================\n",
            " dense_2 (Dense)             (None, 8)                 16136     \n",
            "                                                                 \n",
            " dense_3 (Dense)             (None, 1)                 9         \n",
            "                                                                 \n",
            "=================================================================\n",
            "Total params: 16,145\n",
            "Trainable params: 16,145\n",
            "Non-trainable params: 0\n",
            "_________________________________________________________________\n"
          ]
        }
      ],
      "source": [
        "model.summary()"
      ]
    },
    {
      "cell_type": "code",
      "execution_count": null,
      "metadata": {
        "id": "QUor7h0USFOd"
      },
      "outputs": [],
      "source": [
        "model_save_name = 'MLP8baseline_ep100_back14_rollvol_logMSE'\n",
        "model.save('/content/gdrive/My Drive/CS230proj/model_{}.h5'.format(model_save_name))"
      ]
    },
    {
      "cell_type": "code",
      "execution_count": null,
      "metadata": {
        "id": "7M7lUXUgSv-u"
      },
      "outputs": [],
      "source": [
        "#import tensorflow as tf\n",
        "#from tensorflow import keras\n",
        "#new_model = tf.keras.models.load_model('/content/gdrive/My Drive/CS230proj/model_{}.h5'.format(model_save_name))\n",
        "\n",
        "# Check its architecture\n",
        "#new_model.summary()"
      ]
    },
    {
      "cell_type": "code",
      "source": [
        "# demonstrate prediction\n",
        "X_dev, y_dev = split_sequence(dev_dates, n_steps)\n",
        "X_dev = X_dev.reshape((X_dev.shape[0], n_steps))\n",
        "y_dev_pred = model.predict(X_dev)\n",
        "y_train_pred = model.predict(X.reshape((X.shape[0], n_steps)))\n",
        "print(y_dev_pred.shape, y_train_pred.shape)"
      ],
      "metadata": {
        "id": "Kz27S8sd1A-a",
        "colab": {
          "base_uri": "https://localhost:8080/"
        },
        "outputId": "5fb117ed-73c9-4e4d-f2d2-d82cfb4c78a6"
      },
      "execution_count": null,
      "outputs": [
        {
          "output_type": "stream",
          "name": "stdout",
          "text": [
            "208/208 [==============================] - 0s 1ms/step\n",
            "3516/3516 [==============================] - 5s 1ms/step\n",
            "(6625, 1) (112483, 1)\n"
          ]
        }
      ]
    },
    {
      "cell_type": "code",
      "execution_count": null,
      "metadata": {
        "id": "4oEbq0yEQMe0",
        "colab": {
          "base_uri": "https://localhost:8080/"
        },
        "outputId": "9d590043-aad3-4d9d-ace0-a46c151c3fed"
      },
      "outputs": [
        {
          "output_type": "execute_result",
          "data": {
            "text/plain": [
              "0.13302465429895377"
            ]
          },
          "metadata": {},
          "execution_count": 18
        }
      ],
      "source": [
        "from sklearn.metrics import mean_absolute_percentage_error\n",
        "mean_absolute_percentage_error(y_dev_pred, dev_dates[24*6*days_look_back:])"
      ]
    },
    {
      "cell_type": "code",
      "execution_count": null,
      "metadata": {
        "id": "Zz6M65SaTYb_"
      },
      "outputs": [],
      "source": [
        "mean_absolute_percentage_error(y_train_pred, train_dates[24*6*days_look_back:])"
      ]
    }
  ],
  "metadata": {
    "colab": {
      "provenance": []
    },
    "kernelspec": {
      "display_name": "Python 3",
      "name": "python3"
    },
    "language_info": {
      "name": "python"
    }
  },
  "nbformat": 4,
  "nbformat_minor": 0
}