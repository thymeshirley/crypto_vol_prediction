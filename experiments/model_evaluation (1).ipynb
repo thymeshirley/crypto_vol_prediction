{
  "cells": [
    {
      "cell_type": "code",
      "execution_count": 1,
      "id": "9ca26c73-db8d-4078-9496-c3877404f68f",
      "metadata": {
        "id": "9ca26c73-db8d-4078-9496-c3877404f68f"
      },
      "outputs": [],
      "source": [
        "import pandas as pd\n",
        "from urllib.request import Request, urlopen\n",
        "from tensorflow.keras.models import Sequential\n",
        "from tensorflow.keras.layers import Activation, Dense, Dropout\n",
        "from keras.preprocessing.sequence import TimeseriesGenerator\n",
        "import matplotlib.pyplot as plt\n",
        "import numpy as np\n",
        "import time\n",
        "import sys\n",
        "import re\n",
        "import seaborn as sns\n",
        "import gc\n",
        "from sklearn.model_selection import train_test_split\n",
        "from sklearn.metrics import mean_absolute_percentage_error\n",
        "from sklearn.preprocessing import MinMaxScaler\n",
        "import seaborn as sns\n",
        "import matplotlib.pyplot as plt\n",
        "import math\n",
        "import tensorflow as tf\n",
        "pd.set_option('display.max_rows', None)"
      ]
    },
    {
      "cell_type": "code",
      "source": [
        "from google.colab import drive \n",
        "drive.mount('/content/gdrive')"
      ],
      "metadata": {
        "id": "qMXZuJiE6Ho-",
        "colab": {
          "base_uri": "https://localhost:8080/"
        },
        "outputId": "c93f0da7-3f56-4cd5-bd2b-4e56116e4ec6"
      },
      "id": "qMXZuJiE6Ho-",
      "execution_count": 2,
      "outputs": [
        {
          "output_type": "stream",
          "name": "stdout",
          "text": [
            "Mounted at /content/gdrive\n"
          ]
        }
      ]
    },
    {
      "cell_type": "code",
      "execution_count": 30,
      "id": "7ef2b70e-b44b-4c6d-9e4a-85fe00c63ee8",
      "metadata": {
        "id": "7ef2b70e-b44b-4c6d-9e4a-85fe00c63ee8",
        "outputId": "72a0f43b-250b-4899-8ed7-8c37729cabfe",
        "colab": {
          "base_uri": "https://localhost:8080/",
          "height": 143
        }
      },
      "outputs": [
        {
          "output_type": "display_data",
          "data": {
            "text/plain": [
              "   Unnamed: 0                 timestamp       first        last   mean  \\\n",
              "0           0 2020-05-26 21:00:00+00:00  201.177211  201.177211  201.0   \n",
              "1           1 2020-05-26 21:10:00+00:00         NaN         NaN    NaN   \n",
              "2           2 2020-05-26 21:20:00+00:00         NaN         NaN    NaN   \n",
              "\n",
              "   vol_of_vol         max         min  ret  24rolling_vol  \n",
              "0         NaN  201.177211  201.177211  0.0            NaN  \n",
              "1         NaN         NaN         NaN  NaN            NaN  \n",
              "2         NaN         NaN         NaN  NaN            NaN  "
            ],
            "text/html": [
              "\n",
              "  <div id=\"df-88bd3841-c6b2-4264-994e-ca5e5bbbab89\">\n",
              "    <div class=\"colab-df-container\">\n",
              "      <div>\n",
              "<style scoped>\n",
              "    .dataframe tbody tr th:only-of-type {\n",
              "        vertical-align: middle;\n",
              "    }\n",
              "\n",
              "    .dataframe tbody tr th {\n",
              "        vertical-align: top;\n",
              "    }\n",
              "\n",
              "    .dataframe thead th {\n",
              "        text-align: right;\n",
              "    }\n",
              "</style>\n",
              "<table border=\"1\" class=\"dataframe\">\n",
              "  <thead>\n",
              "    <tr style=\"text-align: right;\">\n",
              "      <th></th>\n",
              "      <th>Unnamed: 0</th>\n",
              "      <th>timestamp</th>\n",
              "      <th>first</th>\n",
              "      <th>last</th>\n",
              "      <th>mean</th>\n",
              "      <th>vol_of_vol</th>\n",
              "      <th>max</th>\n",
              "      <th>min</th>\n",
              "      <th>ret</th>\n",
              "      <th>24rolling_vol</th>\n",
              "    </tr>\n",
              "  </thead>\n",
              "  <tbody>\n",
              "    <tr>\n",
              "      <th>0</th>\n",
              "      <td>0</td>\n",
              "      <td>2020-05-26 21:00:00+00:00</td>\n",
              "      <td>201.177211</td>\n",
              "      <td>201.177211</td>\n",
              "      <td>201.0</td>\n",
              "      <td>NaN</td>\n",
              "      <td>201.177211</td>\n",
              "      <td>201.177211</td>\n",
              "      <td>0.0</td>\n",
              "      <td>NaN</td>\n",
              "    </tr>\n",
              "    <tr>\n",
              "      <th>1</th>\n",
              "      <td>1</td>\n",
              "      <td>2020-05-26 21:10:00+00:00</td>\n",
              "      <td>NaN</td>\n",
              "      <td>NaN</td>\n",
              "      <td>NaN</td>\n",
              "      <td>NaN</td>\n",
              "      <td>NaN</td>\n",
              "      <td>NaN</td>\n",
              "      <td>NaN</td>\n",
              "      <td>NaN</td>\n",
              "    </tr>\n",
              "    <tr>\n",
              "      <th>2</th>\n",
              "      <td>2</td>\n",
              "      <td>2020-05-26 21:20:00+00:00</td>\n",
              "      <td>NaN</td>\n",
              "      <td>NaN</td>\n",
              "      <td>NaN</td>\n",
              "      <td>NaN</td>\n",
              "      <td>NaN</td>\n",
              "      <td>NaN</td>\n",
              "      <td>NaN</td>\n",
              "      <td>NaN</td>\n",
              "    </tr>\n",
              "  </tbody>\n",
              "</table>\n",
              "</div>\n",
              "      <button class=\"colab-df-convert\" onclick=\"convertToInteractive('df-88bd3841-c6b2-4264-994e-ca5e5bbbab89')\"\n",
              "              title=\"Convert this dataframe to an interactive table.\"\n",
              "              style=\"display:none;\">\n",
              "        \n",
              "  <svg xmlns=\"http://www.w3.org/2000/svg\" height=\"24px\"viewBox=\"0 0 24 24\"\n",
              "       width=\"24px\">\n",
              "    <path d=\"M0 0h24v24H0V0z\" fill=\"none\"/>\n",
              "    <path d=\"M18.56 5.44l.94 2.06.94-2.06 2.06-.94-2.06-.94-.94-2.06-.94 2.06-2.06.94zm-11 1L8.5 8.5l.94-2.06 2.06-.94-2.06-.94L8.5 2.5l-.94 2.06-2.06.94zm10 10l.94 2.06.94-2.06 2.06-.94-2.06-.94-.94-2.06-.94 2.06-2.06.94z\"/><path d=\"M17.41 7.96l-1.37-1.37c-.4-.4-.92-.59-1.43-.59-.52 0-1.04.2-1.43.59L10.3 9.45l-7.72 7.72c-.78.78-.78 2.05 0 2.83L4 21.41c.39.39.9.59 1.41.59.51 0 1.02-.2 1.41-.59l7.78-7.78 2.81-2.81c.8-.78.8-2.07 0-2.86zM5.41 20L4 18.59l7.72-7.72 1.47 1.35L5.41 20z\"/>\n",
              "  </svg>\n",
              "      </button>\n",
              "      \n",
              "  <style>\n",
              "    .colab-df-container {\n",
              "      display:flex;\n",
              "      flex-wrap:wrap;\n",
              "      gap: 12px;\n",
              "    }\n",
              "\n",
              "    .colab-df-convert {\n",
              "      background-color: #E8F0FE;\n",
              "      border: none;\n",
              "      border-radius: 50%;\n",
              "      cursor: pointer;\n",
              "      display: none;\n",
              "      fill: #1967D2;\n",
              "      height: 32px;\n",
              "      padding: 0 0 0 0;\n",
              "      width: 32px;\n",
              "    }\n",
              "\n",
              "    .colab-df-convert:hover {\n",
              "      background-color: #E2EBFA;\n",
              "      box-shadow: 0px 1px 2px rgba(60, 64, 67, 0.3), 0px 1px 3px 1px rgba(60, 64, 67, 0.15);\n",
              "      fill: #174EA6;\n",
              "    }\n",
              "\n",
              "    [theme=dark] .colab-df-convert {\n",
              "      background-color: #3B4455;\n",
              "      fill: #D2E3FC;\n",
              "    }\n",
              "\n",
              "    [theme=dark] .colab-df-convert:hover {\n",
              "      background-color: #434B5C;\n",
              "      box-shadow: 0px 1px 3px 1px rgba(0, 0, 0, 0.15);\n",
              "      filter: drop-shadow(0px 1px 2px rgba(0, 0, 0, 0.3));\n",
              "      fill: #FFFFFF;\n",
              "    }\n",
              "  </style>\n",
              "\n",
              "      <script>\n",
              "        const buttonEl =\n",
              "          document.querySelector('#df-88bd3841-c6b2-4264-994e-ca5e5bbbab89 button.colab-df-convert');\n",
              "        buttonEl.style.display =\n",
              "          google.colab.kernel.accessAllowed ? 'block' : 'none';\n",
              "\n",
              "        async function convertToInteractive(key) {\n",
              "          const element = document.querySelector('#df-88bd3841-c6b2-4264-994e-ca5e5bbbab89');\n",
              "          const dataTable =\n",
              "            await google.colab.kernel.invokeFunction('convertToInteractive',\n",
              "                                                     [key], {});\n",
              "          if (!dataTable) return;\n",
              "\n",
              "          const docLinkHtml = 'Like what you see? Visit the ' +\n",
              "            '<a target=\"_blank\" href=https://colab.research.google.com/notebooks/data_table.ipynb>data table notebook</a>'\n",
              "            + ' to learn more about interactive tables.';\n",
              "          element.innerHTML = '';\n",
              "          dataTable['output_type'] = 'display_data';\n",
              "          await google.colab.output.renderOutput(dataTable, element);\n",
              "          const docLink = document.createElement('div');\n",
              "          docLink.innerHTML = docLinkHtml;\n",
              "          element.appendChild(docLink);\n",
              "        }\n",
              "      </script>\n",
              "    </div>\n",
              "  </div>\n",
              "  "
            ]
          },
          "metadata": {}
        }
      ],
      "source": [
        "df=pd.read_csv('/content/gdrive/My Drive/Colab Notebooks/price_df_10mins_furtherpreprocess_24hvol.csv')\n",
        "df['tx_timestamp'] = pd.to_datetime(df['tx_timestamp'],unit='ns')\n",
        "df = df.rename(columns = {\"tx_timestamp\":\"timestamp\",\"0\":\"volatility\"})\n",
        "display(df.head(3))\n",
        "df.tail()\n",
        "df = df.set_index('timestamp')\n",
        "vol_df =df[['24rolling_vol']]*np.sqrt(365)\n",
        "ret_df = df[['ret']].fillna(0)"
      ]
    },
    {
      "cell_type": "code",
      "source": [
        "df.tail()"
      ],
      "metadata": {
        "colab": {
          "base_uri": "https://localhost:8080/",
          "height": 238
        },
        "id": "ep6h4eJSJKpP",
        "outputId": "c24b9135-caf4-4e34-f5a6-13378d9ec7f0"
      },
      "id": "ep6h4eJSJKpP",
      "execution_count": 31,
      "outputs": [
        {
          "output_type": "execute_result",
          "data": {
            "text/plain": [
              "                           Unnamed: 0        first         last         mean  \\\n",
              "timestamp                                                                      \n",
              "2022-10-30 13:50:00+00:00      127685  1593.069968  1591.725668  1590.000000   \n",
              "2022-10-30 14:00:00+00:00      127686  1591.752575  1579.893707  1585.600000   \n",
              "2022-10-30 14:10:00+00:00      127687  1579.795094  1581.087842  1586.562500   \n",
              "2022-10-30 14:20:00+00:00      127688  1581.079224  1595.250643  1590.357143   \n",
              "2022-10-30 14:30:00+00:00      127689  1585.692455  1595.494499  1591.666667   \n",
              "\n",
              "                           vol_of_vol          max          min       ret  \\\n",
              "timestamp                                                                   \n",
              "2022-10-30 13:50:00+00:00    4.031129  1593.592900  1582.369607 -0.000844   \n",
              "2022-10-30 14:00:00+00:00    4.860149  1591.752575  1579.893707 -0.007450   \n",
              "2022-10-30 14:10:00+00:00    4.746490  1590.615992  1579.691428  0.000818   \n",
              "2022-10-30 14:20:00+00:00    4.620520  1595.250643  1581.079224  0.008963   \n",
              "2022-10-30 14:30:00+00:00    4.923660  1595.494499  1585.692455  0.006182   \n",
              "\n",
              "                           24rolling_vol  \n",
              "timestamp                                 \n",
              "2022-10-30 13:50:00+00:00       0.004805  \n",
              "2022-10-30 14:00:00+00:00       0.004798  \n",
              "2022-10-30 14:10:00+00:00       0.004794  \n",
              "2022-10-30 14:20:00+00:00       0.004857  \n",
              "2022-10-30 14:30:00+00:00       0.004841  "
            ],
            "text/html": [
              "\n",
              "  <div id=\"df-9f3ed591-4d17-48ca-a19b-3332fbdea488\">\n",
              "    <div class=\"colab-df-container\">\n",
              "      <div>\n",
              "<style scoped>\n",
              "    .dataframe tbody tr th:only-of-type {\n",
              "        vertical-align: middle;\n",
              "    }\n",
              "\n",
              "    .dataframe tbody tr th {\n",
              "        vertical-align: top;\n",
              "    }\n",
              "\n",
              "    .dataframe thead th {\n",
              "        text-align: right;\n",
              "    }\n",
              "</style>\n",
              "<table border=\"1\" class=\"dataframe\">\n",
              "  <thead>\n",
              "    <tr style=\"text-align: right;\">\n",
              "      <th></th>\n",
              "      <th>Unnamed: 0</th>\n",
              "      <th>first</th>\n",
              "      <th>last</th>\n",
              "      <th>mean</th>\n",
              "      <th>vol_of_vol</th>\n",
              "      <th>max</th>\n",
              "      <th>min</th>\n",
              "      <th>ret</th>\n",
              "      <th>24rolling_vol</th>\n",
              "    </tr>\n",
              "    <tr>\n",
              "      <th>timestamp</th>\n",
              "      <th></th>\n",
              "      <th></th>\n",
              "      <th></th>\n",
              "      <th></th>\n",
              "      <th></th>\n",
              "      <th></th>\n",
              "      <th></th>\n",
              "      <th></th>\n",
              "      <th></th>\n",
              "    </tr>\n",
              "  </thead>\n",
              "  <tbody>\n",
              "    <tr>\n",
              "      <th>2022-10-30 13:50:00+00:00</th>\n",
              "      <td>127685</td>\n",
              "      <td>1593.069968</td>\n",
              "      <td>1591.725668</td>\n",
              "      <td>1590.000000</td>\n",
              "      <td>4.031129</td>\n",
              "      <td>1593.592900</td>\n",
              "      <td>1582.369607</td>\n",
              "      <td>-0.000844</td>\n",
              "      <td>0.004805</td>\n",
              "    </tr>\n",
              "    <tr>\n",
              "      <th>2022-10-30 14:00:00+00:00</th>\n",
              "      <td>127686</td>\n",
              "      <td>1591.752575</td>\n",
              "      <td>1579.893707</td>\n",
              "      <td>1585.600000</td>\n",
              "      <td>4.860149</td>\n",
              "      <td>1591.752575</td>\n",
              "      <td>1579.893707</td>\n",
              "      <td>-0.007450</td>\n",
              "      <td>0.004798</td>\n",
              "    </tr>\n",
              "    <tr>\n",
              "      <th>2022-10-30 14:10:00+00:00</th>\n",
              "      <td>127687</td>\n",
              "      <td>1579.795094</td>\n",
              "      <td>1581.087842</td>\n",
              "      <td>1586.562500</td>\n",
              "      <td>4.746490</td>\n",
              "      <td>1590.615992</td>\n",
              "      <td>1579.691428</td>\n",
              "      <td>0.000818</td>\n",
              "      <td>0.004794</td>\n",
              "    </tr>\n",
              "    <tr>\n",
              "      <th>2022-10-30 14:20:00+00:00</th>\n",
              "      <td>127688</td>\n",
              "      <td>1581.079224</td>\n",
              "      <td>1595.250643</td>\n",
              "      <td>1590.357143</td>\n",
              "      <td>4.620520</td>\n",
              "      <td>1595.250643</td>\n",
              "      <td>1581.079224</td>\n",
              "      <td>0.008963</td>\n",
              "      <td>0.004857</td>\n",
              "    </tr>\n",
              "    <tr>\n",
              "      <th>2022-10-30 14:30:00+00:00</th>\n",
              "      <td>127689</td>\n",
              "      <td>1585.692455</td>\n",
              "      <td>1595.494499</td>\n",
              "      <td>1591.666667</td>\n",
              "      <td>4.923660</td>\n",
              "      <td>1595.494499</td>\n",
              "      <td>1585.692455</td>\n",
              "      <td>0.006182</td>\n",
              "      <td>0.004841</td>\n",
              "    </tr>\n",
              "  </tbody>\n",
              "</table>\n",
              "</div>\n",
              "      <button class=\"colab-df-convert\" onclick=\"convertToInteractive('df-9f3ed591-4d17-48ca-a19b-3332fbdea488')\"\n",
              "              title=\"Convert this dataframe to an interactive table.\"\n",
              "              style=\"display:none;\">\n",
              "        \n",
              "  <svg xmlns=\"http://www.w3.org/2000/svg\" height=\"24px\"viewBox=\"0 0 24 24\"\n",
              "       width=\"24px\">\n",
              "    <path d=\"M0 0h24v24H0V0z\" fill=\"none\"/>\n",
              "    <path d=\"M18.56 5.44l.94 2.06.94-2.06 2.06-.94-2.06-.94-.94-2.06-.94 2.06-2.06.94zm-11 1L8.5 8.5l.94-2.06 2.06-.94-2.06-.94L8.5 2.5l-.94 2.06-2.06.94zm10 10l.94 2.06.94-2.06 2.06-.94-2.06-.94-.94-2.06-.94 2.06-2.06.94z\"/><path d=\"M17.41 7.96l-1.37-1.37c-.4-.4-.92-.59-1.43-.59-.52 0-1.04.2-1.43.59L10.3 9.45l-7.72 7.72c-.78.78-.78 2.05 0 2.83L4 21.41c.39.39.9.59 1.41.59.51 0 1.02-.2 1.41-.59l7.78-7.78 2.81-2.81c.8-.78.8-2.07 0-2.86zM5.41 20L4 18.59l7.72-7.72 1.47 1.35L5.41 20z\"/>\n",
              "  </svg>\n",
              "      </button>\n",
              "      \n",
              "  <style>\n",
              "    .colab-df-container {\n",
              "      display:flex;\n",
              "      flex-wrap:wrap;\n",
              "      gap: 12px;\n",
              "    }\n",
              "\n",
              "    .colab-df-convert {\n",
              "      background-color: #E8F0FE;\n",
              "      border: none;\n",
              "      border-radius: 50%;\n",
              "      cursor: pointer;\n",
              "      display: none;\n",
              "      fill: #1967D2;\n",
              "      height: 32px;\n",
              "      padding: 0 0 0 0;\n",
              "      width: 32px;\n",
              "    }\n",
              "\n",
              "    .colab-df-convert:hover {\n",
              "      background-color: #E2EBFA;\n",
              "      box-shadow: 0px 1px 2px rgba(60, 64, 67, 0.3), 0px 1px 3px 1px rgba(60, 64, 67, 0.15);\n",
              "      fill: #174EA6;\n",
              "    }\n",
              "\n",
              "    [theme=dark] .colab-df-convert {\n",
              "      background-color: #3B4455;\n",
              "      fill: #D2E3FC;\n",
              "    }\n",
              "\n",
              "    [theme=dark] .colab-df-convert:hover {\n",
              "      background-color: #434B5C;\n",
              "      box-shadow: 0px 1px 3px 1px rgba(0, 0, 0, 0.15);\n",
              "      filter: drop-shadow(0px 1px 2px rgba(0, 0, 0, 0.3));\n",
              "      fill: #FFFFFF;\n",
              "    }\n",
              "  </style>\n",
              "\n",
              "      <script>\n",
              "        const buttonEl =\n",
              "          document.querySelector('#df-9f3ed591-4d17-48ca-a19b-3332fbdea488 button.colab-df-convert');\n",
              "        buttonEl.style.display =\n",
              "          google.colab.kernel.accessAllowed ? 'block' : 'none';\n",
              "\n",
              "        async function convertToInteractive(key) {\n",
              "          const element = document.querySelector('#df-9f3ed591-4d17-48ca-a19b-3332fbdea488');\n",
              "          const dataTable =\n",
              "            await google.colab.kernel.invokeFunction('convertToInteractive',\n",
              "                                                     [key], {});\n",
              "          if (!dataTable) return;\n",
              "\n",
              "          const docLinkHtml = 'Like what you see? Visit the ' +\n",
              "            '<a target=\"_blank\" href=https://colab.research.google.com/notebooks/data_table.ipynb>data table notebook</a>'\n",
              "            + ' to learn more about interactive tables.';\n",
              "          element.innerHTML = '';\n",
              "          dataTable['output_type'] = 'display_data';\n",
              "          await google.colab.output.renderOutput(dataTable, element);\n",
              "          const docLink = document.createElement('div');\n",
              "          docLink.innerHTML = docLinkHtml;\n",
              "          element.appendChild(docLink);\n",
              "        }\n",
              "      </script>\n",
              "    </div>\n",
              "  </div>\n",
              "  "
            ]
          },
          "metadata": {},
          "execution_count": 31
        }
      ]
    },
    {
      "cell_type": "code",
      "execution_count": 32,
      "id": "07c24f02-13cf-4d9e-8175-8bbf86c99ae6",
      "metadata": {
        "id": "07c24f02-13cf-4d9e-8175-8bbf86c99ae6"
      },
      "outputs": [],
      "source": [
        "vol_df = vol_df.fillna(method ='ffill')\n",
        "vol_df = vol_df.fillna(0)"
      ]
    },
    {
      "cell_type": "code",
      "source": [
        "vol_df.plot(figsize =(10,5))"
      ],
      "metadata": {
        "colab": {
          "base_uri": "https://localhost:8080/",
          "height": 362
        },
        "id": "6HQB-QbkrV-p",
        "outputId": "e22459ee-f1b4-43a3-9c61-f89dd1ba450d"
      },
      "id": "6HQB-QbkrV-p",
      "execution_count": 33,
      "outputs": [
        {
          "output_type": "execute_result",
          "data": {
            "text/plain": [
              "<matplotlib.axes._subplots.AxesSubplot at 0x7f348688b130>"
            ]
          },
          "metadata": {},
          "execution_count": 33
        },
        {
          "output_type": "display_data",
          "data": {
            "text/plain": [
              "<Figure size 720x360 with 1 Axes>"
            ],
            "image/png": "[encoded data removed]"
          },
          "metadata": {
            "needs_background": "light"
          }
        }
      ]
    },
    {
      "cell_type": "code",
      "execution_count": 34,
      "id": "6834f93a-daeb-485e-b34a-4a47cb3b33f0",
      "metadata": {
        "id": "6834f93a-daeb-485e-b34a-4a47cb3b33f0"
      },
      "outputs": [],
      "source": [
        "def get_training_data_split(df, train_start,train_end,dev_start,dev_end,test_start, test_end):\n",
        "    train_dates = df[((df.index >= train_start) & (df.index <= train_end))].values\n",
        "    dev_dates = df[((df.index >= dev_start) & (df.index <= dev_end))].values\n",
        "    test_dates = df[((df.index >= test_start) & (df.index <= test_end))].values\n",
        "    return train_dates, dev_dates,test_dates\n"
      ]
    },
    {
      "cell_type": "code",
      "execution_count": 35,
      "id": "3e973021-2565-41d0-86ba-3fa8d633137f",
      "metadata": {
        "id": "3e973021-2565-41d0-86ba-3fa8d633137f"
      },
      "outputs": [],
      "source": [
        "def get_MAPE(prediction, y):\n",
        "    MAPE = mean_absolute_percentage_error(prediction, y)\n",
        "    return MAPE"
      ]
    },
    {
      "cell_type": "code",
      "execution_count": 36,
      "id": "fca06352-47c3-408f-8c2d-975dac75582c",
      "metadata": {
        "id": "fca06352-47c3-408f-8c2d-975dac75582c"
      },
      "outputs": [],
      "source": [
        "def get_corr(prediction,y):\n",
        "    prediction_df = pd.DataFrame(prediction)\n",
        "    y_df          = pd.DataFrame(y)\n",
        "    concated_df   = pd.concat([prediction_df, y_df],axis =1)\n",
        "    return concated_df.corr().iloc[0,1]"
      ]
    },
    {
      "cell_type": "code",
      "source": [
        "def get_predictions(model, train_data_gen, dev_data_gen):\n",
        "  trainPredict = model.predict_generator(train_data_gen)\n",
        "  devPredict = model.predict_generator(dev_data_gen)\n",
        "  return trainPredict,devPredict"
      ],
      "metadata": {
        "id": "GBdzQyKkGRsK"
      },
      "id": "GBdzQyKkGRsK",
      "execution_count": 37,
      "outputs": []
    },
    {
      "cell_type": "markdown",
      "id": "6caae936-3f38-436e-86f8-3fa889190053",
      "metadata": {
        "id": "6caae936-3f38-436e-86f8-3fa889190053"
      },
      "source": [
        "### naive model "
      ]
    },
    {
      "cell_type": "code",
      "execution_count": 38,
      "id": "67edbefe-dbf5-492c-b148-53d3e028ba66",
      "metadata": {
        "id": "67edbefe-dbf5-492c-b148-53d3e028ba66"
      },
      "outputs": [],
      "source": [
        "train_start = '2020-05-26'\n",
        "train_end = '2022-07-31'\n",
        "dev_start = '2022-08-01'\n",
        "dev_end = '2022-09-30'\n",
        "test_start = '2022-10-01'\n",
        "test_end = '2022-10-31'\n",
        "days_look_back = 7\n",
        "n_input = 24*6*days_look_back"
      ]
    },
    {
      "cell_type": "code",
      "execution_count": 39,
      "id": "bb80439b-a2a3-42e8-a383-ab5a92602a5f",
      "metadata": {
        "id": "bb80439b-a2a3-42e8-a383-ab5a92602a5f"
      },
      "outputs": [],
      "source": [
        "train_data, dev_data, test_data =get_training_data_split(vol_df, train_start,train_end,dev_start,dev_end,test_start, test_end)\n",
        "train_naive_base = pd.DataFrame(train_data).ewm(halflife = n_input).mean()\n",
        "dev_naive_base = pd.DataFrame(dev_data).ewm(halflife = n_input).mean()"
      ]
    },
    {
      "cell_type": "code",
      "execution_count": 40,
      "id": "e2a52bbd-9941-4bed-b458-942790f63ca1",
      "metadata": {
        "id": "e2a52bbd-9941-4bed-b458-942790f63ca1"
      },
      "outputs": [],
      "source": [
        "vol_mean =  vol_df.ewm(halflife = n_input).mean()"
      ]
    },
    {
      "cell_type": "code",
      "execution_count": 41,
      "id": "c2200f8a-3227-4f34-98a5-cdba8e4d8210",
      "metadata": {
        "id": "c2200f8a-3227-4f34-98a5-cdba8e4d8210"
      },
      "outputs": [],
      "source": [
        "dev_naive_base = vol_mean [((vol_mean .index >= dev_start) & (vol_mean .index <= dev_end))].values"
      ]
    },
    {
      "cell_type": "code",
      "execution_count": 42,
      "id": "c18014c8-0e4b-4016-8deb-8b0f034029e0",
      "metadata": {
        "id": "c18014c8-0e4b-4016-8deb-8b0f034029e0",
        "outputId": "28d56696-a56f-4efe-a6af-9cb2d9020f0d",
        "colab": {
          "base_uri": "https://localhost:8080/"
        }
      },
      "outputs": [
        {
          "output_type": "execute_result",
          "data": {
            "text/plain": [
              "0.758802898993819"
            ]
          },
          "metadata": {},
          "execution_count": 42
        }
      ],
      "source": [
        "get_corr(train_naive_base.shift(1),train_data)"
      ]
    },
    {
      "cell_type": "code",
      "execution_count": 43,
      "id": "e4018d74-0434-4cfd-9cc1-61fc2b434b1a",
      "metadata": {
        "id": "e4018d74-0434-4cfd-9cc1-61fc2b434b1a",
        "outputId": "40931ed6-0eb6-4bf9-d5fe-f656b7444d7a",
        "colab": {
          "base_uri": "https://localhost:8080/",
          "height": 206
        }
      },
      "outputs": [
        {
          "output_type": "execute_result",
          "data": {
            "text/plain": [
              "               0\n",
              "114494  0.109449\n",
              "114495  0.109440\n",
              "114496  0.109430\n",
              "114497  0.109419\n",
              "114498  0.109409"
            ],
            "text/html": [
              "\n",
              "  <div id=\"df-f0f5ed65-e5e8-4d81-81af-ef253336eb0d\">\n",
              "    <div class=\"colab-df-container\">\n",
              "      <div>\n",
              "<style scoped>\n",
              "    .dataframe tbody tr th:only-of-type {\n",
              "        vertical-align: middle;\n",
              "    }\n",
              "\n",
              "    .dataframe tbody tr th {\n",
              "        vertical-align: top;\n",
              "    }\n",
              "\n",
              "    .dataframe thead th {\n",
              "        text-align: right;\n",
              "    }\n",
              "</style>\n",
              "<table border=\"1\" class=\"dataframe\">\n",
              "  <thead>\n",
              "    <tr style=\"text-align: right;\">\n",
              "      <th></th>\n",
              "      <th>0</th>\n",
              "    </tr>\n",
              "  </thead>\n",
              "  <tbody>\n",
              "    <tr>\n",
              "      <th>114494</th>\n",
              "      <td>0.109449</td>\n",
              "    </tr>\n",
              "    <tr>\n",
              "      <th>114495</th>\n",
              "      <td>0.109440</td>\n",
              "    </tr>\n",
              "    <tr>\n",
              "      <th>114496</th>\n",
              "      <td>0.109430</td>\n",
              "    </tr>\n",
              "    <tr>\n",
              "      <th>114497</th>\n",
              "      <td>0.109419</td>\n",
              "    </tr>\n",
              "    <tr>\n",
              "      <th>114498</th>\n",
              "      <td>0.109409</td>\n",
              "    </tr>\n",
              "  </tbody>\n",
              "</table>\n",
              "</div>\n",
              "      <button class=\"colab-df-convert\" onclick=\"convertToInteractive('df-f0f5ed65-e5e8-4d81-81af-ef253336eb0d')\"\n",
              "              title=\"Convert this dataframe to an interactive table.\"\n",
              "              style=\"display:none;\">\n",
              "        \n",
              "  <svg xmlns=\"http://www.w3.org/2000/svg\" height=\"24px\"viewBox=\"0 0 24 24\"\n",
              "       width=\"24px\">\n",
              "    <path d=\"M0 0h24v24H0V0z\" fill=\"none\"/>\n",
              "    <path d=\"M18.56 5.44l.94 2.06.94-2.06 2.06-.94-2.06-.94-.94-2.06-.94 2.06-2.06.94zm-11 1L8.5 8.5l.94-2.06 2.06-.94-2.06-.94L8.5 2.5l-.94 2.06-2.06.94zm10 10l.94 2.06.94-2.06 2.06-.94-2.06-.94-.94-2.06-.94 2.06-2.06.94z\"/><path d=\"M17.41 7.96l-1.37-1.37c-.4-.4-.92-.59-1.43-.59-.52 0-1.04.2-1.43.59L10.3 9.45l-7.72 7.72c-.78.78-.78 2.05 0 2.83L4 21.41c.39.39.9.59 1.41.59.51 0 1.02-.2 1.41-.59l7.78-7.78 2.81-2.81c.8-.78.8-2.07 0-2.86zM5.41 20L4 18.59l7.72-7.72 1.47 1.35L5.41 20z\"/>\n",
              "  </svg>\n",
              "      </button>\n",
              "      \n",
              "  <style>\n",
              "    .colab-df-container {\n",
              "      display:flex;\n",
              "      flex-wrap:wrap;\n",
              "      gap: 12px;\n",
              "    }\n",
              "\n",
              "    .colab-df-convert {\n",
              "      background-color: #E8F0FE;\n",
              "      border: none;\n",
              "      border-radius: 50%;\n",
              "      cursor: pointer;\n",
              "      display: none;\n",
              "      fill: #1967D2;\n",
              "      height: 32px;\n",
              "      padding: 0 0 0 0;\n",
              "      width: 32px;\n",
              "    }\n",
              "\n",
              "    .colab-df-convert:hover {\n",
              "      background-color: #E2EBFA;\n",
              "      box-shadow: 0px 1px 2px rgba(60, 64, 67, 0.3), 0px 1px 3px 1px rgba(60, 64, 67, 0.15);\n",
              "      fill: #174EA6;\n",
              "    }\n",
              "\n",
              "    [theme=dark] .colab-df-convert {\n",
              "      background-color: #3B4455;\n",
              "      fill: #D2E3FC;\n",
              "    }\n",
              "\n",
              "    [theme=dark] .colab-df-convert:hover {\n",
              "      background-color: #434B5C;\n",
              "      box-shadow: 0px 1px 3px 1px rgba(0, 0, 0, 0.15);\n",
              "      filter: drop-shadow(0px 1px 2px rgba(0, 0, 0, 0.3));\n",
              "      fill: #FFFFFF;\n",
              "    }\n",
              "  </style>\n",
              "\n",
              "      <script>\n",
              "        const buttonEl =\n",
              "          document.querySelector('#df-f0f5ed65-e5e8-4d81-81af-ef253336eb0d button.colab-df-convert');\n",
              "        buttonEl.style.display =\n",
              "          google.colab.kernel.accessAllowed ? 'block' : 'none';\n",
              "\n",
              "        async function convertToInteractive(key) {\n",
              "          const element = document.querySelector('#df-f0f5ed65-e5e8-4d81-81af-ef253336eb0d');\n",
              "          const dataTable =\n",
              "            await google.colab.kernel.invokeFunction('convertToInteractive',\n",
              "                                                     [key], {});\n",
              "          if (!dataTable) return;\n",
              "\n",
              "          const docLinkHtml = 'Like what you see? Visit the ' +\n",
              "            '<a target=\"_blank\" href=https://colab.research.google.com/notebooks/data_table.ipynb>data table notebook</a>'\n",
              "            + ' to learn more about interactive tables.';\n",
              "          element.innerHTML = '';\n",
              "          dataTable['output_type'] = 'display_data';\n",
              "          await google.colab.output.renderOutput(dataTable, element);\n",
              "          const docLink = document.createElement('div');\n",
              "          docLink.innerHTML = docLinkHtml;\n",
              "          element.appendChild(docLink);\n",
              "        }\n",
              "      </script>\n",
              "    </div>\n",
              "  </div>\n",
              "  "
            ]
          },
          "metadata": {},
          "execution_count": 43
        }
      ],
      "source": [
        "train_naive_base.tail()"
      ]
    },
    {
      "cell_type": "code",
      "execution_count": 44,
      "id": "e16e7a49-be8e-41de-abad-fa8ee3cd7ffd",
      "metadata": {
        "id": "e16e7a49-be8e-41de-abad-fa8ee3cd7ffd",
        "outputId": "8fb2f4ef-b0e2-43e3-c5d8-fa77ed7090ed",
        "colab": {
          "base_uri": "https://localhost:8080/",
          "height": 206
        }
      },
      "outputs": [
        {
          "output_type": "execute_result",
          "data": {
            "text/plain": [
              "     0\n",
              "0  0.0\n",
              "1  0.0\n",
              "2  0.0\n",
              "3  0.0\n",
              "4  0.0"
            ],
            "text/html": [
              "\n",
              "  <div id=\"df-357d6e55-675f-4296-979b-f7d0b12c647d\">\n",
              "    <div class=\"colab-df-container\">\n",
              "      <div>\n",
              "<style scoped>\n",
              "    .dataframe tbody tr th:only-of-type {\n",
              "        vertical-align: middle;\n",
              "    }\n",
              "\n",
              "    .dataframe tbody tr th {\n",
              "        vertical-align: top;\n",
              "    }\n",
              "\n",
              "    .dataframe thead th {\n",
              "        text-align: right;\n",
              "    }\n",
              "</style>\n",
              "<table border=\"1\" class=\"dataframe\">\n",
              "  <thead>\n",
              "    <tr style=\"text-align: right;\">\n",
              "      <th></th>\n",
              "      <th>0</th>\n",
              "    </tr>\n",
              "  </thead>\n",
              "  <tbody>\n",
              "    <tr>\n",
              "      <th>0</th>\n",
              "      <td>0.0</td>\n",
              "    </tr>\n",
              "    <tr>\n",
              "      <th>1</th>\n",
              "      <td>0.0</td>\n",
              "    </tr>\n",
              "    <tr>\n",
              "      <th>2</th>\n",
              "      <td>0.0</td>\n",
              "    </tr>\n",
              "    <tr>\n",
              "      <th>3</th>\n",
              "      <td>0.0</td>\n",
              "    </tr>\n",
              "    <tr>\n",
              "      <th>4</th>\n",
              "      <td>0.0</td>\n",
              "    </tr>\n",
              "  </tbody>\n",
              "</table>\n",
              "</div>\n",
              "      <button class=\"colab-df-convert\" onclick=\"convertToInteractive('df-357d6e55-675f-4296-979b-f7d0b12c647d')\"\n",
              "              title=\"Convert this dataframe to an interactive table.\"\n",
              "              style=\"display:none;\">\n",
              "        \n",
              "  <svg xmlns=\"http://www.w3.org/2000/svg\" height=\"24px\"viewBox=\"0 0 24 24\"\n",
              "       width=\"24px\">\n",
              "    <path d=\"M0 0h24v24H0V0z\" fill=\"none\"/>\n",
              "    <path d=\"M18.56 5.44l.94 2.06.94-2.06 2.06-.94-2.06-.94-.94-2.06-.94 2.06-2.06.94zm-11 1L8.5 8.5l.94-2.06 2.06-.94-2.06-.94L8.5 2.5l-.94 2.06-2.06.94zm10 10l.94 2.06.94-2.06 2.06-.94-2.06-.94-.94-2.06-.94 2.06-2.06.94z\"/><path d=\"M17.41 7.96l-1.37-1.37c-.4-.4-.92-.59-1.43-.59-.52 0-1.04.2-1.43.59L10.3 9.45l-7.72 7.72c-.78.78-.78 2.05 0 2.83L4 21.41c.39.39.9.59 1.41.59.51 0 1.02-.2 1.41-.59l7.78-7.78 2.81-2.81c.8-.78.8-2.07 0-2.86zM5.41 20L4 18.59l7.72-7.72 1.47 1.35L5.41 20z\"/>\n",
              "  </svg>\n",
              "      </button>\n",
              "      \n",
              "  <style>\n",
              "    .colab-df-container {\n",
              "      display:flex;\n",
              "      flex-wrap:wrap;\n",
              "      gap: 12px;\n",
              "    }\n",
              "\n",
              "    .colab-df-convert {\n",
              "      background-color: #E8F0FE;\n",
              "      border: none;\n",
              "      border-radius: 50%;\n",
              "      cursor: pointer;\n",
              "      display: none;\n",
              "      fill: #1967D2;\n",
              "      height: 32px;\n",
              "      padding: 0 0 0 0;\n",
              "      width: 32px;\n",
              "    }\n",
              "\n",
              "    .colab-df-convert:hover {\n",
              "      background-color: #E2EBFA;\n",
              "      box-shadow: 0px 1px 2px rgba(60, 64, 67, 0.3), 0px 1px 3px 1px rgba(60, 64, 67, 0.15);\n",
              "      fill: #174EA6;\n",
              "    }\n",
              "\n",
              "    [theme=dark] .colab-df-convert {\n",
              "      background-color: #3B4455;\n",
              "      fill: #D2E3FC;\n",
              "    }\n",
              "\n",
              "    [theme=dark] .colab-df-convert:hover {\n",
              "      background-color: #434B5C;\n",
              "      box-shadow: 0px 1px 3px 1px rgba(0, 0, 0, 0.15);\n",
              "      filter: drop-shadow(0px 1px 2px rgba(0, 0, 0, 0.3));\n",
              "      fill: #FFFFFF;\n",
              "    }\n",
              "  </style>\n",
              "\n",
              "      <script>\n",
              "        const buttonEl =\n",
              "          document.querySelector('#df-357d6e55-675f-4296-979b-f7d0b12c647d button.colab-df-convert');\n",
              "        buttonEl.style.display =\n",
              "          google.colab.kernel.accessAllowed ? 'block' : 'none';\n",
              "\n",
              "        async function convertToInteractive(key) {\n",
              "          const element = document.querySelector('#df-357d6e55-675f-4296-979b-f7d0b12c647d');\n",
              "          const dataTable =\n",
              "            await google.colab.kernel.invokeFunction('convertToInteractive',\n",
              "                                                     [key], {});\n",
              "          if (!dataTable) return;\n",
              "\n",
              "          const docLinkHtml = 'Like what you see? Visit the ' +\n",
              "            '<a target=\"_blank\" href=https://colab.research.google.com/notebooks/data_table.ipynb>data table notebook</a>'\n",
              "            + ' to learn more about interactive tables.';\n",
              "          element.innerHTML = '';\n",
              "          dataTable['output_type'] = 'display_data';\n",
              "          await google.colab.output.renderOutput(dataTable, element);\n",
              "          const docLink = document.createElement('div');\n",
              "          docLink.innerHTML = docLinkHtml;\n",
              "          element.appendChild(docLink);\n",
              "        }\n",
              "      </script>\n",
              "    </div>\n",
              "  </div>\n",
              "  "
            ]
          },
          "metadata": {},
          "execution_count": 44
        }
      ],
      "source": [
        "train_naive_base.head()"
      ]
    },
    {
      "cell_type": "code",
      "execution_count": 45,
      "id": "7e281cb3-f96b-46d4-b9dd-3a4456390ba9",
      "metadata": {
        "id": "7e281cb3-f96b-46d4-b9dd-3a4456390ba9",
        "outputId": "5e9f62e0-81ce-44ce-8b3a-f5a99e82d315",
        "colab": {
          "base_uri": "https://localhost:8080/",
          "height": 282
        }
      },
      "outputs": [
        {
          "output_type": "execute_result",
          "data": {
            "text/plain": [
              "[<matplotlib.lines.Line2D at 0x7f34854569a0>]"
            ]
          },
          "metadata": {},
          "execution_count": 45
        },
        {
          "output_type": "display_data",
          "data": {
            "text/plain": [
              "<Figure size 432x288 with 1 Axes>"
            ],
            "image/png": "[encoded data removed]"
          },
          "metadata": {
            "needs_background": "light"
          }
        }
      ],
      "source": [
        "plt.plot()\n",
        "plt.plot(train_naive_base)\n",
        "plt.plot(train_data)"
      ]
    },
    {
      "cell_type": "code",
      "execution_count": 46,
      "id": "246bef8d-59ce-437a-b4e2-f9fbd584cd47",
      "metadata": {
        "id": "246bef8d-59ce-437a-b4e2-f9fbd584cd47",
        "outputId": "9a6c2d7b-196c-472a-c9ab-e19ad2dccc70",
        "colab": {
          "base_uri": "https://localhost:8080/"
        }
      },
      "outputs": [
        {
          "output_type": "execute_result",
          "data": {
            "text/plain": [
              "4828507805.723582"
            ]
          },
          "metadata": {},
          "execution_count": 46
        }
      ],
      "source": [
        "get_MAPE(train_naive_base.shift(1).iloc[n_input:],train_data[n_input:])"
      ]
    },
    {
      "cell_type": "code",
      "execution_count": 47,
      "id": "502733dd-b096-4a80-a965-87918f2ff32c",
      "metadata": {
        "id": "502733dd-b096-4a80-a965-87918f2ff32c",
        "outputId": "b79f6e11-64b1-413b-c4ab-f03dfeee70bc",
        "colab": {
          "base_uri": "https://localhost:8080/",
          "height": 206
        }
      },
      "outputs": [
        {
          "output_type": "execute_result",
          "data": {
            "text/plain": [
              "        0\n",
              "1008  0.0\n",
              "1009  0.0\n",
              "1010  0.0\n",
              "1011  0.0\n",
              "1012  0.0"
            ],
            "text/html": [
              "\n",
              "  <div id=\"df-9f3d1b86-91e9-4be2-82c4-2aba0cbbfee7\">\n",
              "    <div class=\"colab-df-container\">\n",
              "      <div>\n",
              "<style scoped>\n",
              "    .dataframe tbody tr th:only-of-type {\n",
              "        vertical-align: middle;\n",
              "    }\n",
              "\n",
              "    .dataframe tbody tr th {\n",
              "        vertical-align: top;\n",
              "    }\n",
              "\n",
              "    .dataframe thead th {\n",
              "        text-align: right;\n",
              "    }\n",
              "</style>\n",
              "<table border=\"1\" class=\"dataframe\">\n",
              "  <thead>\n",
              "    <tr style=\"text-align: right;\">\n",
              "      <th></th>\n",
              "      <th>0</th>\n",
              "    </tr>\n",
              "  </thead>\n",
              "  <tbody>\n",
              "    <tr>\n",
              "      <th>1008</th>\n",
              "      <td>0.0</td>\n",
              "    </tr>\n",
              "    <tr>\n",
              "      <th>1009</th>\n",
              "      <td>0.0</td>\n",
              "    </tr>\n",
              "    <tr>\n",
              "      <th>1010</th>\n",
              "      <td>0.0</td>\n",
              "    </tr>\n",
              "    <tr>\n",
              "      <th>1011</th>\n",
              "      <td>0.0</td>\n",
              "    </tr>\n",
              "    <tr>\n",
              "      <th>1012</th>\n",
              "      <td>0.0</td>\n",
              "    </tr>\n",
              "  </tbody>\n",
              "</table>\n",
              "</div>\n",
              "      <button class=\"colab-df-convert\" onclick=\"convertToInteractive('df-9f3d1b86-91e9-4be2-82c4-2aba0cbbfee7')\"\n",
              "              title=\"Convert this dataframe to an interactive table.\"\n",
              "              style=\"display:none;\">\n",
              "        \n",
              "  <svg xmlns=\"http://www.w3.org/2000/svg\" height=\"24px\"viewBox=\"0 0 24 24\"\n",
              "       width=\"24px\">\n",
              "    <path d=\"M0 0h24v24H0V0z\" fill=\"none\"/>\n",
              "    <path d=\"M18.56 5.44l.94 2.06.94-2.06 2.06-.94-2.06-.94-.94-2.06-.94 2.06-2.06.94zm-11 1L8.5 8.5l.94-2.06 2.06-.94-2.06-.94L8.5 2.5l-.94 2.06-2.06.94zm10 10l.94 2.06.94-2.06 2.06-.94-2.06-.94-.94-2.06-.94 2.06-2.06.94z\"/><path d=\"M17.41 7.96l-1.37-1.37c-.4-.4-.92-.59-1.43-.59-.52 0-1.04.2-1.43.59L10.3 9.45l-7.72 7.72c-.78.78-.78 2.05 0 2.83L4 21.41c.39.39.9.59 1.41.59.51 0 1.02-.2 1.41-.59l7.78-7.78 2.81-2.81c.8-.78.8-2.07 0-2.86zM5.41 20L4 18.59l7.72-7.72 1.47 1.35L5.41 20z\"/>\n",
              "  </svg>\n",
              "      </button>\n",
              "      \n",
              "  <style>\n",
              "    .colab-df-container {\n",
              "      display:flex;\n",
              "      flex-wrap:wrap;\n",
              "      gap: 12px;\n",
              "    }\n",
              "\n",
              "    .colab-df-convert {\n",
              "      background-color: #E8F0FE;\n",
              "      border: none;\n",
              "      border-radius: 50%;\n",
              "      cursor: pointer;\n",
              "      display: none;\n",
              "      fill: #1967D2;\n",
              "      height: 32px;\n",
              "      padding: 0 0 0 0;\n",
              "      width: 32px;\n",
              "    }\n",
              "\n",
              "    .colab-df-convert:hover {\n",
              "      background-color: #E2EBFA;\n",
              "      box-shadow: 0px 1px 2px rgba(60, 64, 67, 0.3), 0px 1px 3px 1px rgba(60, 64, 67, 0.15);\n",
              "      fill: #174EA6;\n",
              "    }\n",
              "\n",
              "    [theme=dark] .colab-df-convert {\n",
              "      background-color: #3B4455;\n",
              "      fill: #D2E3FC;\n",
              "    }\n",
              "\n",
              "    [theme=dark] .colab-df-convert:hover {\n",
              "      background-color: #434B5C;\n",
              "      box-shadow: 0px 1px 3px 1px rgba(0, 0, 0, 0.15);\n",
              "      filter: drop-shadow(0px 1px 2px rgba(0, 0, 0, 0.3));\n",
              "      fill: #FFFFFF;\n",
              "    }\n",
              "  </style>\n",
              "\n",
              "      <script>\n",
              "        const buttonEl =\n",
              "          document.querySelector('#df-9f3d1b86-91e9-4be2-82c4-2aba0cbbfee7 button.colab-df-convert');\n",
              "        buttonEl.style.display =\n",
              "          google.colab.kernel.accessAllowed ? 'block' : 'none';\n",
              "\n",
              "        async function convertToInteractive(key) {\n",
              "          const element = document.querySelector('#df-9f3d1b86-91e9-4be2-82c4-2aba0cbbfee7');\n",
              "          const dataTable =\n",
              "            await google.colab.kernel.invokeFunction('convertToInteractive',\n",
              "                                                     [key], {});\n",
              "          if (!dataTable) return;\n",
              "\n",
              "          const docLinkHtml = 'Like what you see? Visit the ' +\n",
              "            '<a target=\"_blank\" href=https://colab.research.google.com/notebooks/data_table.ipynb>data table notebook</a>'\n",
              "            + ' to learn more about interactive tables.';\n",
              "          element.innerHTML = '';\n",
              "          dataTable['output_type'] = 'display_data';\n",
              "          await google.colab.output.renderOutput(dataTable, element);\n",
              "          const docLink = document.createElement('div');\n",
              "          docLink.innerHTML = docLinkHtml;\n",
              "          element.appendChild(docLink);\n",
              "        }\n",
              "      </script>\n",
              "    </div>\n",
              "  </div>\n",
              "  "
            ]
          },
          "metadata": {},
          "execution_count": 47
        }
      ],
      "source": [
        "train_naive_base.iloc[n_input:].head()"
      ]
    },
    {
      "cell_type": "code",
      "execution_count": 48,
      "id": "66e8c5b7-53a5-4b09-a6fd-c3e97b058073",
      "metadata": {
        "id": "66e8c5b7-53a5-4b09-a6fd-c3e97b058073",
        "outputId": "97fc98f8-5257-49ae-d98f-a06ea668cbad",
        "colab": {
          "base_uri": "https://localhost:8080/"
        }
      },
      "outputs": [
        {
          "output_type": "execute_result",
          "data": {
            "text/plain": [
              "0.09051468109097419"
            ]
          },
          "metadata": {},
          "execution_count": 48
        }
      ],
      "source": [
        "get_MAPE(pd.DataFrame(dev_naive_base).shift(1).iloc[1:],pd.DataFrame(dev_data).iloc[1:])"
      ]
    },
    {
      "cell_type": "code",
      "execution_count": 49,
      "id": "b933feb3-ee55-4972-99ed-ea6d64ada05b",
      "metadata": {
        "id": "b933feb3-ee55-4972-99ed-ea6d64ada05b",
        "outputId": "d903a06e-eddd-450c-e974-6dfa88366bd1",
        "colab": {
          "base_uri": "https://localhost:8080/"
        }
      },
      "outputs": [
        {
          "output_type": "execute_result",
          "data": {
            "text/plain": [
              "0.10299567747749101"
            ]
          },
          "metadata": {},
          "execution_count": 49
        }
      ],
      "source": [
        "get_corr(pd.DataFrame(dev_naive_base),pd.DataFrame(dev_data))"
      ]
    },
    {
      "cell_type": "code",
      "execution_count": null,
      "id": "33ca443f-bde8-480f-bbb6-28ca71edcde1",
      "metadata": {
        "id": "33ca443f-bde8-480f-bbb6-28ca71edcde1"
      },
      "outputs": [],
      "source": [
        "### evaluate LSTM vol"
      ]
    },
    {
      "cell_type": "code",
      "source": [
        "df_price = df.iloc[:,1:-2]\n",
        "df_price = df_price.drop(columns = 'vol_of_vol')\n",
        "df = df_price\n",
        "#df = pd.concat([df_price,vol_df],axis =1)\n",
        "train_y =  vol_df.fillna(method ='ffill')[((vol_df.index >= train_start) & (vol_df.index <= train_end))].values\n",
        "dev_y =  vol_df.fillna(method ='ffill')[((vol_df.index >= dev_start) & (vol_df.index <= dev_end))].values\n",
        "test_y =  vol_df.fillna(method ='ffill')[((vol_df.index >= test_start) & (vol_df.index <= test_end))].values\n",
        "\n",
        "train_dates = df[((df.index >= train_start) & (df.index <= train_end))].values\n",
        "dev_dates = df[((df.index >= dev_start) & (df.index <= dev_end))].values\n",
        "test_dates = df[((df.index >= test_start) & (df.index <= test_end))].values\n",
        "\n",
        "scaler = MinMaxScaler()\n",
        "scaler.fit(train_dates)\n",
        "scaler.fit(dev_dates)\n",
        "scaler.fit(test_dates)\n",
        "\n",
        "scaled_train_dates = scaler.transform(train_dates)*0.01\n",
        "scaled_dev_dates = scaler.transform(dev_dates)*0.01\n",
        "scaled_test_dates = scaler.transform(test_dates)*0.01\n",
        "\n",
        "days_look_back = 2\n",
        "n_input = 24*6*days_look_back\n",
        "n_features = 6\n",
        "train_data_gen = TimeseriesGenerator(scaled_train_dates  , train_y  ,length=n_input, batch_size=64)\n",
        "dev_data_gen = TimeseriesGenerator(scaled_dev_dates, dev_y,length=n_input, batch_size=64)\n",
        "test_data_gen = TimeseriesGenerator(scaled_test_dates, test_y,length=n_input, batch_size=64)\n"
      ],
      "metadata": {
        "id": "fpo9EEoPHOJY"
      },
      "id": "fpo9EEoPHOJY",
      "execution_count": 50,
      "outputs": []
    },
    {
      "cell_type": "code",
      "source": [
        "train_dates.shape"
      ],
      "metadata": {
        "colab": {
          "base_uri": "https://localhost:8080/"
        },
        "id": "_YytpydJI-ci",
        "outputId": "b63723f6-f923-4b0b-95ca-b154aab5d63f"
      },
      "id": "_YytpydJI-ci",
      "execution_count": 51,
      "outputs": [
        {
          "output_type": "execute_result",
          "data": {
            "text/plain": [
              "(114499, 5)"
            ]
          },
          "metadata": {},
          "execution_count": 51
        }
      ]
    },
    {
      "cell_type": "code",
      "source": [
        "df.tail()"
      ],
      "metadata": {
        "colab": {
          "base_uri": "https://localhost:8080/",
          "height": 238
        },
        "id": "xKnxHlcDJtMC",
        "outputId": "8cea3c38-289a-4405-9ab5-2afae4c01b9a"
      },
      "id": "xKnxHlcDJtMC",
      "execution_count": 52,
      "outputs": [
        {
          "output_type": "execute_result",
          "data": {
            "text/plain": [
              "                                 first         last         mean          max  \\\n",
              "timestamp                                                                       \n",
              "2022-10-30 13:50:00+00:00  1593.069968  1591.725668  1590.000000  1593.592900   \n",
              "2022-10-30 14:00:00+00:00  1591.752575  1579.893707  1585.600000  1591.752575   \n",
              "2022-10-30 14:10:00+00:00  1579.795094  1581.087842  1586.562500  1590.615992   \n",
              "2022-10-30 14:20:00+00:00  1581.079224  1595.250643  1590.357143  1595.250643   \n",
              "2022-10-30 14:30:00+00:00  1585.692455  1595.494499  1591.666667  1595.494499   \n",
              "\n",
              "                                   min  \n",
              "timestamp                               \n",
              "2022-10-30 13:50:00+00:00  1582.369607  \n",
              "2022-10-30 14:00:00+00:00  1579.893707  \n",
              "2022-10-30 14:10:00+00:00  1579.691428  \n",
              "2022-10-30 14:20:00+00:00  1581.079224  \n",
              "2022-10-30 14:30:00+00:00  1585.692455  "
            ],
            "text/html": [
              "\n",
              "  <div id=\"df-066e75e1-25d6-403c-a271-7ad2aeedb89d\">\n",
              "    <div class=\"colab-df-container\">\n",
              "      <div>\n",
              "<style scoped>\n",
              "    .dataframe tbody tr th:only-of-type {\n",
              "        vertical-align: middle;\n",
              "    }\n",
              "\n",
              "    .dataframe tbody tr th {\n",
              "        vertical-align: top;\n",
              "    }\n",
              "\n",
              "    .dataframe thead th {\n",
              "        text-align: right;\n",
              "    }\n",
              "</style>\n",
              "<table border=\"1\" class=\"dataframe\">\n",
              "  <thead>\n",
              "    <tr style=\"text-align: right;\">\n",
              "      <th></th>\n",
              "      <th>first</th>\n",
              "      <th>last</th>\n",
              "      <th>mean</th>\n",
              "      <th>max</th>\n",
              "      <th>min</th>\n",
              "    </tr>\n",
              "    <tr>\n",
              "      <th>timestamp</th>\n",
              "      <th></th>\n",
              "      <th></th>\n",
              "      <th></th>\n",
              "      <th></th>\n",
              "      <th></th>\n",
              "    </tr>\n",
              "  </thead>\n",
              "  <tbody>\n",
              "    <tr>\n",
              "      <th>2022-10-30 13:50:00+00:00</th>\n",
              "      <td>1593.069968</td>\n",
              "      <td>1591.725668</td>\n",
              "      <td>1590.000000</td>\n",
              "      <td>1593.592900</td>\n",
              "      <td>1582.369607</td>\n",
              "    </tr>\n",
              "    <tr>\n",
              "      <th>2022-10-30 14:00:00+00:00</th>\n",
              "      <td>1591.752575</td>\n",
              "      <td>1579.893707</td>\n",
              "      <td>1585.600000</td>\n",
              "      <td>1591.752575</td>\n",
              "      <td>1579.893707</td>\n",
              "    </tr>\n",
              "    <tr>\n",
              "      <th>2022-10-30 14:10:00+00:00</th>\n",
              "      <td>1579.795094</td>\n",
              "      <td>1581.087842</td>\n",
              "      <td>1586.562500</td>\n",
              "      <td>1590.615992</td>\n",
              "      <td>1579.691428</td>\n",
              "    </tr>\n",
              "    <tr>\n",
              "      <th>2022-10-30 14:20:00+00:00</th>\n",
              "      <td>1581.079224</td>\n",
              "      <td>1595.250643</td>\n",
              "      <td>1590.357143</td>\n",
              "      <td>1595.250643</td>\n",
              "      <td>1581.079224</td>\n",
              "    </tr>\n",
              "    <tr>\n",
              "      <th>2022-10-30 14:30:00+00:00</th>\n",
              "      <td>1585.692455</td>\n",
              "      <td>1595.494499</td>\n",
              "      <td>1591.666667</td>\n",
              "      <td>1595.494499</td>\n",
              "      <td>1585.692455</td>\n",
              "    </tr>\n",
              "  </tbody>\n",
              "</table>\n",
              "</div>\n",
              "      <button class=\"colab-df-convert\" onclick=\"convertToInteractive('df-066e75e1-25d6-403c-a271-7ad2aeedb89d')\"\n",
              "              title=\"Convert this dataframe to an interactive table.\"\n",
              "              style=\"display:none;\">\n",
              "        \n",
              "  <svg xmlns=\"http://www.w3.org/2000/svg\" height=\"24px\"viewBox=\"0 0 24 24\"\n",
              "       width=\"24px\">\n",
              "    <path d=\"M0 0h24v24H0V0z\" fill=\"none\"/>\n",
              "    <path d=\"M18.56 5.44l.94 2.06.94-2.06 2.06-.94-2.06-.94-.94-2.06-.94 2.06-2.06.94zm-11 1L8.5 8.5l.94-2.06 2.06-.94-2.06-.94L8.5 2.5l-.94 2.06-2.06.94zm10 10l.94 2.06.94-2.06 2.06-.94-2.06-.94-.94-2.06-.94 2.06-2.06.94z\"/><path d=\"M17.41 7.96l-1.37-1.37c-.4-.4-.92-.59-1.43-.59-.52 0-1.04.2-1.43.59L10.3 9.45l-7.72 7.72c-.78.78-.78 2.05 0 2.83L4 21.41c.39.39.9.59 1.41.59.51 0 1.02-.2 1.41-.59l7.78-7.78 2.81-2.81c.8-.78.8-2.07 0-2.86zM5.41 20L4 18.59l7.72-7.72 1.47 1.35L5.41 20z\"/>\n",
              "  </svg>\n",
              "      </button>\n",
              "      \n",
              "  <style>\n",
              "    .colab-df-container {\n",
              "      display:flex;\n",
              "      flex-wrap:wrap;\n",
              "      gap: 12px;\n",
              "    }\n",
              "\n",
              "    .colab-df-convert {\n",
              "      background-color: #E8F0FE;\n",
              "      border: none;\n",
              "      border-radius: 50%;\n",
              "      cursor: pointer;\n",
              "      display: none;\n",
              "      fill: #1967D2;\n",
              "      height: 32px;\n",
              "      padding: 0 0 0 0;\n",
              "      width: 32px;\n",
              "    }\n",
              "\n",
              "    .colab-df-convert:hover {\n",
              "      background-color: #E2EBFA;\n",
              "      box-shadow: 0px 1px 2px rgba(60, 64, 67, 0.3), 0px 1px 3px 1px rgba(60, 64, 67, 0.15);\n",
              "      fill: #174EA6;\n",
              "    }\n",
              "\n",
              "    [theme=dark] .colab-df-convert {\n",
              "      background-color: #3B4455;\n",
              "      fill: #D2E3FC;\n",
              "    }\n",
              "\n",
              "    [theme=dark] .colab-df-convert:hover {\n",
              "      background-color: #434B5C;\n",
              "      box-shadow: 0px 1px 3px 1px rgba(0, 0, 0, 0.15);\n",
              "      filter: drop-shadow(0px 1px 2px rgba(0, 0, 0, 0.3));\n",
              "      fill: #FFFFFF;\n",
              "    }\n",
              "  </style>\n",
              "\n",
              "      <script>\n",
              "        const buttonEl =\n",
              "          document.querySelector('#df-066e75e1-25d6-403c-a271-7ad2aeedb89d button.colab-df-convert');\n",
              "        buttonEl.style.display =\n",
              "          google.colab.kernel.accessAllowed ? 'block' : 'none';\n",
              "\n",
              "        async function convertToInteractive(key) {\n",
              "          const element = document.querySelector('#df-066e75e1-25d6-403c-a271-7ad2aeedb89d');\n",
              "          const dataTable =\n",
              "            await google.colab.kernel.invokeFunction('convertToInteractive',\n",
              "                                                     [key], {});\n",
              "          if (!dataTable) return;\n",
              "\n",
              "          const docLinkHtml = 'Like what you see? Visit the ' +\n",
              "            '<a target=\"_blank\" href=https://colab.research.google.com/notebooks/data_table.ipynb>data table notebook</a>'\n",
              "            + ' to learn more about interactive tables.';\n",
              "          element.innerHTML = '';\n",
              "          dataTable['output_type'] = 'display_data';\n",
              "          await google.colab.output.renderOutput(dataTable, element);\n",
              "          const docLink = document.createElement('div');\n",
              "          docLink.innerHTML = docLinkHtml;\n",
              "          element.appendChild(docLink);\n",
              "        }\n",
              "      </script>\n",
              "    </div>\n",
              "  </div>\n",
              "  "
            ]
          },
          "metadata": {},
          "execution_count": 52
        }
      ]
    },
    {
      "cell_type": "code",
      "execution_count": 53,
      "id": "21503f4f-f817-4843-8349-9fd0c93c270c",
      "metadata": {
        "id": "21503f4f-f817-4843-8349-9fd0c93c270c"
      },
      "outputs": [],
      "source": [
        "model_path = '/content/gdrive/My Drive/cs230models/model_evaluation/'"
      ]
    },
    {
      "cell_type": "code",
      "execution_count": 54,
      "id": "61d0102b-fc31-4a4b-9a79-0b13aa10d442",
      "metadata": {
        "id": "61d0102b-fc31-4a4b-9a79-0b13aa10d442"
      },
      "outputs": [],
      "source": [
        "lstm64_price_model = tf.keras.models.load_model(model_path +'model_lstm64_dense_pricevol_24hvol.h5')"
      ]
    },
    {
      "cell_type": "code",
      "source": [
        "lstm64_price_model.summary()"
      ],
      "metadata": {
        "colab": {
          "base_uri": "https://localhost:8080/"
        },
        "id": "iyYJrTeCFzj1",
        "outputId": "e3bfdf51-1ad4-4e90-8576-27082fd614b3"
      },
      "id": "iyYJrTeCFzj1",
      "execution_count": 55,
      "outputs": [
        {
          "output_type": "stream",
          "name": "stdout",
          "text": [
            "Model: \"sequential_6\"\n",
            "_________________________________________________________________\n",
            " Layer (type)                Output Shape              Param #   \n",
            "=================================================================\n",
            " lstm_6 (LSTM)               (None, 64)                17920     \n",
            "                                                                 \n",
            " dropout_6 (Dropout)         (None, 64)                0         \n",
            "                                                                 \n",
            " dense_6 (Dense)             (None, 1)                 65        \n",
            "                                                                 \n",
            "=================================================================\n",
            "Total params: 17,985\n",
            "Trainable params: 17,985\n",
            "Non-trainable params: 0\n",
            "_________________________________________________________________\n"
          ]
        }
      ]
    },
    {
      "cell_type": "code",
      "source": [
        "lstm64_price_trainPredict = lstm64_price_model.predict_generator(train_data_gen)\n",
        "lstm64_price_devPredict =lstm64_price_model.predict_generator(dev_data_gen)"
      ],
      "metadata": {
        "colab": {
          "base_uri": "https://localhost:8080/"
        },
        "id": "WTXbg7O5H8Y7",
        "outputId": "3dcf5f94-f8b6-419b-c1e0-333b99ca797b"
      },
      "id": "WTXbg7O5H8Y7",
      "execution_count": 56,
      "outputs": [
        {
          "output_type": "stream",
          "name": "stderr",
          "text": [
            "<ipython-input-56-3d4a653d78b7>:1: UserWarning: `Model.predict_generator` is deprecated and will be removed in a future version. Please use `Model.predict`, which supports generators.\n",
            "  lstm64_price_trainPredict = lstm64_price_model.predict_generator(train_data_gen)\n",
            "<ipython-input-56-3d4a653d78b7>:2: UserWarning: `Model.predict_generator` is deprecated and will be removed in a future version. Please use `Model.predict`, which supports generators.\n",
            "  lstm64_price_devPredict =lstm64_price_model.predict_generator(dev_data_gen)\n"
          ]
        }
      ]
    },
    {
      "cell_type": "code",
      "source": [
        "### Evaluate the price vol model"
      ],
      "metadata": {
        "id": "awFxJBbFYu7P"
      },
      "id": "awFxJBbFYu7P",
      "execution_count": null,
      "outputs": []
    },
    {
      "cell_type": "code",
      "source": [
        "lstm64_price_vol_model = tf.keras.models.load_model('/content/gdrive/My Drive/cs230models/model_lstm64_dense_pricevol_24hvol.h5')"
      ],
      "metadata": {
        "id": "6_fSDdrAXhY9"
      },
      "id": "6_fSDdrAXhY9",
      "execution_count": 57,
      "outputs": []
    },
    {
      "cell_type": "code",
      "source": [
        "lstm64_price_vol_model.summary()"
      ],
      "metadata": {
        "colab": {
          "base_uri": "https://localhost:8080/"
        },
        "id": "7KTkmCprfWJb",
        "outputId": "6a0c8d34-c84a-4418-db9a-98f38e68b786"
      },
      "id": "7KTkmCprfWJb",
      "execution_count": 58,
      "outputs": [
        {
          "output_type": "stream",
          "name": "stdout",
          "text": [
            "Model: \"sequential_3\"\n",
            "_________________________________________________________________\n",
            " Layer (type)                Output Shape              Param #   \n",
            "=================================================================\n",
            " lstm_3 (LSTM)               (None, 64)                18176     \n",
            "                                                                 \n",
            " dropout_3 (Dropout)         (None, 64)                0         \n",
            "                                                                 \n",
            " dense_3 (Dense)             (None, 1)                 65        \n",
            "                                                                 \n",
            "=================================================================\n",
            "Total params: 18,241\n",
            "Trainable params: 18,241\n",
            "Non-trainable params: 0\n",
            "_________________________________________________________________\n"
          ]
        }
      ]
    },
    {
      "cell_type": "code",
      "source": [
        "\n",
        "df = pd.concat([df,vol_df],axis =1)\n",
        "df = df.fillna(method = 'ffill')\n",
        "train_y =  vol_df.fillna(0).fillna(method ='ffill')[((vol_df.index >= train_start) & (vol_df.index <= train_end))].values\n",
        "dev_y =  vol_df.fillna(0).fillna(method ='ffill')[((vol_df.index >= dev_start) & (vol_df.index <= dev_end))].values\n",
        "test_y =  vol_df.fillna(0).fillna(method ='ffill')[((vol_df.index >= test_start) & (vol_df.index <= test_end))].values\n",
        "\n",
        "train_dates = df[((df.index >= train_start) & (df.index <= train_end))].values\n",
        "dev_dates = df[((df.index >= dev_start) & (df.index <= dev_end))].values\n",
        "test_dates = df[((df.index >= test_start) & (df.index <= test_end))].values\n",
        "\n",
        "scaler = MinMaxScaler()\n",
        "scaler.fit(train_dates)\n",
        "scaler.fit(dev_dates)\n",
        "scaler.fit(test_dates)\n",
        "\n",
        "scaled_train_dates = scaler.transform(train_dates)*0.01\n",
        "scaled_dev_dates = scaler.transform(dev_dates)*0.01\n",
        "scaled_test_dates = scaler.transform(test_dates)*0.01\n",
        "\n",
        "days_look_back = 2\n",
        "n_input = 24*6*days_look_back\n",
        "n_features = 6\n",
        "train_data_gen = TimeseriesGenerator(scaled_train_dates  , train_y  ,length=n_input, batch_size=64)\n",
        "dev_data_gen = TimeseriesGenerator(scaled_dev_dates, dev_y,length=n_input, batch_size=64)\n",
        "test_data_gen = TimeseriesGenerator(scaled_test_dates, test_y,length=n_input, batch_size=64)\n"
      ],
      "metadata": {
        "id": "XEcN7BEpYcUi"
      },
      "id": "XEcN7BEpYcUi",
      "execution_count": 59,
      "outputs": []
    },
    {
      "cell_type": "code",
      "source": [
        "train_index =  vol_df.fillna(0).fillna(method ='ffill')[((vol_df.index >= train_start) & (vol_df.index <= train_end))].index\n",
        "dev_index  =  vol_df.fillna(0).fillna(method ='ffill')[((vol_df.index >= dev_start) & (vol_df.index <= dev_end))].index\n",
        "test_index  =  vol_df.fillna(0).fillna(method ='ffill')[((vol_df.index >= test_start) & (vol_df.index <= test_end))].index"
      ],
      "metadata": {
        "id": "4JrJAPZfElsJ"
      },
      "id": "4JrJAPZfElsJ",
      "execution_count": 63,
      "outputs": []
    },
    {
      "cell_type": "code",
      "source": [
        "lstm64_price_vol_trainPredict = lstm64_price_vol_model.predict_generator(train_data_gen)\n",
        "lstm64_price_vol_devPredict =lstm64_price_vol_model.predict_generator(dev_data_gen)"
      ],
      "metadata": {
        "colab": {
          "base_uri": "https://localhost:8080/"
        },
        "id": "6PZfwlrQYTnA",
        "outputId": "31fa3882-b42b-4b58-fde6-89fd96860488"
      },
      "id": "6PZfwlrQYTnA",
      "execution_count": 60,
      "outputs": [
        {
          "output_type": "stream",
          "name": "stderr",
          "text": [
            "<ipython-input-60-45b2b162c1e0>:1: UserWarning: `Model.predict_generator` is deprecated and will be removed in a future version. Please use `Model.predict`, which supports generators.\n",
            "  lstm64_price_vol_trainPredict = lstm64_price_vol_model.predict_generator(train_data_gen)\n",
            "<ipython-input-60-45b2b162c1e0>:2: UserWarning: `Model.predict_generator` is deprecated and will be removed in a future version. Please use `Model.predict`, which supports generators.\n",
            "  lstm64_price_vol_devPredict =lstm64_price_vol_model.predict_generator(dev_data_gen)\n"
          ]
        }
      ]
    },
    {
      "cell_type": "code",
      "source": [
        "lstm64_price_vol_testPredict =lstm64_price_vol_model.predict_generator(test_data_gen)"
      ],
      "metadata": {
        "colab": {
          "base_uri": "https://localhost:8080/"
        },
        "id": "pW8RJ7N0FnhJ",
        "outputId": "62e8572f-5c46-49aa-a088-896aa3233b1a"
      },
      "id": "pW8RJ7N0FnhJ",
      "execution_count": 73,
      "outputs": [
        {
          "output_type": "stream",
          "name": "stderr",
          "text": [
            "<ipython-input-73-641159cc280e>:1: UserWarning: `Model.predict_generator` is deprecated and will be removed in a future version. Please use `Model.predict`, which supports generators.\n",
            "  lstm64_price_vol_testPredict =lstm64_price_vol_model.predict_generator(test_data_gen)\n"
          ]
        }
      ]
    },
    {
      "cell_type": "code",
      "source": [
        "plt.figure(figsize = (15,5))\n",
        "plt.plot(train_index[24*6*days_look_back:], pd.DataFrame(lstm64_price_vol_trainPredict).fillna(method = 'ffill').values)\n",
        "plt.plot(train_index[24*6*days_look_back:],pd.DataFrame(train_y[24*6*days_look_back:]).fillna(method ='ffill').values)\n",
        "plt.xlabel('Date')\n",
        "plt.ylabel('24h rolling volatility, annualized')\n",
        "plt.title('Train input and prediction')"
      ],
      "metadata": {
        "colab": {
          "base_uri": "https://localhost:8080/",
          "height": 367
        },
        "id": "ySEiRCL0eJYx",
        "outputId": "b0db09a9-1e67-4f12-b9ff-b0c52ecc143b"
      },
      "id": "ySEiRCL0eJYx",
      "execution_count": 71,
      "outputs": [
        {
          "output_type": "execute_result",
          "data": {
            "text/plain": [
              "Text(0.5, 1.0, 'Train input and prediction')"
            ]
          },
          "metadata": {},
          "execution_count": 71
        },
        {
          "output_type": "display_data",
          "data": {
            "text/plain": [
              "<Figure size 1080x360 with 1 Axes>"
            ],
            "image/png": "[encoded data removed]"
          },
          "metadata": {
            "needs_background": "light"
          }
        }
      ]
    },
    {
      "cell_type": "code",
      "source": [
        "plt.figure(figsize = (15,5))\n",
        "plt.plot(dev_index[24*6*days_look_back:],pd.DataFrame(lstm64_price_vol_devPredict).fillna(method = 'ffill').values)\n",
        "plt.plot(dev_index[24*6*days_look_back:],pd.DataFrame(dev_y[24*6*days_look_back:]).fillna(method ='ffill').values)\n",
        "plt.xlabel('Date')\n",
        "plt.ylabel('24h rolling volatility, annualized')\n",
        "plt.title('Dev input and prediction')"
      ],
      "metadata": {
        "colab": {
          "base_uri": "https://localhost:8080/",
          "height": 367
        },
        "id": "KlSh1UnKfGbM",
        "outputId": "c3b81733-4ff7-456d-9eaa-53a52cef4012"
      },
      "id": "KlSh1UnKfGbM",
      "execution_count": 72,
      "outputs": [
        {
          "output_type": "execute_result",
          "data": {
            "text/plain": [
              "Text(0.5, 1.0, 'Dev input and prediction')"
            ]
          },
          "metadata": {},
          "execution_count": 72
        },
        {
          "output_type": "display_data",
          "data": {
            "text/plain": [
              "<Figure size 1080x360 with 1 Axes>"
            ],
            "image/png": "[encoded data removed]"
          },
          "metadata": {
            "needs_background": "light"
          }
        }
      ]
    },
    {
      "cell_type": "code",
      "source": [
        "lstm64_price_vol_trainPredict"
      ],
      "metadata": {
        "colab": {
          "base_uri": "https://localhost:8080/"
        },
        "id": "nQRXdrGSka-n",
        "outputId": "131d9d19-c2ed-4efc-a3bd-196852351a53"
      },
      "id": "nQRXdrGSka-n",
      "execution_count": null,
      "outputs": [
        {
          "output_type": "execute_result",
          "data": {
            "text/plain": [
              "array([[0.00124581],\n",
              "       [0.00125138],\n",
              "       [0.00125665],\n",
              "       ...,\n",
              "       [0.08833831],\n",
              "       [0.08815083],\n",
              "       [0.0877315 ]], dtype=float32)"
            ]
          },
          "metadata": {},
          "execution_count": 129
        }
      ]
    },
    {
      "cell_type": "code",
      "source": [
        "get_MAPE(lstm64_price_vol_trainPredict,train_y[24*6*days_look_back:])"
      ],
      "metadata": {
        "colab": {
          "base_uri": "https://localhost:8080/"
        },
        "id": "x7P8NT0rgAPb",
        "outputId": "9793731d-6070-4f31-9dc6-49cfb9ff161d"
      },
      "id": "x7P8NT0rgAPb",
      "execution_count": null,
      "outputs": [
        {
          "output_type": "execute_result",
          "data": {
            "text/plain": [
              "0.1332945195462888"
            ]
          },
          "metadata": {},
          "execution_count": 131
        }
      ]
    },
    {
      "cell_type": "code",
      "source": [
        "get_MAPE(lstm64_price_vol_devPredict,dev_y[24*6*days_look_back:])"
      ],
      "metadata": {
        "colab": {
          "base_uri": "https://localhost:8080/"
        },
        "id": "WiN2G-RypQ9p",
        "outputId": "792bbfc9-3d5e-44ca-e6a3-e603b016d0d1"
      },
      "id": "WiN2G-RypQ9p",
      "execution_count": null,
      "outputs": [
        {
          "output_type": "execute_result",
          "data": {
            "text/plain": [
              "0.09950268163347607"
            ]
          },
          "metadata": {},
          "execution_count": 133
        }
      ]
    },
    {
      "cell_type": "code",
      "source": [
        "get_corr(lstm64_price_vol_trainPredict,train_y[24*6*days_look_back:])"
      ],
      "metadata": {
        "colab": {
          "base_uri": "https://localhost:8080/"
        },
        "id": "mGN3J7zEpwQY",
        "outputId": "7c78ac57-7e7f-4bb3-a0ae-ca472d6e29b6"
      },
      "id": "mGN3J7zEpwQY",
      "execution_count": null,
      "outputs": [
        {
          "output_type": "execute_result",
          "data": {
            "text/plain": [
              "0.9884333514551462"
            ]
          },
          "metadata": {},
          "execution_count": 135
        }
      ]
    },
    {
      "cell_type": "code",
      "source": [
        "get_corr(lstm64_price_vol_devPredict,dev_y[24*6*days_look_back:])"
      ],
      "metadata": {
        "colab": {
          "base_uri": "https://localhost:8080/"
        },
        "id": "0rw1jilxpruB",
        "outputId": "8ac38631-cf3b-4ead-f23d-2ffce45dc646"
      },
      "id": "0rw1jilxpruB",
      "execution_count": null,
      "outputs": [
        {
          "output_type": "execute_result",
          "data": {
            "text/plain": [
              "0.9722693289810972"
            ]
          },
          "metadata": {},
          "execution_count": 134
        }
      ]
    },
    {
      "cell_type": "code",
      "source": [
        "get_corr(lstm64_price_vol_testPredict,test_y[24*6*days_look_back:])"
      ],
      "metadata": {
        "colab": {
          "base_uri": "https://localhost:8080/"
        },
        "id": "BWHeogOBMXEi",
        "outputId": "f12c7d7b-40f3-48f1-bfb5-b62210c0a4b0"
      },
      "id": "BWHeogOBMXEi",
      "execution_count": 74,
      "outputs": [
        {
          "output_type": "execute_result",
          "data": {
            "text/plain": [
              "0.9742070346764211"
            ]
          },
          "metadata": {},
          "execution_count": 74
        }
      ]
    },
    {
      "cell_type": "code",
      "source": [
        "get_MAPE(lstm64_price_vol_testPredict,test_y[24*6*days_look_back:])"
      ],
      "metadata": {
        "colab": {
          "base_uri": "https://localhost:8080/"
        },
        "id": "_smICjf8OINq",
        "outputId": "d1ded37a-4386-4a02-b2bd-d3f04637d3f9"
      },
      "id": "_smICjf8OINq",
      "execution_count": 75,
      "outputs": [
        {
          "output_type": "execute_result",
          "data": {
            "text/plain": [
              "0.0896123348117722"
            ]
          },
          "metadata": {},
          "execution_count": 75
        }
      ]
    }
  ],
  "metadata": {
    "kernelspec": {
      "display_name": "Python 3 (ipykernel)",
      "language": "python",
      "name": "python3"
    },
    "language_info": {
      "codemirror_mode": {
        "name": "ipython",
        "version": 3
      },
      "file_extension": ".py",
      "mimetype": "text/x-python",
      "name": "python",
      "nbconvert_exporter": "python",
      "pygments_lexer": "ipython3",
      "version": "3.8.13"
    },
    "colab": {
      "provenance": []
    }
  },
  "nbformat": 4,
  "nbformat_minor": 5
}